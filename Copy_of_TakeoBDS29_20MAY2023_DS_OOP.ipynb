{
  "cells": [
    {
      "cell_type": "code",
      "execution_count": null,
      "metadata": {
        "id": "ReqDn8Nd31eM"
      },
      "outputs": [],
      "source": [
        "def prog_add(a,b):\n",
        "  return a+b"
      ]
    },
    {
      "cell_type": "code",
      "execution_count": null,
      "metadata": {
        "id": "oaO4Re9c4OjZ"
      },
      "outputs": [],
      "source": [
        "def prog_add(a,b,c):\n",
        "  return a+b+c"
      ]
    },
    {
      "cell_type": "code",
      "execution_count": null,
      "metadata": {
        "id": "WrhcuQw94UCP"
      },
      "outputs": [],
      "source": [
        "def prog_add(a,b,c,d,e,f,g,h,i,j):\n",
        "  return a+b+c+d+e+f+g+h+i+j"
      ]
    },
    {
      "cell_type": "markdown",
      "metadata": {
        "id": "X5G0qU2_6LAq"
      },
      "source": [
        "*args passes variable number of non-keyworded arguments and on which operation of the tuple can be performed."
      ]
    },
    {
      "cell_type": "code",
      "execution_count": null,
      "metadata": {
        "id": "R5cqF7MW5G0Q"
      },
      "outputs": [],
      "source": [
        "def prog_add(*args):\n",
        "  return sum(args)"
      ]
    },
    {
      "cell_type": "code",
      "execution_count": null,
      "metadata": {
        "colab": {
          "base_uri": "https://localhost:8080/"
        },
        "id": "AI5RhQxk5XXn",
        "outputId": "60b22459-30db-489f-b99e-37a972ad8a0e"
      },
      "outputs": [
        {
          "data": {
            "text/plain": [
              "66"
            ]
          },
          "execution_count": 6,
          "metadata": {},
          "output_type": "execute_result"
        }
      ],
      "source": [
        "prog_add(1,2,3,4,5,6,7,8,9,10,11)"
      ]
    },
    {
      "cell_type": "code",
      "execution_count": null,
      "metadata": {
        "colab": {
          "base_uri": "https://localhost:8080/"
        },
        "id": "X33VMGrN5djD",
        "outputId": "16e9b1d0-37fc-41b5-974c-323cfabda6b4"
      },
      "outputs": [
        {
          "data": {
            "text/plain": [
              "330"
            ]
          },
          "execution_count": 7,
          "metadata": {},
          "output_type": "execute_result"
        }
      ],
      "source": [
        "prog_add(1,2,3,4,5,6,7,8,9,10,11,1,2,3,4,5,6,7,8,9,10,11,1,2,3,4,5,6,7,8,9,10,11,1,2,3,4,5,6,7,8,9,10,11,1,2,3,4,5,6,7,8,9,10,11,)"
      ]
    },
    {
      "cell_type": "code",
      "execution_count": null,
      "metadata": {
        "colab": {
          "base_uri": "https://localhost:8080/"
        },
        "id": "Sb3SwpE06Jwr",
        "outputId": "f9067c9d-e97a-42d3-8ddc-cb875d282d68"
      },
      "outputs": [
        {
          "data": {
            "text/plain": [
              "9.9"
            ]
          },
          "execution_count": 8,
          "metadata": {},
          "output_type": "execute_result"
        }
      ],
      "source": [
        "prog_add(1,2,3,1.2,1.3,1.4)"
      ]
    },
    {
      "cell_type": "code",
      "execution_count": null,
      "metadata": {
        "id": "Lgd_mJWD6zkA"
      },
      "outputs": [],
      "source": [
        "def prog_add(*args):\n",
        "  print(args)"
      ]
    },
    {
      "cell_type": "code",
      "execution_count": null,
      "metadata": {
        "colab": {
          "base_uri": "https://localhost:8080/"
        },
        "id": "EANrz9K_6evh",
        "outputId": "4e61f81a-ac68-44ee-cf4f-95fa77b88778"
      },
      "outputs": [
        {
          "name": "stdout",
          "output_type": "stream",
          "text": [
            "([1, 2, 3, 1.2, 1.3, 1.4], (1, 2, 3, 1.2, 1.3, 1.4))\n"
          ]
        }
      ],
      "source": [
        "prog_add([1,2,3,1.2,1.3,1.4], (1,2,3,1.2,1.3,1.4))"
      ]
    },
    {
      "cell_type": "code",
      "execution_count": null,
      "metadata": {
        "colab": {
          "base_uri": "https://localhost:8080/"
        },
        "id": "J0NV-qTk66F5",
        "outputId": "a747f97c-3a65-4596-83f0-dc77d2aace83"
      },
      "outputs": [
        {
          "name": "stdout",
          "output_type": "stream",
          "text": [
            "(['apple', 'python', 11, -22, -33, 4.4, -5.5, (12+7j), (-9-8j), True, False], ('apple', 'python', 11, -22, -33, 4.4, -5.5, (12+7j), (-9-8j), True, False), {False, (12+7j), True, 4.4, -22, 11, (-9-8j), 'apple', 'python', -5.5, -33})\n"
          ]
        }
      ],
      "source": [
        "prog_add(['apple','python',11,-22,-33, 4.4,-5.5,12+7j,-9-8j,True,False],('apple','python',11,-22,-33, 4.4,-5.5,12+7j,-9-8j,True,False),{'apple','python',11,-22,-33, 4.4,-5.5,12+7j,-9-8j,True,False})"
      ]
    },
    {
      "cell_type": "markdown",
      "metadata": {
        "id": "QRoKLcQt8mEx"
      },
      "source": [
        "    What is Python *args?\n",
        "\n",
        "    The special syntax *args in function definitions in Python is used to pass a variable number of arguments to a function. It is used to pass a non-keyworded, variable-length argument list. \n",
        "\n",
        "    The syntax is to use the symbol * to take in a variable number of arguments; by convention, it is often used with the word args.\n",
        "    \n",
        "    What *args allows you to do is take in more arguments than the number of formal arguments that you previously defined. With *args, any number of extra arguments can be tacked on to your current formal parameters (including zero extra arguments).\n",
        "    \n",
        "    For example, we want to make a multiply function that takes any number of arguments and is able to multiply them all together. It can be done using *args.\n",
        "    \n",
        "    Using the *, the variable that we associate with the * becomes iterable meaning you can do things like iterate over it, run some higher-order functions such as map and filter, etc."
      ]
    },
    {
      "cell_type": "code",
      "execution_count": null,
      "metadata": {
        "id": "TWr-xh_N7moZ"
      },
      "outputs": [],
      "source": [
        "def arthi_operation(*python):\n",
        "  a = 0\n",
        "  for i in python:\n",
        "    print('value inside argument python ', i)\n",
        "    \n",
        "    a += i\n",
        "  return a"
      ]
    },
    {
      "cell_type": "code",
      "execution_count": null,
      "metadata": {
        "id": "uIEFvUEF_PPE"
      },
      "outputs": [],
      "source": [
        "arthi_operation(1,2,3,4,5,6,7,8,9,10,11,12)"
      ]
    },
    {
      "cell_type": "code",
      "execution_count": null,
      "metadata": {
        "colab": {
          "base_uri": "https://localhost:8080/"
        },
        "id": "8wRbZEldBHBP",
        "outputId": "34d68976-3c4e-4f9c-c4a8-49ba520bee76"
      },
      "outputs": [
        {
          "name": "stdout",
          "output_type": "stream",
          "text": [
            "First argument : Hello Welcome to\n",
            "Next argument through *argv : Python Program\n",
            "Next argument through *argv : Pune\n",
            "Next argument through *argv : Practice\n",
            "Next argument through *argv : Point to point\n"
          ]
        }
      ],
      "source": [
        "def myFun(arg1, arg2, arg3, *argv):\n",
        "    print(\"First argument :\", arg1, arg2, arg3)\n",
        "    for arg in argv:\n",
        "        print(\"Next argument through *argv :\", arg)\n",
        " \n",
        " \n",
        "myFun('Hello', 'Welcome', 'to', 'Python Program', 'Pune', \"Practice\", 'Point to point')"
      ]
    },
    {
      "cell_type": "code",
      "execution_count": null,
      "metadata": {
        "id": "r-1WT_dqCqR-"
      },
      "outputs": [],
      "source": [
        "def myFun(*argv, arg1, arg2, arg3):\n",
        "    print(\"First argument :\", arg1, arg2, arg3)\n",
        "    for arg in argv:\n",
        "        print(\"Next argument through *argv :\", arg)\n",
        " \n",
        " \n",
        "myFun('Hello', 'Welcome', 'to', 'Python Program', 'Pune', \"Practice\", 'Point to point')"
      ]
    },
    {
      "cell_type": "code",
      "execution_count": null,
      "metadata": {
        "colab": {
          "base_uri": "https://localhost:8080/"
        },
        "id": "PJuRMoDeDpij",
        "outputId": "e0a0935f-7bd3-412c-f690-3aca2f4dcd17"
      },
      "outputs": [
        {
          "name": "stdout",
          "output_type": "stream",
          "text": [
            "Next argument through *argv : Hello\n",
            "Next argument through *argv : Welcome\n",
            "Next argument through *argv : to\n",
            "Next argument through *argv : Python Program\n",
            "Next argument through *argv : Pune\n",
            "Next argument through *argv : Practice\n",
            "Next argument through *argv : Point to point\n"
          ]
        }
      ],
      "source": [
        "def myFun(*argv):\n",
        "    # print(\"First argument :\", arg1, arg2, arg3)\n",
        "    for arg in argv:\n",
        "        print(\"Next argument through *argv :\", arg)\n",
        " \n",
        " \n",
        "myFun('Hello', 'Welcome', 'to', 'Python Program', 'Pune', \"Practice\", 'Point to point')"
      ]
    },
    {
      "cell_type": "markdown",
      "metadata": {
        "id": "ghaej4AhEZlF"
      },
      "source": [
        "    What is Python **kwargs?\n",
        "\n",
        "\n",
        "    The special syntax **kwargs in function definitions in Python is used to pass a keyworded, variable-length argument list. We use the name kwargs with the double star. The reason is that the double star allows us to pass through keyword arguments (and any number of them).\n",
        "\n",
        "    A keyword argument is where you provide a name to the variable as you pass it into the function.\n",
        "\n",
        "\n",
        "    One can think of the kwargs as being a dictionary that maps each keyword to the value that we pass alongside it. That is why when we iterate over the kwargs there doesn’t seem to be any order in which they were printed out."
      ]
    },
    {
      "cell_type": "code",
      "execution_count": null,
      "metadata": {
        "id": "DS09AR1OD57s"
      },
      "outputs": [],
      "source": [
        "def display_val(**kwargs):\n",
        "  return kwargs"
      ]
    },
    {
      "cell_type": "code",
      "execution_count": null,
      "metadata": {
        "id": "7sDfsEhAE7pT"
      },
      "outputs": [],
      "source": [
        "display_val(1,2,3,4,5,6,7,8,9)"
      ]
    },
    {
      "cell_type": "code",
      "execution_count": null,
      "metadata": {
        "colab": {
          "base_uri": "https://localhost:8080/"
        },
        "id": "rvquuwmvFKRw",
        "outputId": "b7faabda-7475-465c-e7d0-4cc30179567a"
      },
      "outputs": [
        {
          "data": {
            "text/plain": [
              "{'num1': 1}"
            ]
          },
          "execution_count": 35,
          "metadata": {},
          "output_type": "execute_result"
        }
      ],
      "source": [
        "display_val(num1 = 1)"
      ]
    },
    {
      "cell_type": "code",
      "execution_count": null,
      "metadata": {
        "colab": {
          "base_uri": "https://localhost:8080/"
        },
        "id": "LV_t45PDFSpq",
        "outputId": "82138d4b-59c4-40ee-af20-d3b67bc0c979"
      },
      "outputs": [
        {
          "data": {
            "text/plain": [
              "{'num9': 1,\n",
              " 'num8': 2,\n",
              " 'num7': 3,\n",
              " 'num6': 4,\n",
              " 'num5': 5,\n",
              " 'num4': 6,\n",
              " 'num3': 7,\n",
              " 'num2': 8,\n",
              " 'num1': 9}"
            ]
          },
          "execution_count": 36,
          "metadata": {},
          "output_type": "execute_result"
        }
      ],
      "source": [
        "display_val(num9=1,num8=2,num7=3,num6=4,num5=5,num4=6,num3=7,num2=8,num1=9)"
      ]
    },
    {
      "cell_type": "code",
      "execution_count": null,
      "metadata": {
        "colab": {
          "base_uri": "https://localhost:8080/",
          "height": 131
        },
        "id": "U7guqlL9Gc1x",
        "outputId": "a341b15a-465c-466a-9d5d-3d1e38046c8f"
      },
      "outputs": [
        {
          "ename": "SyntaxError",
          "evalue": "ignored",
          "output_type": "error",
          "traceback": [
            "\u001b[0;36m  File \u001b[0;32m\"<ipython-input-43-c9a53b30ffc0>\"\u001b[0;36m, line \u001b[0;32m6\u001b[0m\n\u001b[0;31m    both_together(num9=1,num8=2,num7=3,num6=4,num5=5,1,2,3,4,5)\u001b[0m\n\u001b[0m                                                              ^\u001b[0m\n\u001b[0;31mSyntaxError\u001b[0m\u001b[0;31m:\u001b[0m positional argument follows keyword argument\n"
          ]
        }
      ],
      "source": [
        "# def both_together(*args,**kwargs):\n",
        "def both_together(*ramlal,**shyamlal):\n",
        "  return ramlal,shyamlal\n",
        "#both_together(1,2,3,4,5)\n",
        "#both_together(1,2,3,4,5,num9=1,num8=2,num7=3,num6=4,num5=5)\n",
        "both_together(num9=1,num8=2,num7=3,num6=4,num5=5,1,2,3,4,5)"
      ]
    },
    {
      "cell_type": "code",
      "execution_count": null,
      "metadata": {
        "id": "O1x433_nH940"
      },
      "outputs": [],
      "source": [
        "# def both_together(*args,**kwargs):\n",
        "def both_together(**shyamlal, *ramlal):\n",
        "  return ramlal,shyamlal\n",
        "#both_together(1,2,3,4,5)\n",
        "#both_together(1,2,3,4,5,num9=1,num8=2,num7=3,num6=4,num5=5)\n",
        "both_together(num9=1,num8=2,num7=3,num6=4,num5=5,1,2,3,4,5)"
      ]
    },
    {
      "cell_type": "code",
      "execution_count": null,
      "metadata": {
        "id": "eIodqSbPIdkl"
      },
      "outputs": [],
      "source": [
        "def both_together(arg1, arg2, arg3, *ramlal, **shyamlal):\n",
        "  pass"
      ]
    },
    {
      "cell_type": "code",
      "execution_count": null,
      "metadata": {
        "colab": {
          "base_uri": "https://localhost:8080/"
        },
        "id": "FDWL34Z1I3rM",
        "outputId": "f015bb5c-2cee-43e8-ed85-189d8fc3d634"
      },
      "outputs": [
        {
          "data": {
            "text/plain": [
              "(12,\n",
              " 23,\n",
              " 34,\n",
              " ([1, 2, 3, 4, 5],\n",
              "  (3, 4, 5, 6, 7),\n",
              "  {5, 6, 7, 8},\n",
              "  {'a': 'apple', 'b': 'banana', 'c': 'cherries'}),\n",
              " {'delta': [1, 2, 3, 4, 5],\n",
              "  'gamma': (3, 4, 5, 6, 7),\n",
              "  'beta': {5, 6, 7, 8},\n",
              "  'alpha': {'a': 'apple', 'b': 'banana', 'c': 'cherries'}})"
            ]
          },
          "execution_count": 46,
          "metadata": {},
          "output_type": "execute_result"
        }
      ],
      "source": [
        "def both_together(arg1, arg2, arg3, *ramlal, **shyamlal):\n",
        "  return arg1, arg2, arg3, ramlal, shyamlal\n",
        "\n",
        "both_together(12,23,34,[1,2,3,4,5],(3,4,5,6,7),{5,5,6,6,6,7,7,7,7,8,8,8,8,8},{'a':'apple','b':'banana','c':'cherries'}, delta=[1,2,3,4,5],gamma=(3,4,5,6,7),beta={5,5,6,6,6,7,7,7,7,8,8,8,8,8},alpha={'a':'apple','b':'banana','c':'cherries'})"
      ]
    },
    {
      "cell_type": "markdown",
      "metadata": {
        "id": "zDu5N28hBGy_"
      },
      "source": [
        "# Exception Handling"
      ]
    },
    {
      "cell_type": "code",
      "execution_count": null,
      "metadata": {
        "colab": {
          "base_uri": "https://localhost:8080/"
        },
        "id": "Ajl3MHn2BGhW",
        "outputId": "599d877f-f07b-4b72-d12f-bdc8d1d10926"
      },
      "outputs": [
        {
          "name": "stdout",
          "output_type": "stream",
          "text": [
            "Welcome to Python Programming\n"
          ]
        }
      ],
      "source": [
        "print(\"Welcome to Python Programming\")"
      ]
    },
    {
      "cell_type": "code",
      "execution_count": null,
      "metadata": {
        "colab": {
          "base_uri": "https://localhost:8080/",
          "height": 131
        },
        "id": "10iIdQ0tBYHd",
        "outputId": "14dfc498-810d-4469-df6a-8b54bd93646a"
      },
      "outputs": [
        {
          "ename": "SyntaxError",
          "evalue": "ignored",
          "output_type": "error",
          "traceback": [
            "\u001b[0;36m  File \u001b[0;32m\"<ipython-input-2-9fc60926d326>\"\u001b[0;36m, line \u001b[0;32m1\u001b[0m\n\u001b[0;31m    print(\"Welcome to Python Programming')\u001b[0m\n\u001b[0m          ^\u001b[0m\n\u001b[0;31mSyntaxError\u001b[0m\u001b[0;31m:\u001b[0m unterminated string literal (detected at line 1)\n"
          ]
        }
      ],
      "source": [
        "print(\"Welcome to Python Programming') # SyntaxError: unterminated string literal (detected at line 1)"
      ]
    },
    {
      "cell_type": "code",
      "execution_count": null,
      "metadata": {
        "colab": {
          "base_uri": "https://localhost:8080/",
          "height": 131
        },
        "id": "0PjnwdufBoXO",
        "outputId": "285877cc-6a74-43c2-cd69-574dfaeff5f4"
      },
      "outputs": [
        {
          "ename": "SyntaxError",
          "evalue": "ignored",
          "output_type": "error",
          "traceback": [
            "\u001b[0;36m  File \u001b[0;32m\"<ipython-input-3-515d424107db>\"\u001b[0;36m, line \u001b[0;32m1\u001b[0m\n\u001b[0;31m    for i in range(100)\u001b[0m\n\u001b[0m                       ^\u001b[0m\n\u001b[0;31mSyntaxError\u001b[0m\u001b[0;31m:\u001b[0m expected ':'\n"
          ]
        }
      ],
      "source": [
        "for i in range(100) # SyntaxError: expected ':'\n",
        "  print(i)"
      ]
    },
    {
      "cell_type": "code",
      "execution_count": null,
      "metadata": {
        "colab": {
          "base_uri": "https://localhost:8080/",
          "height": 131
        },
        "id": "3O8AUBjMBxWl",
        "outputId": "56d8b41a-0ad8-456a-dfdc-1b4ad58ff90b"
      },
      "outputs": [
        {
          "ename": "IndentationError",
          "evalue": "ignored",
          "output_type": "error",
          "traceback": [
            "\u001b[0;36m  File \u001b[0;32m\"<ipython-input-6-189b50165e6b>\"\u001b[0;36m, line \u001b[0;32m3\u001b[0m\n\u001b[0;31m    print('value of a', a) # IndentationError: expected an indented block after 'if' statement on line 2\u001b[0m\n\u001b[0m    ^\u001b[0m\n\u001b[0;31mIndentationError\u001b[0m\u001b[0;31m:\u001b[0m expected an indented block after 'if' statement on line 2\n"
          ]
        }
      ],
      "source": [
        "a=100\n",
        "if a > 10:\n",
        "print('value of a', a) # IndentationError: expected an indented block after 'if' statement on line 2"
      ]
    },
    {
      "cell_type": "code",
      "execution_count": null,
      "metadata": {
        "colab": {
          "base_uri": "https://localhost:8080/"
        },
        "id": "ItuMZorZCenM",
        "outputId": "0e0d48b2-272f-4035-f5bb-a9167af450f6"
      },
      "outputs": [
        {
          "name": "stdout",
          "output_type": "stream",
          "text": [
            "simple interest  50000.0\n"
          ]
        }
      ],
      "source": [
        "pri = 100000\n",
        "rate = 10\n",
        "dur = 5\n",
        "\n",
        "si = (pri*rate*dur)/100\n",
        "\n",
        "print(\"simple interest \", si)"
      ]
    },
    {
      "cell_type": "code",
      "execution_count": null,
      "metadata": {
        "colab": {
          "base_uri": "https://localhost:8080/",
          "height": 253
        },
        "id": "mVUFw3iVDc9M",
        "outputId": "47a4add0-7dec-4e7b-d0b0-742ab8f95e67"
      },
      "outputs": [
        {
          "name": "stdout",
          "output_type": "stream",
          "text": [
            "Please enter rate of intrest 0\n"
          ]
        },
        {
          "ename": "ZeroDivisionError",
          "evalue": "ignored",
          "output_type": "error",
          "traceback": [
            "\u001b[0;31m---------------------------------------------------------------------------\u001b[0m",
            "\u001b[0;31mZeroDivisionError\u001b[0m                         Traceback (most recent call last)",
            "\u001b[0;32m<ipython-input-14-0714eef9340d>\u001b[0m in \u001b[0;36m<cell line: 7>\u001b[0;34m()\u001b[0m\n\u001b[1;32m      5\u001b[0m \u001b[0;31m# si = (pri*rate*dur)/100\u001b[0m\u001b[0;34m\u001b[0m\u001b[0;34m\u001b[0m\u001b[0m\n\u001b[1;32m      6\u001b[0m \u001b[0;34m\u001b[0m\u001b[0m\n\u001b[0;32m----> 7\u001b[0;31m \u001b[0mpri\u001b[0m \u001b[0;34m=\u001b[0m \u001b[0;34m(\u001b[0m\u001b[0msi\u001b[0m \u001b[0;34m*\u001b[0m \u001b[0;36m100\u001b[0m\u001b[0;34m)\u001b[0m\u001b[0;34m/\u001b[0m\u001b[0;34m(\u001b[0m\u001b[0mrate\u001b[0m \u001b[0;34m*\u001b[0m \u001b[0mdur\u001b[0m\u001b[0;34m)\u001b[0m\u001b[0;34m\u001b[0m\u001b[0;34m\u001b[0m\u001b[0m\n\u001b[0m\u001b[1;32m      8\u001b[0m \u001b[0;34m\u001b[0m\u001b[0m\n\u001b[1;32m      9\u001b[0m \u001b[0mprint\u001b[0m\u001b[0;34m(\u001b[0m\u001b[0;34m\"principle \"\u001b[0m\u001b[0;34m,\u001b[0m \u001b[0mpri\u001b[0m\u001b[0;34m)\u001b[0m\u001b[0;34m\u001b[0m\u001b[0;34m\u001b[0m\u001b[0m\n",
            "\u001b[0;31mZeroDivisionError\u001b[0m: division by zero"
          ]
        }
      ],
      "source": [
        "si = 100000\n",
        "rate = int(input(\"Please enter rate of intrest \"))\n",
        "dur = 5\n",
        "\n",
        "# si = (pri*rate*dur)/100\n",
        "\n",
        "pri = (si * 100)/(rate * dur)\n",
        "\n",
        "print(\"principle \", pri)"
      ]
    },
    {
      "cell_type": "code",
      "execution_count": null,
      "metadata": {
        "id": "8M7Sc8UvFkpm"
      },
      "outputs": [],
      "source": [
        "del pri"
      ]
    },
    {
      "cell_type": "code",
      "execution_count": null,
      "metadata": {
        "colab": {
          "base_uri": "https://localhost:8080/"
        },
        "id": "EPFLgtDmFB3L",
        "outputId": "f9e77b63-b516-4c09-e4fd-6863b1bec28b"
      },
      "outputs": [
        {
          "name": "stdout",
          "output_type": "stream",
          "text": [
            "Please enter rate of intrest 0\n",
            "Exception ZeroDivisionError  division by zero\n"
          ]
        }
      ],
      "source": [
        "try:\n",
        "  si = 100000\n",
        "  rate = int(input(\"Please enter rate of intrest \"))\n",
        "  dur = 5\n",
        "\n",
        "  # si = (pri*rate*dur)/100\n",
        "\n",
        "  pri = (si * 100)/(rate * dur)\n",
        "except ZeroDivisionError as zde:\n",
        "  print('Exception ZeroDivisionError ', zde)"
      ]
    },
    {
      "cell_type": "code",
      "execution_count": null,
      "metadata": {
        "colab": {
          "base_uri": "https://localhost:8080/"
        },
        "id": "V1HCj_FiGueh",
        "outputId": "6a9c435d-fb2d-4887-c063-8c3b0ea1382c"
      },
      "outputs": [
        {
          "data": {
            "text/plain": [
              "(2, 1)"
            ]
          },
          "execution_count": 24,
          "metadata": {},
          "output_type": "execute_result"
        }
      ],
      "source": [
        "tup1 = (1,2,3,4,5)\n",
        "tup1.index(3), tup1.count(4)"
      ]
    },
    {
      "cell_type": "code",
      "execution_count": null,
      "metadata": {
        "colab": {
          "base_uri": "https://localhost:8080/",
          "height": 235
        },
        "id": "7u1qQCpQFxsS",
        "outputId": "af9b0964-8b0e-4d7f-f69c-b814b0ce976b"
      },
      "outputs": [
        {
          "ename": "AttributeError",
          "evalue": "ignored",
          "output_type": "error",
          "traceback": [
            "\u001b[0;31m---------------------------------------------------------------------------\u001b[0m",
            "\u001b[0;31mAttributeError\u001b[0m                            Traceback (most recent call last)",
            "\u001b[0;32m<ipython-input-19-f28304872919>\u001b[0m in \u001b[0;36m<cell line: 3>\u001b[0;34m()\u001b[0m\n\u001b[1;32m      1\u001b[0m \u001b[0mtup1\u001b[0m \u001b[0;34m=\u001b[0m \u001b[0;34m(\u001b[0m\u001b[0;36m1\u001b[0m\u001b[0;34m,\u001b[0m\u001b[0;36m2\u001b[0m\u001b[0;34m,\u001b[0m\u001b[0;36m3\u001b[0m\u001b[0;34m,\u001b[0m\u001b[0;36m4\u001b[0m\u001b[0;34m,\u001b[0m\u001b[0;36m5\u001b[0m\u001b[0;34m)\u001b[0m\u001b[0;34m\u001b[0m\u001b[0;34m\u001b[0m\u001b[0m\n\u001b[1;32m      2\u001b[0m \u001b[0;34m\u001b[0m\u001b[0m\n\u001b[0;32m----> 3\u001b[0;31m \u001b[0mtup1\u001b[0m\u001b[0;34m.\u001b[0m\u001b[0mappend\u001b[0m\u001b[0;34m(\u001b[0m\u001b[0;36m6\u001b[0m\u001b[0;34m)\u001b[0m\u001b[0;34m\u001b[0m\u001b[0;34m\u001b[0m\u001b[0m\n\u001b[0m\u001b[1;32m      4\u001b[0m \u001b[0;34m\u001b[0m\u001b[0m\n\u001b[1;32m      5\u001b[0m \u001b[0mprint\u001b[0m\u001b[0;34m(\u001b[0m\u001b[0mtup1\u001b[0m\u001b[0;34m)\u001b[0m\u001b[0;34m\u001b[0m\u001b[0;34m\u001b[0m\u001b[0m\n",
            "\u001b[0;31mAttributeError\u001b[0m: 'tuple' object has no attribute 'append'"
          ]
        }
      ],
      "source": [
        "tup1 = (1,2,3,4,5)\n",
        "tup1.index()\n",
        "tup1.count()\n",
        "\n",
        "tup1.append(6)\n",
        "\n",
        "print(tup1)"
      ]
    },
    {
      "cell_type": "code",
      "execution_count": null,
      "metadata": {
        "colab": {
          "base_uri": "https://localhost:8080/"
        },
        "id": "VlSkIJcRHBpk",
        "outputId": "18d50e68-6229-4d20-f8a3-12b51c335597"
      },
      "outputs": [
        {
          "name": "stdout",
          "output_type": "stream",
          "text": [
            "exception AttributeError  'tuple' object has no attribute 'append'\n"
          ]
        }
      ],
      "source": [
        "try:\n",
        "  tup1 = (1,2,3,4,5)\n",
        "\n",
        "  tup1.append(6)\n",
        "except AttributeError as ae:\n",
        "  print('exception AttributeError ', ae)"
      ]
    },
    {
      "cell_type": "code",
      "execution_count": null,
      "metadata": {
        "colab": {
          "base_uri": "https://localhost:8080/",
          "height": 201
        },
        "id": "UVEerInCHaCB",
        "outputId": "e749e341-2d43-4580-e147-24c4e9f06107"
      },
      "outputs": [
        {
          "ename": "IndexError",
          "evalue": "ignored",
          "output_type": "error",
          "traceback": [
            "\u001b[0;31m---------------------------------------------------------------------------\u001b[0m",
            "\u001b[0;31mIndexError\u001b[0m                                Traceback (most recent call last)",
            "\u001b[0;32m<ipython-input-28-120f6c4bd20c>\u001b[0m in \u001b[0;36m<cell line: 3>\u001b[0;34m()\u001b[0m\n\u001b[1;32m      2\u001b[0m \u001b[0;34m\u001b[0m\u001b[0m\n\u001b[1;32m      3\u001b[0m \u001b[0;32mfor\u001b[0m \u001b[0mi\u001b[0m \u001b[0;32min\u001b[0m \u001b[0mlst1\u001b[0m\u001b[0;34m:\u001b[0m\u001b[0;34m\u001b[0m\u001b[0;34m\u001b[0m\u001b[0m\n\u001b[0;32m----> 4\u001b[0;31m   \u001b[0mprint\u001b[0m\u001b[0;34m(\u001b[0m\u001b[0mlst1\u001b[0m\u001b[0;34m[\u001b[0m\u001b[0mi\u001b[0m\u001b[0;34m]\u001b[0m\u001b[0;34m)\u001b[0m\u001b[0;34m\u001b[0m\u001b[0;34m\u001b[0m\u001b[0m\n\u001b[0m",
            "\u001b[0;31mIndexError\u001b[0m: list index out of range"
          ]
        }
      ],
      "source": [
        "lst1 = [11,12,13,14,15,16,17,18,19,20]\n",
        "\n",
        "for i in lst1:\n",
        "  print(lst1[i])"
      ]
    },
    {
      "cell_type": "code",
      "execution_count": null,
      "metadata": {
        "colab": {
          "base_uri": "https://localhost:8080/"
        },
        "id": "do5Y49RNNQfd",
        "outputId": "d9273b2e-cac8-4dd4-8fff-21beaf019615"
      },
      "outputs": [
        {
          "name": "stdout",
          "output_type": "stream",
          "text": [
            "Exception IndexError  list index out of range\n"
          ]
        }
      ],
      "source": [
        "try:\n",
        "  lst1 = [11,12,13,14,15,16,17,18,19,20]\n",
        "\n",
        "  for i in lst1:\n",
        "    print(lst1[i])\n",
        "except IndexError as ie:\n",
        "  print('Exception IndexError ', ie)"
      ]
    },
    {
      "cell_type": "code",
      "execution_count": null,
      "metadata": {
        "colab": {
          "base_uri": "https://localhost:8080/"
        },
        "id": "JE8QK9P-NtoO",
        "outputId": "470645c2-bfec-4c6d-ff81-117f0fbe0f91"
      },
      "outputs": [
        {
          "name": "stdout",
          "output_type": "stream",
          "text": [
            "Exception  list index out of range\n"
          ]
        }
      ],
      "source": [
        "try:\n",
        "  lst1 = [11,12,13,14,15,16,17,18,19,20]\n",
        "\n",
        "  for i in lst1:\n",
        "    \n",
        "    print(lst1[i])\n",
        "except Exception as ie:\n",
        "  print('Exception ', ie)"
      ]
    },
    {
      "cell_type": "code",
      "execution_count": null,
      "metadata": {
        "colab": {
          "base_uri": "https://localhost:8080/"
        },
        "id": "INrhI7CkO-gk",
        "outputId": "a96b411b-6540-4923-c71f-2fd2729f62eb"
      },
      "outputs": [
        {
          "name": "stdout",
          "output_type": "stream",
          "text": [
            "Exception  list index out of range\n"
          ]
        }
      ],
      "source": [
        "try:\n",
        "  lst1 = [11,12,13,14,15,16,17,18,19,20]\n",
        "\n",
        "  for i in lst1:\n",
        "    print(lst1[i])\n",
        "except Exception as ie:\n",
        "  print('Exception ', ie)\n",
        "except IndexError as ie:\n",
        "  print('Exception IndexError ', ie)  "
      ]
    },
    {
      "cell_type": "code",
      "execution_count": null,
      "metadata": {
        "colab": {
          "base_uri": "https://localhost:8080/"
        },
        "id": "lCyuSD3oPbCp",
        "outputId": "5585fa9e-ac4b-40e5-ee00-c575d218b01b"
      },
      "outputs": [
        {
          "name": "stdout",
          "output_type": "stream",
          "text": [
            "Exception IndexError  tuple index out of range\n"
          ]
        }
      ],
      "source": [
        "try:\n",
        "  tup1 = (11,12,13,14,15,16,17,18,19,20)\n",
        "\n",
        "  for i in tup1:\n",
        "    print(tup1[i])\n",
        "    tup1.append(tup1[i])\n",
        "except IndexError as ie:\n",
        "  print('Exception IndexError ', ie)  \n",
        "except Exception as ie:\n",
        "  print('Exception ', ie)  "
      ]
    },
    {
      "cell_type": "code",
      "execution_count": null,
      "metadata": {
        "colab": {
          "base_uri": "https://localhost:8080/"
        },
        "id": "53vAOqKAQT4z",
        "outputId": "9716afe0-2038-4f9b-c084-174b192ee03a"
      },
      "outputs": [
        {
          "name": "stdout",
          "output_type": "stream",
          "text": [
            "Exception  'tuple' object has no attribute 'append'\n"
          ]
        }
      ],
      "source": [
        "try:\n",
        "  tup1 = (11,12,13,14,15,16,17,18,19,20)\n",
        "\n",
        "  for i in tup1:\n",
        "    tup1.append(tup1[i])\n",
        "    print(tup1[i])    \n",
        "except IndexError as ie:\n",
        "  print('Exception IndexError ', ie)  \n",
        "except Exception as ie:\n",
        "  print('Exception ', ie)  "
      ]
    },
    {
      "cell_type": "code",
      "execution_count": null,
      "metadata": {
        "id": "fHSU6LoZSKEL"
      },
      "outputs": [],
      "source": [
        "# write a program\n",
        "# 1. Exception\n",
        "# 2. ZeroDivisionError\n",
        "# 3. AttributeError\n",
        "# 4. IndexError"
      ]
    },
    {
      "cell_type": "code",
      "execution_count": null,
      "metadata": {
        "id": "rjWHZyz2J40j"
      },
      "outputs": [],
      "source": [
        "1. Syntax Error\n",
        "2. Logical Error \n",
        "3. Runtime Error"
      ]
    },
    {
      "cell_type": "code",
      "execution_count": null,
      "metadata": {
        "colab": {
          "base_uri": "https://localhost:8080/",
          "height": 339
        },
        "id": "CuRyt4pNKMWv",
        "outputId": "93571a4a-52c3-47bc-dd1b-de107d1ad70f"
      },
      "outputs": [
        {
          "ename": "ModuleNotFoundError",
          "evalue": "ignored",
          "output_type": "error",
          "traceback": [
            "\u001b[0;31m---------------------------------------------------------------------------\u001b[0m",
            "\u001b[0;31mModuleNotFoundError\u001b[0m                       Traceback (most recent call last)",
            "\u001b[0;32m<ipython-input-2-4458063ae9af>\u001b[0m in \u001b[0;36m<cell line: 5>\u001b[0;34m()\u001b[0m\n\u001b[1;32m      3\u001b[0m \u001b[0;34m\u001b[0m\u001b[0m\n\u001b[1;32m      4\u001b[0m \u001b[0;32mimport\u001b[0m \u001b[0mpandas\u001b[0m\u001b[0;34m\u001b[0m\u001b[0;34m\u001b[0m\u001b[0m\n\u001b[0;32m----> 5\u001b[0;31m \u001b[0;32mimport\u001b[0m \u001b[0mpazdas\u001b[0m\u001b[0;34m\u001b[0m\u001b[0;34m\u001b[0m\u001b[0m\n\u001b[0m",
            "\u001b[0;31mModuleNotFoundError\u001b[0m: No module named 'pazdas'",
            "",
            "\u001b[0;31m---------------------------------------------------------------------------\u001b[0;32m\nNOTE: If your import is failing due to a missing package, you can\nmanually install dependencies using either !pip or !apt.\n\nTo view examples of installing some common dependencies, click the\n\"Open Examples\" button below.\n\u001b[0;31m---------------------------------------------------------------------------\u001b[0m\n"
          ]
        }
      ],
      "source": [
        "# ImportError\n",
        "# ModuleNotFoundError \n",
        "\n",
        "import pandas \n",
        "import pazdas # ModuleNotFoundError: No module named 'pazdas'"
      ]
    },
    {
      "cell_type": "code",
      "execution_count": null,
      "metadata": {
        "id": "ShGYeKPSMLcP"
      },
      "outputs": [],
      "source": [
        "# FileExistsError\n",
        "# FileNotFoundError"
      ]
    },
    {
      "cell_type": "code",
      "execution_count": null,
      "metadata": {
        "id": "aTUeF_J0MVk9"
      },
      "outputs": [],
      "source": [
        "# File Handling\n",
        "\n",
        "\"r\" - Read - Default value. Opens a file for reading, error if the file does not exist\n",
        "\n",
        "\"a\" - Append - Opens a file for appending, creates the file if it does not exist\n",
        "\n",
        "\"w\" - Write - Opens a file for writing, creates the file if it does not exist\n",
        "\n",
        "\"x\" - Create - Creates the specified file, returns an error if the file exists"
      ]
    },
    {
      "cell_type": "code",
      "execution_count": null,
      "metadata": {
        "id": "UO3T8qgDMY8P"
      },
      "outputs": [],
      "source": [
        "f = open(\"NewFile18052023.txt\", 'x')"
      ]
    },
    {
      "cell_type": "code",
      "execution_count": null,
      "metadata": {
        "id": "3cdfdWpcNEGu"
      },
      "outputs": [],
      "source": [
        "f = open('NewFile18052023.txt')"
      ]
    },
    {
      "cell_type": "code",
      "execution_count": null,
      "metadata": {
        "id": "xJHYPAGwNLU9"
      },
      "outputs": [],
      "source": [
        "f = open('NewFile18052023.txt', 'rt')"
      ]
    },
    {
      "cell_type": "code",
      "execution_count": null,
      "metadata": {
        "id": "SQxiscsKNZv0"
      },
      "outputs": [],
      "source": [
        "f = open(\"NewFile18052023.txt\", 'w')"
      ]
    },
    {
      "cell_type": "code",
      "execution_count": null,
      "metadata": {
        "colab": {
          "base_uri": "https://localhost:8080/"
        },
        "id": "pXueoXgVN0Q8",
        "outputId": "97c7f8c5-24cc-45bd-b17a-348b4733ee43"
      },
      "outputs": [
        {
          "data": {
            "text/plain": [
              "42"
            ]
          },
          "execution_count": 8,
          "metadata": {},
          "output_type": "execute_result"
        }
      ],
      "source": [
        "len(\"this is my first file handling programming\")"
      ]
    },
    {
      "cell_type": "code",
      "execution_count": null,
      "metadata": {
        "colab": {
          "base_uri": "https://localhost:8080/"
        },
        "id": "v4Hf5hBDNpGH",
        "outputId": "c1a8f476-a88a-4675-8a55-767d33e03f59"
      },
      "outputs": [
        {
          "data": {
            "text/plain": [
              "42"
            ]
          },
          "execution_count": 7,
          "metadata": {},
          "output_type": "execute_result"
        }
      ],
      "source": [
        "f.write(\"this is my first file handling programming\")"
      ]
    },
    {
      "cell_type": "code",
      "execution_count": null,
      "metadata": {
        "id": "89a56vgLN2Io"
      },
      "outputs": [],
      "source": [
        "f.close()"
      ]
    },
    {
      "cell_type": "code",
      "execution_count": null,
      "metadata": {
        "id": "2p8j-hEhN7i1"
      },
      "outputs": [],
      "source": [
        "f = open('NewFile18052023.txt', 'r')"
      ]
    },
    {
      "cell_type": "code",
      "execution_count": null,
      "metadata": {
        "colab": {
          "base_uri": "https://localhost:8080/"
        },
        "id": "dyLU-UJ5N_c5",
        "outputId": "5f6137dc-0381-4299-beb8-f8ccd6b63967"
      },
      "outputs": [
        {
          "name": "stdout",
          "output_type": "stream",
          "text": [
            "this is my first file handling programming\n"
          ]
        }
      ],
      "source": [
        "print(f.read())"
      ]
    },
    {
      "cell_type": "code",
      "execution_count": null,
      "metadata": {
        "id": "HbmNMl6qOaEG"
      },
      "outputs": [],
      "source": [
        "f = open(\"NewFile18052023.txt\", 'a')"
      ]
    },
    {
      "cell_type": "code",
      "execution_count": null,
      "metadata": {
        "colab": {
          "base_uri": "https://localhost:8080/"
        },
        "id": "8YwodrMjOkp7",
        "outputId": "349efb43-8bda-435a-910b-4ffd2b21c3df"
      },
      "outputs": [
        {
          "data": {
            "text/plain": [
              "38"
            ]
          },
          "execution_count": 13,
          "metadata": {},
          "output_type": "execute_result"
        }
      ],
      "source": [
        "f.write(\"this is second line of my text file...\")"
      ]
    },
    {
      "cell_type": "code",
      "execution_count": null,
      "metadata": {
        "id": "kNSJHa_XOs7t"
      },
      "outputs": [],
      "source": [
        "f.close()"
      ]
    },
    {
      "cell_type": "code",
      "execution_count": null,
      "metadata": {
        "id": "6VnYxU4pOxBY"
      },
      "outputs": [],
      "source": [
        "f = open('NewFile18052023.txt', 'r')"
      ]
    },
    {
      "cell_type": "code",
      "execution_count": null,
      "metadata": {
        "colab": {
          "base_uri": "https://localhost:8080/"
        },
        "id": "jfuCAV_4Oy6k",
        "outputId": "3d4f2c29-4546-43f8-8460-3c44c5f33381"
      },
      "outputs": [
        {
          "name": "stdout",
          "output_type": "stream",
          "text": [
            "this is my first file handling programmingthis is second line of my text file...\n"
          ]
        }
      ],
      "source": [
        "print(f.read())"
      ]
    },
    {
      "cell_type": "code",
      "execution_count": null,
      "metadata": {
        "colab": {
          "base_uri": "https://localhost:8080/",
          "height": 166
        },
        "id": "xOeSb1jLVON0",
        "outputId": "88d47fd2-94ca-41c3-a50f-253b4b9f1313"
      },
      "outputs": [
        {
          "ename": "FileExistsError",
          "evalue": "ignored",
          "output_type": "error",
          "traceback": [
            "\u001b[0;31m---------------------------------------------------------------------------\u001b[0m",
            "\u001b[0;31mFileExistsError\u001b[0m                           Traceback (most recent call last)",
            "\u001b[0;32m<ipython-input-17-4a3efe4f56dd>\u001b[0m in \u001b[0;36m<cell line: 1>\u001b[0;34m()\u001b[0m\n\u001b[0;32m----> 1\u001b[0;31m \u001b[0mf\u001b[0m \u001b[0;34m=\u001b[0m \u001b[0mopen\u001b[0m\u001b[0;34m(\u001b[0m\u001b[0;34m\"NewFile18052023.txt\"\u001b[0m\u001b[0;34m,\u001b[0m \u001b[0;34m'x'\u001b[0m\u001b[0;34m)\u001b[0m\u001b[0;34m\u001b[0m\u001b[0;34m\u001b[0m\u001b[0m\n\u001b[0m",
            "\u001b[0;31mFileExistsError\u001b[0m: [Errno 17] File exists: 'NewFile18052023.txt'"
          ]
        }
      ],
      "source": [
        "f = open(\"NewFile18052023.txt\", 'x')"
      ]
    },
    {
      "cell_type": "code",
      "execution_count": null,
      "metadata": {
        "colab": {
          "base_uri": "https://localhost:8080/",
          "height": 166
        },
        "id": "HKzXFzRBWDqQ",
        "outputId": "8767f343-07d2-4017-bef2-75c0701e8fbb"
      },
      "outputs": [
        {
          "ename": "FileNotFoundError",
          "evalue": "ignored",
          "output_type": "error",
          "traceback": [
            "\u001b[0;31m---------------------------------------------------------------------------\u001b[0m",
            "\u001b[0;31mFileNotFoundError\u001b[0m                         Traceback (most recent call last)",
            "\u001b[0;32m<ipython-input-18-f29f6c6df889>\u001b[0m in \u001b[0;36m<cell line: 1>\u001b[0;34m()\u001b[0m\n\u001b[0;32m----> 1\u001b[0;31m \u001b[0mf\u001b[0m \u001b[0;34m=\u001b[0m \u001b[0mopen\u001b[0m\u001b[0;34m(\u001b[0m\u001b[0;34m'NewFile180520232.txt'\u001b[0m\u001b[0;34m,\u001b[0m \u001b[0;34m'r'\u001b[0m\u001b[0;34m)\u001b[0m\u001b[0;34m\u001b[0m\u001b[0;34m\u001b[0m\u001b[0m\n\u001b[0m",
            "\u001b[0;31mFileNotFoundError\u001b[0m: [Errno 2] No such file or directory: 'NewFile180520232.txt'"
          ]
        }
      ],
      "source": [
        "f = open('NewFile180520232.txt', 'r')"
      ]
    },
    {
      "cell_type": "markdown",
      "metadata": {
        "id": "9USrt8O7WVKJ"
      },
      "source": [
        "# Object Oriented Programming"
      ]
    },
    {
      "cell_type": "code",
      "execution_count": null,
      "metadata": {
        "id": "zvmyRQYJWU0e"
      },
      "outputs": [],
      "source": [
        "# Object is instance of class"
      ]
    },
    {
      "cell_type": "code",
      "execution_count": null,
      "metadata": {
        "colab": {
          "base_uri": "https://localhost:8080/"
        },
        "id": "6CKCv-AOXFSY",
        "outputId": "26ff522d-6451-4c09-9948-599ccea3ef9f"
      },
      "outputs": [
        {
          "name": "stdout",
          "output_type": "stream",
          "text": [
            "10\n",
            "<class 'int'>\n"
          ]
        }
      ],
      "source": [
        "a = 10\n",
        "print(a)\n",
        "print(type(a))"
      ]
    },
    {
      "cell_type": "code",
      "execution_count": null,
      "metadata": {
        "colab": {
          "base_uri": "https://localhost:8080/"
        },
        "id": "tZtyvLHWXUvW",
        "outputId": "26235d62-aaff-4bfb-9ce3-7b8d09046258"
      },
      "outputs": [
        {
          "name": "stdout",
          "output_type": "stream",
          "text": [
            "<class 'int'>\n",
            "<class 'int'>\n",
            "<class 'int'>\n",
            "<class 'int'>\n",
            "<class 'int'>\n",
            "<class 'int'>\n",
            "<class 'int'>\n",
            "<class 'int'>\n",
            "<class 'int'>\n",
            "<class 'int'>\n"
          ]
        }
      ],
      "source": [
        "a,b,c,d,e,f,g,h,i,j = 0,1,2,3,4,5,6,7,8,9\n",
        "print(type(a))\n",
        "print(type(b))\n",
        "print(type(c))\n",
        "print(type(d))\n",
        "print(type(e))\n",
        "print(type(f))\n",
        "print(type(g))\n",
        "print(type(h))\n",
        "print(type(i))\n",
        "print(type(j))"
      ]
    },
    {
      "cell_type": "code",
      "execution_count": null,
      "metadata": {
        "colab": {
          "base_uri": "https://localhost:8080/"
        },
        "id": "SkyqWn4jX0Ww",
        "outputId": "c41c74f3-9f7d-4a7c-f98e-d9f39294219f"
      },
      "outputs": [
        {
          "name": "stdout",
          "output_type": "stream",
          "text": [
            "<class 'float'>\n",
            "<class 'float'>\n",
            "<class 'float'>\n",
            "<class 'float'>\n",
            "<class 'float'>\n",
            "<class 'float'>\n",
            "<class 'float'>\n",
            "<class 'float'>\n",
            "<class 'float'>\n",
            "<class 'float'>\n"
          ]
        }
      ],
      "source": [
        "a,b,c,d,e,f,g,h,i,j = 1.0,2.1,3.2,4.3,5.4,6.5,7.6,8.7,9.8,0.9\n",
        "print(type(a))\n",
        "print(type(b))\n",
        "print(type(c))\n",
        "print(type(d))\n",
        "print(type(e))\n",
        "print(type(f))\n",
        "print(type(g))\n",
        "print(type(h))\n",
        "print(type(i))\n",
        "print(type(j))"
      ]
    },
    {
      "cell_type": "code",
      "execution_count": null,
      "metadata": {
        "id": "XPlB2vj1YSfV"
      },
      "outputs": [],
      "source": [
        "\"iPhone 15 Pro\"\n",
        "\n",
        "1. existing fs_encoding\n",
        "2. new features\n",
        "3. change in design\n",
        "4. security\n",
        "5. test\n",
        "\n",
        "\n",
        "\"iPhone 15 Pro\" class\n",
        "\"iPhone 15 Pro\" 100 million copies object"
      ]
    },
    {
      "cell_type": "code",
      "execution_count": null,
      "metadata": {
        "colab": {
          "base_uri": "https://localhost:8080/"
        },
        "id": "NepbxyzLhK6W",
        "outputId": "34c65991-c537-4207-e29e-8fd33061d1d8"
      },
      "outputs": [
        {
          "name": "stdout",
          "output_type": "stream",
          "text": [
            "class my_first_class\n"
          ]
        }
      ],
      "source": [
        "class my_first_class:\n",
        "  print(\"class my_first_class\")"
      ]
    },
    {
      "cell_type": "code",
      "execution_count": null,
      "metadata": {
        "colab": {
          "base_uri": "https://localhost:8080/"
        },
        "id": "izWTC98JhUZe",
        "outputId": "4080a584-2c22-4dc6-e82c-102ba9f7637c"
      },
      "outputs": [
        {
          "name": "stdout",
          "output_type": "stream",
          "text": [
            "<__main__.my_first_class object at 0x7f1ef964ff40>\n",
            "<class '__main__.my_first_class'>\n"
          ]
        },
        {
          "data": {
            "text/plain": [
              "<__main__.my_first_class at 0x7f1ef964ff40>"
            ]
          },
          "execution_count": 26,
          "metadata": {},
          "output_type": "execute_result"
        }
      ],
      "source": [
        "a = my_first_class()\n",
        "print(a)\n",
        "print(type(a))\n",
        "a"
      ]
    },
    {
      "cell_type": "code",
      "execution_count": null,
      "metadata": {
        "colab": {
          "base_uri": "https://localhost:8080/"
        },
        "id": "m8ukgApThsAg",
        "outputId": "e8f25d64-53fd-418b-d49b-29d54032559b"
      },
      "outputs": [
        {
          "name": "stdout",
          "output_type": "stream",
          "text": [
            "<class 'int'>\n"
          ]
        }
      ],
      "source": [
        "a = 10\n",
        "print(type(a))"
      ]
    },
    {
      "cell_type": "code",
      "execution_count": null,
      "metadata": {
        "id": "NbYrbn0Pi6j7"
      },
      "outputs": [],
      "source": [
        "class my_2nd_class:\n",
        "  x = \"x is variable of my_2nd_class\""
      ]
    },
    {
      "cell_type": "code",
      "execution_count": null,
      "metadata": {
        "id": "kPYhqiLrjSAB"
      },
      "outputs": [],
      "source": [
        "a1 = my_2nd_class()"
      ]
    },
    {
      "cell_type": "code",
      "execution_count": null,
      "metadata": {
        "colab": {
          "base_uri": "https://localhost:8080/",
          "height": 35
        },
        "id": "b8X9B82ZjbJl",
        "outputId": "c1baa2f0-7a8d-467e-95a9-e6134fc8f2d6"
      },
      "outputs": [
        {
          "data": {
            "application/vnd.google.colaboratory.intrinsic+json": {
              "type": "string"
            },
            "text/plain": [
              "'x is variable of my_2nd_class'"
            ]
          },
          "execution_count": 33,
          "metadata": {},
          "output_type": "execute_result"
        }
      ],
      "source": [
        "a1.x"
      ]
    },
    {
      "cell_type": "code",
      "execution_count": null,
      "metadata": {
        "colab": {
          "base_uri": "https://localhost:8080/"
        },
        "id": "vUbexpU5jqoG",
        "outputId": "b4e09d07-7ab8-4337-a474-8a04a904cca0"
      },
      "outputs": [
        {
          "name": "stdout",
          "output_type": "stream",
          "text": [
            "<class 'str'>\n",
            "<class 'str'>\n"
          ]
        }
      ],
      "source": [
        "class my_3rd_class:\n",
        "  x1 = \"x1 is variable inside my_3rd_class\"\n",
        "  print(type(x1))\n",
        "  x2 = \"x2 is variable inside my_3rd_class\"\n",
        "  print(type(x2))"
      ]
    },
    {
      "cell_type": "code",
      "execution_count": null,
      "metadata": {
        "id": "nCpZ_4lNkBYL"
      },
      "outputs": [],
      "source": [
        "z = my_3rd_class()"
      ]
    },
    {
      "cell_type": "code",
      "execution_count": null,
      "metadata": {
        "colab": {
          "base_uri": "https://localhost:8080/"
        },
        "id": "iW_zdgHmkFqV",
        "outputId": "c28ce4f0-b844-4760-99ee-900a82d5cf1b"
      },
      "outputs": [
        {
          "data": {
            "text/plain": [
              "('x1 is variable inside my_3rd_class', 'x2 is variable inside my_3rd_class')"
            ]
          },
          "execution_count": 38,
          "metadata": {},
          "output_type": "execute_result"
        }
      ],
      "source": [
        "z.x1, z.x2"
      ]
    },
    {
      "cell_type": "code",
      "execution_count": null,
      "metadata": {
        "id": "xWA9Vu3lTusX"
      },
      "outputs": [],
      "source": [
        "class iPhone15Pro:\n",
        "  pass"
      ]
    },
    {
      "cell_type": "code",
      "execution_count": null,
      "metadata": {
        "colab": {
          "base_uri": "https://localhost:8080/"
        },
        "id": "bsxaD6vfUCiP",
        "outputId": "1439d284-e373-4f75-9a96-60307a19d130"
      },
      "outputs": [
        {
          "name": "stdout",
          "output_type": "stream",
          "text": [
            "<class '__main__.iPhone15Pro'>\n"
          ]
        }
      ],
      "source": [
        "a = iPhone15Pro() # Object 'a' is instance of class iPhone15Pro\n",
        "print(type(a))"
      ]
    },
    {
      "cell_type": "code",
      "execution_count": null,
      "metadata": {
        "colab": {
          "base_uri": "https://localhost:8080/"
        },
        "id": "LEvQ_Ir_UQpR",
        "outputId": "f5476210-4d0b-46b6-9e45-0180b21c8dea"
      },
      "outputs": [
        {
          "name": "stdout",
          "output_type": "stream",
          "text": [
            "<class '__main__.iPhone15Pro'>\n"
          ]
        }
      ],
      "source": [
        "b = iPhone15Pro() # Object 'b' is instance of class iPhone15Pro\n",
        "print(type(b))"
      ]
    },
    {
      "cell_type": "code",
      "execution_count": null,
      "metadata": {
        "colab": {
          "base_uri": "https://localhost:8080/"
        },
        "id": "a-EdyEosUpxn",
        "outputId": "225a5260-f880-4f8d-996e-d4abb9bbb054"
      },
      "outputs": [
        {
          "name": "stdout",
          "output_type": "stream",
          "text": [
            "#@^iPhone15Pro^@#\n"
          ]
        }
      ],
      "source": [
        "class iPhone15Pro:\n",
        "  print(\"#@^iPhone15Pro^@#\")"
      ]
    },
    {
      "cell_type": "code",
      "execution_count": null,
      "metadata": {
        "colab": {
          "base_uri": "https://localhost:8080/"
        },
        "id": "lr4RO7JtUxHI",
        "outputId": "c7441a22-a701-4f99-be7d-26f5a75d397e"
      },
      "outputs": [
        {
          "name": "stdout",
          "output_type": "stream",
          "text": [
            "<class '__main__.iPhone15Pro'>\n"
          ]
        },
        {
          "data": {
            "text/plain": [
              "<__main__.iPhone15Pro at 0x7f3284657e80>"
            ]
          },
          "execution_count": 5,
          "metadata": {},
          "output_type": "execute_result"
        }
      ],
      "source": [
        "a = iPhone15Pro()\n",
        "print(type(a))\n",
        "a"
      ]
    },
    {
      "cell_type": "code",
      "execution_count": null,
      "metadata": {
        "id": "1O_BwaSSVACG"
      },
      "outputs": [],
      "source": [
        "class iPhone15Pro:\n",
        "  a = \"#@^iPhone15Pro^@#\""
      ]
    },
    {
      "cell_type": "code",
      "execution_count": null,
      "metadata": {
        "colab": {
          "base_uri": "https://localhost:8080/",
          "height": 52
        },
        "id": "8xNfYQtKVG7s",
        "outputId": "8d0d817b-9e2e-4eb0-868e-1c7b80defa18"
      },
      "outputs": [
        {
          "name": "stdout",
          "output_type": "stream",
          "text": [
            "<class '__main__.iPhone15Pro'>\n"
          ]
        },
        {
          "data": {
            "application/vnd.google.colaboratory.intrinsic+json": {
              "type": "string"
            },
            "text/plain": [
              "'#@^iPhone15Pro^@#'"
            ]
          },
          "execution_count": 9,
          "metadata": {},
          "output_type": "execute_result"
        }
      ],
      "source": [
        "a1 = iPhone15Pro() # Object 'a1' is instance of class iPhone15Pro\n",
        "print(type(a))\n",
        "a1.a"
      ]
    },
    {
      "cell_type": "markdown",
      "metadata": {
        "id": "5bYgam6hWUdY"
      },
      "source": [
        "    1. create class dellXzen\n",
        "    2. create 3 variable dell1, dell2, dell3\n",
        "    3. create 3 objects dXz1, dXz2, dXz3\n",
        "    4. from each object access variable"
      ]
    },
    {
      "cell_type": "code",
      "execution_count": null,
      "metadata": {
        "id": "2yGL7nduW-ei"
      },
      "outputs": [],
      "source": [
        "class dellXzen:\n",
        "  dell1, dell2, dell3 = 'dellXzen - dell1', 'dellXzen - dell2', 'dellXzen - dell3'"
      ]
    },
    {
      "cell_type": "code",
      "execution_count": null,
      "metadata": {
        "colab": {
          "base_uri": "https://localhost:8080/"
        },
        "id": "d2jF4ejLXL6N",
        "outputId": "183be150-c431-436f-ae4a-eab01b265b34"
      },
      "outputs": [
        {
          "name": "stdout",
          "output_type": "stream",
          "text": [
            "dellXzen - dell1\n",
            "dellXzen - dell2\n",
            "dellXzen - dell3\n",
            "dellXzen - dell1\n",
            "dellXzen - dell2\n",
            "dellXzen - dell3\n",
            "dellXzen - dell1\n",
            "dellXzen - dell2\n",
            "dellXzen - dell3\n"
          ]
        }
      ],
      "source": [
        "dXz1 = dellXzen()\n",
        "print(dXz1.dell1)\n",
        "print(dXz1.dell2)\n",
        "print(dXz1.dell3)\n",
        "\n",
        "dXz2 = dellXzen()\n",
        "print(dXz2.dell1)\n",
        "print(dXz2.dell2)\n",
        "print(dXz2.dell3)\n",
        "\n",
        "dXz3 = dellXzen()\n",
        "print(dXz3.dell1)\n",
        "print(dXz3.dell2)\n",
        "print(dXz3.dell3)"
      ]
    },
    {
      "cell_type": "code",
      "execution_count": null,
      "metadata": {
        "id": "GCMdLd7Odiqc"
      },
      "outputs": [],
      "source": [
        "class iPhone15Pro:\n",
        "  def __init__(self):\n",
        "    pass"
      ]
    },
    {
      "cell_type": "code",
      "execution_count": null,
      "metadata": {
        "colab": {
          "base_uri": "https://localhost:8080/"
        },
        "id": "GP9dFBfjebN3",
        "outputId": "53b8e796-22c2-4615-82dc-f2931570d72a"
      },
      "outputs": [
        {
          "name": "stdout",
          "output_type": "stream",
          "text": [
            "<class '__main__.iPhone15Pro'>\n"
          ]
        }
      ],
      "source": [
        "a = iPhone15Pro()\n",
        "print(type(a))"
      ]
    },
    {
      "cell_type": "code",
      "execution_count": null,
      "metadata": {
        "id": "CYtQkLCEej5G"
      },
      "outputs": [],
      "source": [
        "class iPhone15Pro:\n",
        "  def __init__(self, model, price):\n",
        "    self.model = model\n",
        "    self.price = price"
      ]
    },
    {
      "cell_type": "code",
      "execution_count": null,
      "metadata": {
        "colab": {
          "base_uri": "https://localhost:8080/"
        },
        "id": "LMhd6VfPe9q2",
        "outputId": "88ac5311-1fcb-46ac-db11-3c0b08b8bb33"
      },
      "outputs": [
        {
          "name": "stdout",
          "output_type": "stream",
          "text": [
            "<class '__main__.iPhone15Pro'>\n"
          ]
        }
      ],
      "source": [
        "a = iPhone15Pro('i 15 Pro', 123456)\n",
        "print(type(a))"
      ]
    },
    {
      "cell_type": "code",
      "execution_count": null,
      "metadata": {
        "id": "mrnnN6xWfvl5"
      },
      "outputs": [],
      "source": [
        "class iPhone15Pro:\n",
        "  def __init__(self, model, price):\n",
        "    self.model = model\n",
        "    self.price = price\n",
        "    # a = \"model: \", self.model , \"price: \", self.price"
      ]
    },
    {
      "cell_type": "code",
      "execution_count": null,
      "metadata": {
        "id": "CHljbay1giGP"
      },
      "outputs": [],
      "source": [
        "class iPhone15Pro:\n",
        "  def __init__(self, model, price):\n",
        "    self.model = model\n",
        "    self.price = price\n",
        "    print(\"model: \", self.model , \"price: \", self.price)\n",
        "  def print_info(self):\n",
        "    pass\n",
        "    #print(\"model: \", self.model , \"price: \", self.price)"
      ]
    },
    {
      "cell_type": "code",
      "execution_count": null,
      "metadata": {
        "colab": {
          "base_uri": "https://localhost:8080/"
        },
        "id": "BlVUAtgegxUY",
        "outputId": "b721003e-9de2-4e9a-b6f0-fe0ae2e37513"
      },
      "outputs": [
        {
          "name": "stdout",
          "output_type": "stream",
          "text": [
            "model:  i 15 Pro price:  123456\n"
          ]
        }
      ],
      "source": [
        "a1 = iPhone15Pro('i 15 Pro', 123456)\n",
        "a1.print_info()"
      ]
    },
    {
      "cell_type": "markdown",
      "metadata": {
        "id": "Uyytg3N1lDcj"
      },
      "source": [
        "The python __init__ method is declared within a class and is used to initialize the attributes of an object as soon as the object is formed. While giving the definition for an __init__(self) method, a default parameter, named 'self' is always passed in its argument. This self represents the object of the class itself."
      ]
    },
    {
      "cell_type": "code",
      "execution_count": null,
      "metadata": {
        "id": "bUKEidvkkqgb"
      },
      "outputs": [],
      "source": [
        "class iPhone15Pro:\n",
        "  def __init__(self, processor, ram, int_mem, display, camera):\n",
        "    self.processor = processor\n",
        "    self.ram = ram\n",
        "    self.int_mem = int_mem\n",
        "    self.display = display\n",
        "    self.camera = camera\n",
        "\n",
        "  def print_details(self):\n",
        "    print(\"Processor: \", self.processor,\n",
        "          \"RAM: \", self.ram,\n",
        "          \"Internal Memory: \", self.int_mem,\n",
        "          \"Display: \", self.display,\n",
        "          \"Camera: \", self.camera)"
      ]
    },
    {
      "cell_type": "markdown",
      "metadata": {
        "id": "1wMV9gl9oui6"
      },
      "source": [
        "# Inheritance"
      ]
    },
    {
      "cell_type": "code",
      "execution_count": null,
      "metadata": {
        "id": "gsJhUKj8ouI6"
      },
      "outputs": [],
      "source": [
        "class computer: # Grand Parent Class\n",
        "  def __init__(self):\n",
        "    pass"
      ]
    },
    {
      "cell_type": "code",
      "execution_count": null,
      "metadata": {
        "id": "QM2N9ItcpLLw"
      },
      "outputs": [],
      "source": [
        "class desktop(computer): # Parent Class\n",
        "  pass\n",
        "class laptop(computer):\n",
        "  pass\n",
        "class tablet(computer):\n",
        "  pass\n",
        "class notebook(computer):\n",
        "  pass"
      ]
    },
    {
      "cell_type": "code",
      "execution_count": null,
      "metadata": {
        "id": "zO9sQ1RdpnB8"
      },
      "outputs": [],
      "source": [
        "class i3_desktop(desktop): # Child Class\n",
        "  pass\n",
        "class i5_desktop(desktop):\n",
        "  pass\n",
        "class i7_desktop(desktop):\n",
        "  pass  \n",
        "class i9_desktop(desktop):\n",
        "  pass"
      ]
    },
    {
      "cell_type": "code",
      "execution_count": null,
      "metadata": {
        "id": "YzS4zLSpqdTR"
      },
      "outputs": [],
      "source": [
        "class RAM64GB_i3desk(i3_desktop):\n",
        "  pass\n",
        "class RAM128GB_i3desk(i3_desktop):\n",
        "  pass\n",
        "class RAM256GB_i3desk(i3_desktop):\n",
        "  pass\n",
        "class RAM512GB_i3desk(i3_desktop):\n",
        "  pass\n",
        "  "
      ]
    },
    {
      "cell_type": "code",
      "execution_count": null,
      "metadata": {
        "id": "jjQh1yE1sv9o"
      },
      "outputs": [],
      "source": [
        "class computer: # Great Grand Parent Class\n",
        "  def __init__(self):\n",
        "    pass\n",
        "\n",
        "class desktop(computer): # Grand Parent Class\n",
        "  pass\n",
        "\n",
        "class i3_desktop(desktop): # Parent Class\n",
        "  pass\n",
        "\n",
        "class RAM64GB_i3desk(i3_desktop): # Child Class\n",
        "  pass"
      ]
    },
    {
      "cell_type": "code",
      "execution_count": null,
      "metadata": {
        "id": "NHOxb2XFtT63"
      },
      "outputs": [],
      "source": [
        "class computer: # Great Grand Parent Class\n",
        "  def __init__(self, name, city):\n",
        "    self.name = name\n",
        "    self.city = city\n",
        "  def print_details(self):\n",
        "    print('My name is ', self.name, \"I live in city \", self.city)\n",
        "\n",
        "class desktop(computer): # Grand Parent Class\n",
        "  pass"
      ]
    },
    {
      "cell_type": "code",
      "execution_count": null,
      "metadata": {
        "colab": {
          "base_uri": "https://localhost:8080/"
        },
        "id": "LeRiTSKEt9HO",
        "outputId": "3c3830a0-ae44-4d07-c2fc-740a1fcae38b"
      },
      "outputs": [
        {
          "name": "stdout",
          "output_type": "stream",
          "text": [
            "My name is  Lenove I live in city  NY\n",
            "<class '__main__.computer'>\n"
          ]
        }
      ],
      "source": [
        "comp1 = computer('Lenove', 'NY')\n",
        "comp1.print_details()\n",
        "print(type(comp1))"
      ]
    },
    {
      "cell_type": "code",
      "execution_count": null,
      "metadata": {
        "colab": {
          "base_uri": "https://localhost:8080/"
        },
        "id": "-oSTvF1sua8T",
        "outputId": "7be3c0f7-91f3-475f-bc09-84456375ff8d"
      },
      "outputs": [
        {
          "name": "stdout",
          "output_type": "stream",
          "text": [
            "My name is  Dell I live in city  CA\n",
            "<class '__main__.desktop'>\n"
          ]
        }
      ],
      "source": [
        "comp1 = desktop('Dell', 'CA')\n",
        "comp1.print_details()\n",
        "print(type(comp1))"
      ]
    },
    {
      "cell_type": "code",
      "execution_count": null,
      "metadata": {
        "id": "sxyQODi0-NcS"
      },
      "outputs": [],
      "source": [
        "class person: # Parent\n",
        "  def __init__(self, name, lname):\n",
        "    self.firstname = name\n",
        "    self.lastname = lname\n",
        "\n",
        "  def printname(self):\n",
        "    print(\"First Name in class person: \", self.firstname, \"Last Name\", self.lastname)\n",
        "\n",
        "\n",
        "class student(person): # Child\n",
        "  pass"
      ]
    },
    {
      "cell_type": "code",
      "execution_count": null,
      "metadata": {
        "colab": {
          "base_uri": "https://localhost:8080/"
        },
        "id": "cD_7JlZk-aii",
        "outputId": "ffd8b099-5fcd-41b9-cbaf-c12ebb52e738"
      },
      "outputs": [
        {
          "name": "stdout",
          "output_type": "stream",
          "text": [
            "First Name in class person:  Krishna Last Name S\n"
          ]
        }
      ],
      "source": [
        "stud1 = person('Krishna', 'S')\n",
        "stud1.printname()"
      ]
    },
    {
      "cell_type": "code",
      "execution_count": null,
      "metadata": {
        "colab": {
          "base_uri": "https://localhost:8080/"
        },
        "id": "mlZenYTb-a_p",
        "outputId": "f3acd134-8c6e-4760-9c24-b79c2b660f35"
      },
      "outputs": [
        {
          "name": "stdout",
          "output_type": "stream",
          "text": [
            "First Name in class person:  Mahadev Last Name R\n"
          ]
        }
      ],
      "source": [
        "stud2 = student('Mahadev', 'R')\n",
        "stud2.printname()"
      ]
    },
    {
      "cell_type": "code",
      "execution_count": null,
      "metadata": {
        "id": "uloYrFUA7Cv5"
      },
      "outputs": [],
      "source": [
        "class person:\n",
        "  def __init__(self, name, lname):\n",
        "    self.firstname = name\n",
        "    self.lastname = lname\n",
        "\n",
        "  def printname(self):\n",
        "    print(\"First Name in class person: \", self.firstname, \"Last Name\", self.lastname)"
      ]
    },
    {
      "cell_type": "code",
      "execution_count": null,
      "metadata": {
        "id": "NJMNfcF67uFE"
      },
      "outputs": [],
      "source": [
        "class student(person):\n",
        "  def __init__(self, name, lname):\n",
        "    self.firstname = name\n",
        "    self.lastname = lname\n",
        "\n",
        "  def printname(self):\n",
        "    print(\"First Name in class student(person): \", self.firstname, \"Last Name\", self.lastname)"
      ]
    },
    {
      "cell_type": "code",
      "execution_count": null,
      "metadata": {
        "colab": {
          "base_uri": "https://localhost:8080/"
        },
        "id": "TGDTs0oS8F5j",
        "outputId": "0595cb90-1f0d-4a04-cc97-949d23b0aac8"
      },
      "outputs": [
        {
          "name": "stdout",
          "output_type": "stream",
          "text": [
            "First Name in class person:  Krishna Last Name S\n"
          ]
        }
      ],
      "source": [
        "stud1 = person('Krishna', 'S')\n",
        "stud1.printname()"
      ]
    },
    {
      "cell_type": "code",
      "execution_count": null,
      "metadata": {
        "colab": {
          "base_uri": "https://localhost:8080/"
        },
        "id": "oe45ypcg8ovt",
        "outputId": "c5477aa1-bdec-4698-c1b5-cad9cd5f86b5"
      },
      "outputs": [
        {
          "name": "stdout",
          "output_type": "stream",
          "text": [
            "First Name in class student(person):  Mahadev Last Name R\n"
          ]
        }
      ],
      "source": [
        "stud2 = student('Mahadev', 'R')\n",
        "stud2.printname()"
      ]
    },
    {
      "cell_type": "code",
      "execution_count": null,
      "metadata": {
        "colab": {
          "background_save": true
        },
        "id": "RHGV-ZZpkYE8"
      },
      "outputs": [],
      "source": []
    }
  ],
  "metadata": {
    "colab": {
      "provenance": []
    },
    "kernelspec": {
      "display_name": "Python 3",
      "name": "python3"
    },
    "language_info": {
      "name": "python"
    }
  },
  "nbformat": 4,
  "nbformat_minor": 0
}