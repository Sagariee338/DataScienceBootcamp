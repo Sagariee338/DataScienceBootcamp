{
  "nbformat": 4,
  "nbformat_minor": 0,
  "metadata": {
    "colab": {
      "provenance": []
    },
    "kernelspec": {
      "name": "python3",
      "display_name": "Python 3"
    },
    "language_info": {
      "name": "python"
    }
  },
  "cells": [
    {
      "cell_type": "code",
      "execution_count": null,
      "metadata": {
        "colab": {
          "base_uri": "https://localhost:8080/"
        },
        "id": "3z2gJEZ6Za6p",
        "outputId": "47a34662-0056-49b6-fded-87855a47a4b7"
      },
      "outputs": [
        {
          "output_type": "stream",
          "name": "stdout",
          "text": [
            "Hello\n",
            "Good Morning\n",
            "20\n",
            "9\n",
            "-1\n"
          ]
        }
      ],
      "source": [
        "def great():\n",
        "  print(\"Hello\")\n",
        "  print(\"Good Morning\")\n",
        "\n",
        "def add(x,y):\n",
        "  c = x+y\n",
        "  d = x-y\n",
        "  e =x*y\n",
        "  print(e)\n",
        "  print(c)\n",
        "  print(d)  \n",
        "great()  \n",
        "add(4,5)"
      ]
    },
    {
      "cell_type": "code",
      "source": [
        "def add(x,y):\n",
        "  c = x+y\n",
        "  return c\n",
        "\n",
        "result = add(4,5)\n",
        "print(result)"
      ],
      "metadata": {
        "colab": {
          "base_uri": "https://localhost:8080/"
        },
        "id": "tOYWFt2NaG7G",
        "outputId": "4c5f9852-db76-4bbb-c17d-83714790b31e"
      },
      "execution_count": null,
      "outputs": [
        {
          "output_type": "stream",
          "name": "stdout",
          "text": [
            "9\n"
          ]
        }
      ]
    },
    {
      "cell_type": "code",
      "source": [
        "def add_sub(x,y):\n",
        "  c = x+y\n",
        "  d = x-y\n",
        "\n",
        "  return c,d\n",
        "\n",
        "result1, result2 = add_sub(4,5)\n",
        "print(result1)\n",
        "print(result2)"
      ],
      "metadata": {
        "colab": {
          "base_uri": "https://localhost:8080/"
        },
        "id": "3hhonQQue0Qf",
        "outputId": "25dc88f9-25d5-4fb2-de91-2c4fbb410e51"
      },
      "execution_count": null,
      "outputs": [
        {
          "output_type": "stream",
          "name": "stdout",
          "text": [
            "9\n",
            "-1\n"
          ]
        }
      ]
    },
    {
      "cell_type": "code",
      "source": [
        "# list of bollean\n",
        "boolean_list = [True, True]\n",
        "print(all(boolean_list))"
      ],
      "metadata": {
        "colab": {
          "base_uri": "https://localhost:8080/"
        },
        "id": "wwo8S-ItfmIq",
        "outputId": "3d704285-ee5c-45b7-97d8-7a15a91f1986"
      },
      "execution_count": null,
      "outputs": [
        {
          "output_type": "stream",
          "name": "stdout",
          "text": [
            "True\n"
          ]
        }
      ]
    },
    {
      "cell_type": "code",
      "source": [
        "boolean_list = [True, True]\n",
        "print(any(boolean_list))"
      ],
      "metadata": {
        "colab": {
          "base_uri": "https://localhost:8080/"
        },
        "id": "gPhjaqFjTOg8",
        "outputId": "ff4656eb-4208-431b-cfb5-c2dbf8c74788"
      },
      "execution_count": null,
      "outputs": [
        {
          "output_type": "stream",
          "name": "stdout",
          "text": [
            "True\n"
          ]
        }
      ]
    },
    {
      "cell_type": "code",
      "source": [
        "numbers =[1,3,5,7,9,10]\n",
        "\n",
        "all_odd = all([n%2 for n in numbers])\n",
        "print(all_odd)"
      ],
      "metadata": {
        "colab": {
          "base_uri": "https://localhost:8080/"
        },
        "id": "jqNWXkXGTfjA",
        "outputId": "431ddce7-048a-4bb6-c592-1e3121276ac4"
      },
      "execution_count": null,
      "outputs": [
        {
          "output_type": "stream",
          "name": "stdout",
          "text": [
            "False\n"
          ]
        }
      ]
    },
    {
      "cell_type": "code",
      "source": [
        "name_list = [\"Marry\", \"Anna\", \"Alexender\"]\n",
        "marks_list = [60, 45, 96]\n",
        "\n",
        "counter = 0\n",
        "for student in name_list:\n",
        "  if student == \"Alexender\":\n",
        "    print(marks_list[counter])\n",
        "    break\n",
        "counter += 1  \n",
        "\n"
      ],
      "metadata": {
        "colab": {
          "base_uri": "https://localhost:8080/"
        },
        "id": "WYarhJ67UW3o",
        "outputId": "382f97b0-76c1-4dca-dc55-092249686b13"
      },
      "execution_count": null,
      "outputs": [
        {
          "output_type": "stream",
          "name": "stdout",
          "text": [
            "60\n"
          ]
        }
      ]
    },
    {
      "cell_type": "code",
      "source": [
        "\n",
        "name_list = [\"Marry\", \"Anna\", \"Alexender\"]\n",
        "marks_list = [60, 45, 96]\n",
        "\n",
        "\n",
        "for student in name_list:\n",
        "  if student == \"Alexender\":\n",
        "    print(marks_list[counter])\n"
      ],
      "metadata": {
        "colab": {
          "base_uri": "https://localhost:8080/"
        },
        "id": "Lr0ElOuFWeQ_",
        "outputId": "fcda1486-d484-4232-c4b0-7da68cf04025"
      },
      "execution_count": null,
      "outputs": [
        {
          "output_type": "stream",
          "name": "stdout",
          "text": [
            "96\n"
          ]
        }
      ]
    },
    {
      "cell_type": "code",
      "source": [
        "# enumerate\n",
        "name_list = [\"Marry\", \"Anna\", \"Alexender\"]\n",
        "marks_list = [60, 45, 96]\n",
        "\n",
        "for counter, student in enumerate(name_list):\n",
        "  if student == \"Alexender\":\n",
        "    print(marks_list[counter])\n",
        "    break"
      ],
      "metadata": {
        "colab": {
          "base_uri": "https://localhost:8080/"
        },
        "id": "L0PuLlL6W754",
        "outputId": "ca4b085b-3882-45ac-a18f-27daf9d1e9f6"
      },
      "execution_count": null,
      "outputs": [
        {
          "output_type": "stream",
          "name": "stdout",
          "text": [
            "96\n"
          ]
        }
      ]
    },
    {
      "cell_type": "code",
      "source": [
        "# zip\n",
        "number_list = [1,2,3]\n",
        "str_list = ['one','two','three']\n",
        "\n",
        "result = zip(number_list, str_list)\n",
        "print(list(result))"
      ],
      "metadata": {
        "colab": {
          "base_uri": "https://localhost:8080/"
        },
        "id": "jz9EutsdXjer",
        "outputId": "59775a8d-47d2-401f-8c81-958df456dcbf"
      },
      "execution_count": null,
      "outputs": [
        {
          "output_type": "stream",
          "name": "stdout",
          "text": [
            "[(1, 'one'), (2, 'two'), (3, 'three')]\n"
          ]
        }
      ]
    },
    {
      "cell_type": "code",
      "source": [
        "name_list = [\"Marry\", \"Anna\", \"Alexender\"]\n",
        "marks_list = [60, 45, 96]\n",
        "\n",
        "result = zip(name_list, marks_list)\n",
        "print(marks_list)"
      ],
      "metadata": {
        "colab": {
          "base_uri": "https://localhost:8080/"
        },
        "id": "vcoQi398Y4a4",
        "outputId": "e02d4227-8ce5-4a04-cc79-3fb7c0cba047"
      },
      "execution_count": null,
      "outputs": [
        {
          "output_type": "stream",
          "name": "stdout",
          "text": [
            "[60, 45, 96]\n"
          ]
        }
      ]
    }
  ]
}