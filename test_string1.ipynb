{
  "nbformat": 4,
  "nbformat_minor": 0,
  "metadata": {
    "colab": {
      "provenance": []
    },
    "kernelspec": {
      "name": "python3",
      "display_name": "Python 3"
    },
    "language_info": {
      "name": "python"
    }
  },
  "cells": [
    {
      "cell_type": "code",
      "execution_count": null,
      "metadata": {
        "id": "DGTSCa61bZB8"
      },
      "outputs": [],
      "source": [
        "test_string= \"Hello Python Programming\""
      ]
    },
    {
      "cell_type": "code",
      "source": [
        "test_string[0:6:2]"
      ],
      "metadata": {
        "colab": {
          "base_uri": "https://localhost:8080/",
          "height": 36
        },
        "id": "SxrpC_7Bb9lI",
        "outputId": "9e9be1bc-96ed-4085-9a89-c45214b6eaf0"
      },
      "execution_count": null,
      "outputs": [
        {
          "output_type": "execute_result",
          "data": {
            "text/plain": [
              "'Hlo'"
            ],
            "application/vnd.google.colaboratory.intrinsic+json": {
              "type": "string"
            }
          },
          "metadata": {},
          "execution_count": 4
        }
      ]
    },
    {
      "cell_type": "code",
      "source": [
        "# INDEXS 0,2,4\n",
        "test_string[0:6:2]"
      ],
      "metadata": {
        "colab": {
          "base_uri": "https://localhost:8080/",
          "height": 36
        },
        "id": "qtITBN9Ocxjn",
        "outputId": "26627951-4c13-40ca-a014-8d3854849f34"
      },
      "execution_count": null,
      "outputs": [
        {
          "output_type": "execute_result",
          "data": {
            "text/plain": [
              "'Hlo'"
            ],
            "application/vnd.google.colaboratory.intrinsic+json": {
              "type": "string"
            }
          },
          "metadata": {},
          "execution_count": 5
        }
      ]
    },
    {
      "cell_type": "code",
      "source": [
        "test_string[-6:-1]"
      ],
      "metadata": {
        "colab": {
          "base_uri": "https://localhost:8080/",
          "height": 36
        },
        "id": "w_bRZxQSdUQt",
        "outputId": "3a3afa6f-aed6-463d-fd64-0f64e38de260"
      },
      "execution_count": null,
      "outputs": [
        {
          "output_type": "execute_result",
          "data": {
            "text/plain": [
              "'ammin'"
            ],
            "application/vnd.google.colaboratory.intrinsic+json": {
              "type": "string"
            }
          },
          "metadata": {},
          "execution_count": 10
        }
      ]
    },
    {
      "cell_type": "code",
      "source": [
        "test_string[0:-3]"
      ],
      "metadata": {
        "colab": {
          "base_uri": "https://localhost:8080/",
          "height": 36
        },
        "id": "AGfBt5tjeRZw",
        "outputId": "45f753ec-07b9-47aa-c878-215b11899217"
      },
      "execution_count": null,
      "outputs": [
        {
          "output_type": "execute_result",
          "data": {
            "text/plain": [
              "'Hello Programm'"
            ],
            "application/vnd.google.colaboratory.intrinsic+json": {
              "type": "string"
            }
          },
          "metadata": {},
          "execution_count": 9
        }
      ]
    },
    {
      "cell_type": "code",
      "source": [
        "test_string[0:21]"
      ],
      "metadata": {
        "colab": {
          "base_uri": "https://localhost:8080/",
          "height": 36
        },
        "id": "jwWjqXPbeyp2",
        "outputId": "bf7f8621-f98e-4b28-cea2-1d378e421768"
      },
      "execution_count": null,
      "outputs": [
        {
          "output_type": "execute_result",
          "data": {
            "text/plain": [
              "'Hello Programming'"
            ],
            "application/vnd.google.colaboratory.intrinsic+json": {
              "type": "string"
            }
          },
          "metadata": {},
          "execution_count": 11
        }
      ]
    },
    {
      "cell_type": "code",
      "source": [
        "test_string=\"hello python programming\""
      ],
      "metadata": {
        "id": "-CobaIhGe8b5"
      },
      "execution_count": null,
      "outputs": []
    },
    {
      "cell_type": "code",
      "source": [
        "test_string.capitalize()"
      ],
      "metadata": {
        "colab": {
          "base_uri": "https://localhost:8080/",
          "height": 36
        },
        "id": "DHLJ-TdMe7uT",
        "outputId": "81a4a3e8-0441-4cff-e608-31b6c4bc1870"
      },
      "execution_count": null,
      "outputs": [
        {
          "output_type": "execute_result",
          "data": {
            "text/plain": [
              "'Hello python programming'"
            ],
            "application/vnd.google.colaboratory.intrinsic+json": {
              "type": "string"
            }
          },
          "metadata": {},
          "execution_count": 20
        }
      ]
    },
    {
      "cell_type": "code",
      "source": [
        "dir(test_string)"
      ],
      "metadata": {
        "colab": {
          "base_uri": "https://localhost:8080/"
        },
        "id": "D_HCXDs-fflU",
        "outputId": "be68e983-5a51-44bc-ab05-0b8112ba217c"
      },
      "execution_count": null,
      "outputs": [
        {
          "output_type": "execute_result",
          "data": {
            "text/plain": [
              "['__add__',\n",
              " '__class__',\n",
              " '__contains__',\n",
              " '__delattr__',\n",
              " '__dir__',\n",
              " '__doc__',\n",
              " '__eq__',\n",
              " '__format__',\n",
              " '__ge__',\n",
              " '__getattribute__',\n",
              " '__getitem__',\n",
              " '__getnewargs__',\n",
              " '__gt__',\n",
              " '__hash__',\n",
              " '__init__',\n",
              " '__init_subclass__',\n",
              " '__iter__',\n",
              " '__le__',\n",
              " '__len__',\n",
              " '__lt__',\n",
              " '__mod__',\n",
              " '__mul__',\n",
              " '__ne__',\n",
              " '__new__',\n",
              " '__reduce__',\n",
              " '__reduce_ex__',\n",
              " '__repr__',\n",
              " '__rmod__',\n",
              " '__rmul__',\n",
              " '__setattr__',\n",
              " '__sizeof__',\n",
              " '__str__',\n",
              " '__subclasshook__',\n",
              " 'capitalize',\n",
              " 'casefold',\n",
              " 'center',\n",
              " 'count',\n",
              " 'encode',\n",
              " 'endswith',\n",
              " 'expandtabs',\n",
              " 'find',\n",
              " 'format',\n",
              " 'format_map',\n",
              " 'index',\n",
              " 'isalnum',\n",
              " 'isalpha',\n",
              " 'isascii',\n",
              " 'isdecimal',\n",
              " 'isdigit',\n",
              " 'isidentifier',\n",
              " 'islower',\n",
              " 'isnumeric',\n",
              " 'isprintable',\n",
              " 'isspace',\n",
              " 'istitle',\n",
              " 'isupper',\n",
              " 'join',\n",
              " 'ljust',\n",
              " 'lower',\n",
              " 'lstrip',\n",
              " 'maketrans',\n",
              " 'partition',\n",
              " 'removeprefix',\n",
              " 'removesuffix',\n",
              " 'replace',\n",
              " 'rfind',\n",
              " 'rindex',\n",
              " 'rjust',\n",
              " 'rpartition',\n",
              " 'rsplit',\n",
              " 'rstrip',\n",
              " 'split',\n",
              " 'splitlines',\n",
              " 'startswith',\n",
              " 'strip',\n",
              " 'swapcase',\n",
              " 'title',\n",
              " 'translate',\n",
              " 'upper',\n",
              " 'zfill']"
            ]
          },
          "metadata": {},
          "execution_count": 24
        }
      ]
    },
    {
      "cell_type": "code",
      "source": [
        "a=\"hello\"\n",
        "b=\"world\"\n",
        "c=a+b\n",
        "c"
      ],
      "metadata": {
        "colab": {
          "base_uri": "https://localhost:8080/",
          "height": 36
        },
        "id": "rkyPoQw8gmcS",
        "outputId": "0edbcff0-2b5e-4488-80d9-d9d003c7fd3f"
      },
      "execution_count": null,
      "outputs": [
        {
          "output_type": "execute_result",
          "data": {
            "text/plain": [
              "'helloworld'"
            ],
            "application/vnd.google.colaboratory.intrinsic+json": {
              "type": "string"
            }
          },
          "metadata": {},
          "execution_count": 26
        }
      ]
    },
    {
      "cell_type": "code",
      "source": [
        "a=\"hello\"\n",
        "b=\"world\"\n",
        "c=b+a\n",
        "c"
      ],
      "metadata": {
        "colab": {
          "base_uri": "https://localhost:8080/",
          "height": 36
        },
        "id": "z4UQ3koMhQXl",
        "outputId": "e2e7aee9-afa8-4c20-f594-75df7997b65a"
      },
      "execution_count": null,
      "outputs": [
        {
          "output_type": "execute_result",
          "data": {
            "text/plain": [
              "'worldhello'"
            ],
            "application/vnd.google.colaboratory.intrinsic+json": {
              "type": "string"
            }
          },
          "metadata": {},
          "execution_count": 27
        }
      ]
    },
    {
      "cell_type": "code",
      "source": [
        "a=\"hello\"\n",
        "b=\"world\"\n",
        "c=a+a\n",
        "c"
      ],
      "metadata": {
        "colab": {
          "base_uri": "https://localhost:8080/",
          "height": 36
        },
        "id": "jn5iEWF1hs9h",
        "outputId": "6632b112-682c-44aa-e934-2e637c675d1e"
      },
      "execution_count": null,
      "outputs": [
        {
          "output_type": "execute_result",
          "data": {
            "text/plain": [
              "'hellohello'"
            ],
            "application/vnd.google.colaboratory.intrinsic+json": {
              "type": "string"
            }
          },
          "metadata": {},
          "execution_count": 28
        }
      ]
    },
    {
      "cell_type": "code",
      "source": [
        "a=\"hello \"\n",
        "b=\"world   \"\n",
        "c=a+b\n",
        "print(c)"
      ],
      "metadata": {
        "colab": {
          "base_uri": "https://localhost:8080/"
        },
        "id": "fd2it6BSiHhY",
        "outputId": "326d0589-4cc8-45bb-da4d-41024a4f1472"
      },
      "execution_count": null,
      "outputs": [
        {
          "output_type": "stream",
          "name": "stdout",
          "text": [
            "hello world   \n"
          ]
        }
      ]
    },
    {
      "cell_type": "code",
      "source": [
        "a=\"hello\"\n",
        "b=\"world\"\n",
        "c=a+b\n",
        "print(c)\n",
        "print('abcd')\n",
        "print(\"abcd\")\n",
        "print(\"absc' fdghld''\")\n"
      ],
      "metadata": {
        "colab": {
          "base_uri": "https://localhost:8080/"
        },
        "id": "frs6hPRNinAv",
        "outputId": "c30b4206-77a2-40bb-dba3-8d072d421804"
      },
      "execution_count": null,
      "outputs": [
        {
          "output_type": "stream",
          "name": "stdout",
          "text": [
            "helloworld\n",
            "abcd\n",
            "abcd\n",
            "absc' fdghld''\n"
          ]
        }
      ]
    },
    {
      "cell_type": "code",
      "source": [
        "#lowers all thge characters\n",
        "test_string=\"hello PYTHON programming\"\n",
        "test_string.casefold()"
      ],
      "metadata": {
        "colab": {
          "base_uri": "https://localhost:8080/",
          "height": 36
        },
        "id": "HYQmhbiDjqXw",
        "outputId": "8d17ef87-b25d-4226-add8-8420d4b50c82"
      },
      "execution_count": null,
      "outputs": [
        {
          "output_type": "execute_result",
          "data": {
            "text/plain": [
              "'hello python programming'"
            ],
            "application/vnd.google.colaboratory.intrinsic+json": {
              "type": "string"
            }
          },
          "metadata": {},
          "execution_count": 35
        }
      ]
    },
    {
      "cell_type": "code",
      "source": [
        "test_string.center(30,\"x\")"
      ],
      "metadata": {
        "colab": {
          "base_uri": "https://localhost:8080/",
          "height": 36
        },
        "id": "prOLvxKilv2v",
        "outputId": "565ba03b-8102-49d8-9b4a-a4ccb0187e99"
      },
      "execution_count": null,
      "outputs": [
        {
          "output_type": "execute_result",
          "data": {
            "text/plain": [
              "'xxxhello PYTHON programmingxxx'"
            ],
            "application/vnd.google.colaboratory.intrinsic+json": {
              "type": "string"
            }
          },
          "metadata": {},
          "execution_count": 40
        }
      ]
    },
    {
      "cell_type": "code",
      "source": [
        "count_string=\"hello world, i hope the world is better place to live for everyone\"\n",
        "count_string.count(\"world\")"
      ],
      "metadata": {
        "colab": {
          "base_uri": "https://localhost:8080/"
        },
        "id": "rwuXV9AMmgQp",
        "outputId": "7e222b24-97ef-41a3-c7a6-7587a4c5d9d9"
      },
      "execution_count": null,
      "outputs": [
        {
          "output_type": "execute_result",
          "data": {
            "text/plain": [
              "2"
            ]
          },
          "metadata": {},
          "execution_count": 41
        }
      ]
    },
    {
      "cell_type": "code",
      "source": [
        "test_string=\"hello PYTHON programming\"\n",
        "test_string.endswith(\"ing\")"
      ],
      "metadata": {
        "colab": {
          "base_uri": "https://localhost:8080/"
        },
        "id": "_Ancg0IcnjCP",
        "outputId": "98ae39e0-a4f6-46bf-eee6-80354ac29c59"
      },
      "execution_count": null,
      "outputs": [
        {
          "output_type": "execute_result",
          "data": {
            "text/plain": [
              "True"
            ]
          },
          "metadata": {},
          "execution_count": 44
        }
      ]
    },
    {
      "cell_type": "code",
      "source": [
        "test_string=\"        hello PYTHON programming    \"\n",
        "test_string.expandtabs()"
      ],
      "metadata": {
        "colab": {
          "base_uri": "https://localhost:8080/",
          "height": 36
        },
        "id": "c_IAxgTWoL6y",
        "outputId": "aff1542f-50b2-4b1e-bf2f-a67dd2251ce8"
      },
      "execution_count": null,
      "outputs": [
        {
          "output_type": "execute_result",
          "data": {
            "text/plain": [
              "'        hello PYTHON programming    '"
            ],
            "application/vnd.google.colaboratory.intrinsic+json": {
              "type": "string"
            }
          },
          "metadata": {},
          "execution_count": 45
        }
      ]
    },
    {
      "cell_type": "code",
      "source": [
        "test_string=\"hello PYTHON programming\"\n",
        "print(test_string.find(\"pro\"))\n",
        "print(test_string[13:16])"
      ],
      "metadata": {
        "colab": {
          "base_uri": "https://localhost:8080/"
        },
        "id": "Kj7k8R2XoyUY",
        "outputId": "a4f0e7a1-03ca-4e5e-8530-a16b49936394"
      },
      "execution_count": null,
      "outputs": [
        {
          "output_type": "stream",
          "name": "stdout",
          "text": [
            "13\n",
            "pro\n"
          ]
        }
      ]
    },
    {
      "cell_type": "code",
      "source": [
        "test_string=\"Hello myname is sagar, i am a good guy\"\n",
        "test_string.format(\"Sagar\",\"guy\")"
      ],
      "metadata": {
        "colab": {
          "base_uri": "https://localhost:8080/",
          "height": 36
        },
        "id": "-b_5L5vlqqb1",
        "outputId": "e4dc1a24-8b59-4ea2-a324-2baed112aec3"
      },
      "execution_count": null,
      "outputs": [
        {
          "output_type": "execute_result",
          "data": {
            "text/plain": [
              "'Hello myname is sagar, i am a good guy'"
            ],
            "application/vnd.google.colaboratory.intrinsic+json": {
              "type": "string"
            }
          },
          "metadata": {},
          "execution_count": 53
        }
      ]
    },
    {
      "cell_type": "code",
      "source": [
        "test_string=\"Hello my name is {0}, i am a good {1}\"\n",
        "test_string.format(\"Sagar\",\"guy\")"
      ],
      "metadata": {
        "colab": {
          "base_uri": "https://localhost:8080/",
          "height": 36
        },
        "id": "pqt0lR71rli4",
        "outputId": "82c05407-6b48-49e1-81ac-680c74b6e1ba"
      },
      "execution_count": null,
      "outputs": [
        {
          "output_type": "execute_result",
          "data": {
            "text/plain": [
              "'Hello my name is Sagar, i am a good guy'"
            ],
            "application/vnd.google.colaboratory.intrinsic+json": {
              "type": "string"
            }
          },
          "metadata": {},
          "execution_count": 3
        }
      ]
    },
    {
      "cell_type": "code",
      "source": [
        "test_string=\"hello PYTHON programming pro\"\n",
        "test_string.index(\"PYTHON\")"
      ],
      "metadata": {
        "colab": {
          "base_uri": "https://localhost:8080/"
        },
        "id": "9f0XsFsfsZfw",
        "outputId": "71c109a4-0490-48f0-fbd9-523951d1dc5d"
      },
      "execution_count": null,
      "outputs": [
        {
          "output_type": "execute_result",
          "data": {
            "text/plain": [
              "6"
            ]
          },
          "metadata": {},
          "execution_count": 60
        }
      ]
    },
    {
      "cell_type": "code",
      "source": [
        "test_string=\"hello PYTHON programming\"\n",
        "test_string.islower()"
      ],
      "metadata": {
        "colab": {
          "base_uri": "https://localhost:8080/"
        },
        "id": "dPgwssx1s8r1",
        "outputId": "b6dcf629-0496-4912-c74d-6c8a425d03e1"
      },
      "execution_count": null,
      "outputs": [
        {
          "output_type": "execute_result",
          "data": {
            "text/plain": [
              "False"
            ]
          },
          "metadata": {},
          "execution_count": 61
        }
      ]
    },
    {
      "cell_type": "code",
      "source": [
        "test_string=\" PYTHON\"\n",
        "test_string.isupper()"
      ],
      "metadata": {
        "colab": {
          "base_uri": "https://localhost:8080/"
        },
        "id": "qKMU5CqPtljj",
        "outputId": "06d48555-6663-46ca-b043-30a5db151367"
      },
      "execution_count": null,
      "outputs": [
        {
          "output_type": "execute_result",
          "data": {
            "text/plain": [
              "True"
            ]
          },
          "metadata": {},
          "execution_count": 63
        }
      ]
    },
    {
      "cell_type": "code",
      "source": [
        "test_string=\"hello PYTHON programming\"\n",
        "print(test_string.lower())\n",
        "print(test_string.casefold())"
      ],
      "metadata": {
        "colab": {
          "base_uri": "https://localhost:8080/"
        },
        "id": "NtxEfclquHKe",
        "outputId": "dbc1d1cb-0fd1-41fd-c4a3-f0059b87440f"
      },
      "execution_count": null,
      "outputs": [
        {
          "output_type": "stream",
          "name": "stdout",
          "text": [
            "hello python programming\n",
            "hello python programming\n"
          ]
        }
      ]
    },
    {
      "cell_type": "code",
      "source": [],
      "metadata": {
        "id": "1VubgVNFxrKI"
      },
      "execution_count": null,
      "outputs": []
    },
    {
      "cell_type": "code",
      "source": [
        "test_string=\"how YOU DOING today\"\n",
        "print(test_string.lower())"
      ],
      "metadata": {
        "id": "h9y9MZNuu3dV",
        "colab": {
          "base_uri": "https://localhost:8080/"
        },
        "outputId": "b3fcd21e-8321-49f9-d473-35147527fbe3"
      },
      "execution_count": null,
      "outputs": [
        {
          "output_type": "stream",
          "name": "stdout",
          "text": [
            "how you doing today\n"
          ]
        }
      ]
    },
    {
      "cell_type": "code",
      "source": [
        "test_string=\"hello PYTHON programming\"\n",
        "test_string.replace(\"PYTHON111\",\"PYTHON\")"
      ],
      "metadata": {
        "id": "Mh_ugjmApW9d",
        "colab": {
          "base_uri": "https://localhost:8080/",
          "height": 36
        },
        "outputId": "186af419-5f24-43ae-eb85-f7f289e142ab"
      },
      "execution_count": null,
      "outputs": [
        {
          "output_type": "execute_result",
          "data": {
            "text/plain": [
              "'hello PYTHON programming'"
            ],
            "application/vnd.google.colaboratory.intrinsic+json": {
              "type": "string"
            }
          },
          "metadata": {},
          "execution_count": 24
        }
      ]
    },
    {
      "cell_type": "code",
      "source": [
        "#split function\n",
        "a='hello ;PYTHON ;programming ; pro'\n",
        "test_string.split(';')"
      ],
      "metadata": {
        "id": "4dAWiFGgqKZS",
        "colab": {
          "base_uri": "https://localhost:8080/"
        },
        "outputId": "55406c83-1b4a-4099-e1d9-abdaf48e33ab"
      },
      "execution_count": null,
      "outputs": [
        {
          "output_type": "execute_result",
          "data": {
            "text/plain": [
              "['hello PYTHON programming']"
            ]
          },
          "metadata": {},
          "execution_count": 18
        }
      ]
    },
    {
      "cell_type": "code",
      "source": [
        "#split\n",
        "b=\"\"\" Hey I have been thinking\n",
        "Harry porter was a movie worth watching\n",
        "i really loved it\"\"\"\n",
        "print(b)\n",
        "print(b.split('\\n'))"
      ],
      "metadata": {
        "colab": {
          "base_uri": "https://localhost:8080/"
        },
        "id": "3YnaEwY-vVm-",
        "outputId": "9be7e738-bf1c-482d-bf9b-9a780488b6c4"
      },
      "execution_count": null,
      "outputs": [
        {
          "output_type": "stream",
          "name": "stdout",
          "text": [
            " Hey I have been thinking\n",
            "Harry porter was a movie worth watching\n",
            "i really loved it\n",
            "[' Hey I have been thinking', 'Harry porter was a movie worth watching', 'i really loved it']\n"
          ]
        }
      ]
    },
    {
      "cell_type": "code",
      "source": [
        "# SPLIT FUNCTION\n",
        "a=\"\"\"hello\n",
        "PYTHON\n",
        "programming\n",
        "pro\"\"\"\n",
        "a.split()"
      ],
      "metadata": {
        "colab": {
          "base_uri": "https://localhost:8080/"
        },
        "id": "Y29pMflUrBWD",
        "outputId": "7774fd29-dd49-4781-8c5c-15a4ac23bc1e"
      },
      "execution_count": null,
      "outputs": [
        {
          "output_type": "execute_result",
          "data": {
            "text/plain": [
              "['hello', 'PYTHON', 'programming', 'pro']"
            ]
          },
          "metadata": {},
          "execution_count": 20
        }
      ]
    },
    {
      "cell_type": "code",
      "source": [
        "# SPLIT FUNCTION\n",
        "a=\"\"\"hello$\n",
        "PYTHON\n",
        "programming\n",
        "pro\"\"\"\n",
        "a.split('\\n')"
      ],
      "metadata": {
        "colab": {
          "base_uri": "https://localhost:8080/"
        },
        "id": "wc4mXMevsNWI",
        "outputId": "9d3e97df-af51-4277-c07b-b0ff66e4c947"
      },
      "execution_count": null,
      "outputs": [
        {
          "output_type": "execute_result",
          "data": {
            "text/plain": [
              "['hello$', 'PYTHON', 'programming', 'pro']"
            ]
          },
          "metadata": {},
          "execution_count": 27
        }
      ]
    },
    {
      "cell_type": "code",
      "source": [
        "#split function\n",
        "a=\"\"\"hello$\n",
        "PYTHON\n",
        "programming\n",
        "pro\"\"\"\n",
        "print(a.splitlines(True))\n",
        "print(a.splitlines())\n",
        "print(a.splitlines(False))"
      ],
      "metadata": {
        "colab": {
          "base_uri": "https://localhost:8080/"
        },
        "id": "aKzYwMossr4T",
        "outputId": "384a3305-5c20-4c8a-aa2d-feb590201a53"
      },
      "execution_count": null,
      "outputs": [
        {
          "output_type": "stream",
          "name": "stdout",
          "text": [
            "['hello$\\n', 'PYTHON\\n', 'programming\\n', 'pro']\n",
            "['hello$', 'PYTHON', 'programming', 'pro']\n",
            "['hello$', 'PYTHON', 'programming', 'pro']\n"
          ]
        }
      ]
    },
    {
      "cell_type": "code",
      "source": [
        "test_string=\"      Hey how are you?          \"\n",
        "test_string.strip()"
      ],
      "metadata": {
        "colab": {
          "base_uri": "https://localhost:8080/",
          "height": 36
        },
        "id": "2u5Y_4-huc7y",
        "outputId": "2ddf00bf-1494-487d-d5db-aa139e2e33f7"
      },
      "execution_count": null,
      "outputs": [
        {
          "output_type": "execute_result",
          "data": {
            "text/plain": [
              "'Hey how are you?'"
            ],
            "application/vnd.google.colaboratory.intrinsic+json": {
              "type": "string"
            }
          },
          "metadata": {},
          "execution_count": 31
        }
      ]
    },
    {
      "cell_type": "code",
      "source": [
        "test_string=\" /d  rfe/   e      Hey how are you?     fgf /thg     \"\n",
        "print(test_string.strip())\n",
        "print(test_string.rstrip())\n",
        "test_string.lstrip()"
      ],
      "metadata": {
        "colab": {
          "base_uri": "https://localhost:8080/",
          "height": 72
        },
        "id": "DDJvpLfSvqsF",
        "outputId": "76215310-1a24-4866-b24c-aa6ef7decc76"
      },
      "execution_count": null,
      "outputs": [
        {
          "output_type": "stream",
          "name": "stdout",
          "text": [
            "/d  rfe/   e      Hey how are you?     fgf /thg\n",
            " /d  rfe/   e      Hey how are you?     fgf /thg\n"
          ]
        },
        {
          "output_type": "execute_result",
          "data": {
            "text/plain": [
              "'/d  rfe/   e      Hey how are you?     fgf /thg     '"
            ],
            "application/vnd.google.colaboratory.intrinsic+json": {
              "type": "string"
            }
          },
          "metadata": {},
          "execution_count": 35
        }
      ]
    },
    {
      "cell_type": "code",
      "source": [
        "list_temp=['hello' , 'PYTHON',  'programming', 'pro']\n",
        "'$'.join(list_temp)"
      ],
      "metadata": {
        "colab": {
          "base_uri": "https://localhost:8080/",
          "height": 36
        },
        "id": "camQYWjwwdL8",
        "outputId": "e95fde81-2157-4385-b043-32bdcb0b9bb9"
      },
      "execution_count": null,
      "outputs": [
        {
          "output_type": "execute_result",
          "data": {
            "text/plain": [
              "'hello$PYTHON$programming$pro'"
            ],
            "application/vnd.google.colaboratory.intrinsic+json": {
              "type": "string"
            }
          },
          "metadata": {},
          "execution_count": 39
        }
      ]
    },
    {
      "cell_type": "code",
      "source": [
        "#list_temp=['hello' , 'PYTHON',  'programming', 'pro']\n",
        "list_temp=['1','2','3']\n",
        "'$'.join(list_temp)"
      ],
      "metadata": {
        "colab": {
          "base_uri": "https://localhost:8080/",
          "height": 36
        },
        "id": "faFZhWLHxieP",
        "outputId": "f0c7ad5f-ea6d-4522-b02f-4243778af03d"
      },
      "execution_count": null,
      "outputs": [
        {
          "output_type": "execute_result",
          "data": {
            "text/plain": [
              "'1$2$3'"
            ],
            "application/vnd.google.colaboratory.intrinsic+json": {
              "type": "string"
            }
          },
          "metadata": {},
          "execution_count": 40
        }
      ]
    },
    {
      "cell_type": "code",
      "source": [
        "# list are mutable\n",
        "list_demo=[1,2,3,4,5,6]\n",
        "list_demo[1]=88\n",
        "list_demo"
      ],
      "metadata": {
        "colab": {
          "base_uri": "https://localhost:8080/"
        },
        "id": "rFhhSQ2zzUSy",
        "outputId": "5dcc8ec4-4a45-4e8b-f660-8ad1111c4676"
      },
      "execution_count": null,
      "outputs": [
        {
          "output_type": "execute_result",
          "data": {
            "text/plain": [
              "[1, 88, 3, 4, 5, 6]"
            ]
          },
          "metadata": {},
          "execution_count": 42
        }
      ]
    },
    {
      "cell_type": "code",
      "source": [
        "#\n",
        "list_demo.append(\"Hello\")\n",
        "list_demo"
      ],
      "metadata": {
        "colab": {
          "base_uri": "https://localhost:8080/"
        },
        "id": "IKKJtLk70c4Q",
        "outputId": "dd565327-f70f-405b-a580-7c22a057f247"
      },
      "execution_count": null,
      "outputs": [
        {
          "output_type": "execute_result",
          "data": {
            "text/plain": [
              "[1, 88, 3, 4, 5, 6, 'Hello']"
            ]
          },
          "metadata": {},
          "execution_count": 43
        }
      ]
    },
    {
      "cell_type": "code",
      "source": [
        "# 1 data type for sorting\n",
        "list_demo=[1,42,3,88,5,6]\n",
        "list_demo.sort()\n",
        "list_demo"
      ],
      "metadata": {
        "colab": {
          "base_uri": "https://localhost:8080/"
        },
        "id": "WcLozOU30smq",
        "outputId": "ce75de19-3bf5-466a-a10a-987385b782fa"
      },
      "execution_count": null,
      "outputs": [
        {
          "output_type": "execute_result",
          "data": {
            "text/plain": [
              "[1, 3, 5, 6, 42, 88]"
            ]
          },
          "metadata": {},
          "execution_count": 44
        }
      ]
    },
    {
      "cell_type": "code",
      "source": [
        "# 1 data type for sorting\n",
        "list_demo=[1,42,3,88,5,6]\n",
        "list_demo.sort(reverse=True)\n",
        "list_demo"
      ],
      "metadata": {
        "colab": {
          "base_uri": "https://localhost:8080/"
        },
        "id": "WRqDqQlk1H9B",
        "outputId": "c04ad363-1d0b-489b-de17-4f273a2c7a46"
      },
      "execution_count": null,
      "outputs": [
        {
          "output_type": "execute_result",
          "data": {
            "text/plain": [
              "[88, 42, 6, 5, 3, 1]"
            ]
          },
          "metadata": {},
          "execution_count": 45
        }
      ]
    },
    {
      "cell_type": "code",
      "source": [
        "# 1 data type for sorting\n",
        "list_demo=['b','c','b','d','1',]\n",
        "list_demo.sort(reverse=True)\n",
        "list_demo"
      ],
      "metadata": {
        "colab": {
          "base_uri": "https://localhost:8080/"
        },
        "id": "Mj-GlTcu1tX6",
        "outputId": "54365e11-1208-4d81-f5da-7a9a60d46e0f"
      },
      "execution_count": null,
      "outputs": [
        {
          "output_type": "execute_result",
          "data": {
            "text/plain": [
              "['d', 'c', 'b', 'b', '1']"
            ]
          },
          "metadata": {},
          "execution_count": 3
        }
      ]
    },
    {
      "cell_type": "code",
      "source": [
        "# 1 data type for sorting\n",
        "list_demo=['b','c','b','d','1']\n",
        "list_demo_2=['hello','python']\n",
        "print(list_demo.append(list_demo_2))\n",
        "list_demo"
      ],
      "metadata": {
        "colab": {
          "base_uri": "https://localhost:8080/"
        },
        "id": "zSbN_Qsq2TIW",
        "outputId": "1b248f64-0ed5-41b4-cc95-ea280eb2f563"
      },
      "execution_count": null,
      "outputs": [
        {
          "output_type": "stream",
          "name": "stdout",
          "text": [
            "None\n"
          ]
        },
        {
          "output_type": "execute_result",
          "data": {
            "text/plain": [
              "['b', 'c', 'b', 'd', '1', ['hello', 'python']]"
            ]
          },
          "metadata": {},
          "execution_count": 48
        }
      ]
    },
    {
      "cell_type": "code",
      "source": [
        "# 1 data type for sorting\n",
        "list_demo=['b','c','b','d','1','2']\n",
        "list_demo_2=['hello','python']\n",
        "print(list_demo.extend(list_demo_2))\n",
        "print(list_demo)\n",
        "print(list_demo[-1])"
      ],
      "metadata": {
        "colab": {
          "base_uri": "https://localhost:8080/"
        },
        "id": "ZbxfJMOC3Ht5",
        "outputId": "abb693d2-86a2-4c6d-ee2c-de4e326faeb2"
      },
      "execution_count": null,
      "outputs": [
        {
          "output_type": "stream",
          "name": "stdout",
          "text": [
            "None\n",
            "['b', 'c', 'b', 'd', '1', '2', 'hello', 'python']\n",
            "python\n"
          ]
        }
      ]
    },
    {
      "cell_type": "code",
      "source": [
        "list_demo=['b','c','b','d','1','2']\n",
        "list_demo.reverse()\n",
        "\n",
        "print(list_demo)"
      ],
      "metadata": {
        "id": "ftuJphWg3ehy",
        "colab": {
          "base_uri": "https://localhost:8080/"
        },
        "outputId": "55166221-1dfd-4321-ed03-2fe80d8191f7"
      },
      "execution_count": null,
      "outputs": [
        {
          "output_type": "stream",
          "name": "stdout",
          "text": [
            "['2', '1', 'd', 'b', 'c', 'b']\n"
          ]
        }
      ]
    },
    {
      "cell_type": "code",
      "source": [
        "list_demo=[1,2,3,4,5,6,7,8,9,7]\n",
        "print(list_demo.count)\n",
        "print(list_demo.count(13))"
      ],
      "metadata": {
        "colab": {
          "base_uri": "https://localhost:8080/"
        },
        "id": "ovDRAbsWuiIp",
        "outputId": "b1222595-f017-4bed-ed01-def8c393bc2d"
      },
      "execution_count": null,
      "outputs": [
        {
          "output_type": "stream",
          "name": "stdout",
          "text": [
            "<built-in method count of list object at 0x7f0b2181a500>\n",
            "0\n"
          ]
        }
      ]
    },
    {
      "cell_type": "code",
      "source": [
        "list_demo=[1,2,3,4,5,6,7,8,9,8,1,2,11,1,0]\n",
        "list_demo_copy=list_demo.copy()\n",
        "list_demo2_copy=list_demo\n",
        "list_demo[0]=0\n",
        "print(list_demo2_copy)\n",
        "print(list_demo)\n",
        "print(list_demo2_copy)"
      ],
      "metadata": {
        "colab": {
          "base_uri": "https://localhost:8080/"
        },
        "id": "iJrmWkXwynED",
        "outputId": "e72dd708-d9df-4ce5-fa48-24781a2e2cf4"
      },
      "execution_count": null,
      "outputs": [
        {
          "output_type": "stream",
          "name": "stdout",
          "text": [
            "[0, 2, 3, 4, 5, 6, 7, 8, 9, 8, 1, 2, 11, 1, 0]\n",
            "[0, 2, 3, 4, 5, 6, 7, 8, 9, 8, 1, 2, 11, 1, 0]\n",
            "[0, 2, 3, 4, 5, 6, 7, 8, 9, 8, 1, 2, 11, 1, 0]\n"
          ]
        }
      ]
    },
    {
      "cell_type": "code",
      "source": [
        "list_demo = [1,2,3,4,5,6,7,8,9,,8,1,2,11,1,0]\n",
        " # pop removes from laST IF NO VALUE if a value is entered it remove from that index\n",
        "list_demo.pop()  "
      ],
      "metadata": {
        "id": "Dqe0fuszzpJ-"
      },
      "execution_count": null,
      "outputs": []
    },
    {
      "cell_type": "code",
      "source": [
        "tuple_demo=1,\n",
        "print(type(tuple_demo))"
      ],
      "metadata": {
        "colab": {
          "base_uri": "https://localhost:8080/"
        },
        "id": "Q_6Eq5gp0UbZ",
        "outputId": "94541cb3-a794-4b1b-9cef-8d4b7c53ce7f"
      },
      "execution_count": null,
      "outputs": [
        {
          "output_type": "stream",
          "name": "stdout",
          "text": [
            "<class 'tuple'>\n"
          ]
        }
      ]
    },
    {
      "cell_type": "code",
      "source": [
        "list_demo=[1,2,3,4,5,6,7,8,9,,8,1,2,11,1,0]\n",
        "print(type(tuple(list_demo)))"
      ],
      "metadata": {
        "id": "uzsYrEoZ0wK_"
      },
      "execution_count": null,
      "outputs": []
    },
    {
      "cell_type": "code",
      "source": [
        "tuple_demo={1,2,2}\n",
        "print(tuple(demo))"
      ],
      "metadata": {
        "id": "PD2oTj-G1D8s"
      },
      "execution_count": null,
      "outputs": []
    },
    {
      "cell_type": "code",
      "source": [
        "# Wap to find count of all elements in a string\n",
        "String question = \"hello my friend how are you today\""
      ],
      "metadata": {
        "id": "ZdEgQdjv1Q4J"
      },
      "execution_count": null,
      "outputs": []
    },
    {
      "cell_type": "code",
      "source": [
        "print(len(str1))\n",
        "print(str1.count('h'))\n",
        "print(str1.count('e'))\n",
        "print(str1.count('l'))\n",
        "print(str1.count('l'))\n",
        "print(str1.count('o'))"
      ],
      "metadata": {
        "id": "mjyZfMLL8Frl"
      },
      "execution_count": null,
      "outputs": []
    },
    {
      "cell_type": "code",
      "source": [
        "str1 = \"hello my friend how are you today\"\n",
        "index = 0\n",
        "for x in str1:\n",
        "  print(str1.count(str1[index]))\n",
        "  index +=1"
      ],
      "metadata": {
        "colab": {
          "base_uri": "https://localhost:8080/"
        },
        "id": "ZvZJoOO58LmQ",
        "outputId": "9c5be034-679a-4322-9528-47f7d5c40ab3"
      },
      "execution_count": null,
      "outputs": [
        {
          "output_type": "stream",
          "name": "stdout",
          "text": [
            "2\n",
            "3\n",
            "2\n",
            "2\n",
            "4\n",
            "6\n",
            "1\n",
            "3\n",
            "6\n",
            "1\n",
            "2\n",
            "1\n",
            "3\n",
            "1\n",
            "2\n",
            "6\n",
            "2\n",
            "4\n",
            "1\n",
            "6\n",
            "2\n",
            "2\n",
            "3\n",
            "6\n",
            "3\n",
            "4\n",
            "1\n",
            "6\n",
            "1\n",
            "4\n",
            "2\n",
            "2\n",
            "3\n"
          ]
        }
      ]
    },
    {
      "cell_type": "code",
      "source": [
        "# find the largest number in the list\n",
        "a_list=[1,10,18,19,66,101,85]\n",
        "a_list.sort()\n",
        "print(a_list[-1])\n",
        "\n",
        "\n"
      ],
      "metadata": {
        "colab": {
          "base_uri": "https://localhost:8080/"
        },
        "id": "7S8026-P9IxW",
        "outputId": "70a30b44-f41e-4887-f2d7-929120046393"
      },
      "execution_count": null,
      "outputs": [
        {
          "output_type": "stream",
          "name": "stdout",
          "text": [
            "101\n"
          ]
        }
      ]
    },
    {
      "cell_type": "code",
      "source": [
        "a=[1,10,18,19,66,101,85]\n",
        "b=[1,2,6,8,9]\n",
        "print(a+b)"
      ],
      "metadata": {
        "colab": {
          "base_uri": "https://localhost:8080/"
        },
        "id": "uzdGzjSx-wWW",
        "outputId": "4cd6d1d9-61ff-454e-f564-1e187ec6e230"
      },
      "execution_count": null,
      "outputs": [
        {
          "output_type": "stream",
          "name": "stdout",
          "text": [
            "[1, 10, 18, 19, 66, 101, 85, 1, 2, 6, 8, 9]\n"
          ]
        }
      ]
    },
    {
      "cell_type": "code",
      "source": [
        "from IPython.utils.text import list_strings\n",
        "from os import replace\n",
        "#take 1  firdt value +\"string\" +2nd value\n",
        "list_str=['Harry',\"potter\",\"and\",\"the\",\"goblet\",\"of\",\"fire\"]\n",
        "' '.join(list_str)"
      ],
      "metadata": {
        "colab": {
          "base_uri": "https://localhost:8080/",
          "height": 35
        },
        "id": "YqbI7HXD_jkn",
        "outputId": "c4807e30-3636-47a5-a2dd-141100601b19"
      },
      "execution_count": null,
      "outputs": [
        {
          "output_type": "execute_result",
          "data": {
            "text/plain": [
              "'Harry potter and the goblet of fire'"
            ],
            "application/vnd.google.colaboratory.intrinsic+json": {
              "type": "string"
            }
          },
          "metadata": {},
          "execution_count": 64
        }
      ]
    },
    {
      "cell_type": "code",
      "source": [
        "\n",
        "list_str=['Harry',\"potter\",\"and\",\"the\",\"goblet\",\"of\",\"fire\"]\n",
        "''.join(list_str)"
      ],
      "metadata": {
        "colab": {
          "base_uri": "https://localhost:8080/",
          "height": 35
        },
        "id": "vrC_-mIwCRbH",
        "outputId": "b4cd7ec7-7ddf-482e-e92e-4e77cb0dfe5a"
      },
      "execution_count": null,
      "outputs": [
        {
          "output_type": "execute_result",
          "data": {
            "text/plain": [
              "'Harrypotterandthegobletoffire'"
            ],
            "application/vnd.google.colaboratory.intrinsic+json": {
              "type": "string"
            }
          },
          "metadata": {},
          "execution_count": 65
        }
      ]
    },
    {
      "cell_type": "code",
      "source": [
        "list_str=['Harry',\"potter\",\"and\",\"the\",\"goblet\",\"of\",\"fire\"]\n",
        "'$'.join(list_str)"
      ],
      "metadata": {
        "colab": {
          "base_uri": "https://localhost:8080/",
          "height": 35
        },
        "id": "7pkWOaiKCj3t",
        "outputId": "71cb29f1-202b-4fe5-fdc9-028c15f8bb8c"
      },
      "execution_count": null,
      "outputs": [
        {
          "output_type": "execute_result",
          "data": {
            "text/plain": [
              "'Harry$potter$and$the$goblet$of$fire'"
            ],
            "application/vnd.google.colaboratory.intrinsic+json": {
              "type": "string"
            }
          },
          "metadata": {},
          "execution_count": 66
        }
      ]
    },
    {
      "cell_type": "code",
      "source": [
        "#su=you\n",
        "demo_tuple=(\"Hey\",\"How\",'are',\"su\")"
      ],
      "metadata": {
        "id": "Y-6ciwsFCzRo"
      },
      "execution_count": null,
      "outputs": []
    },
    {
      "cell_type": "code",
      "source": [
        "demo_tuple=(\"Hey\",\"How\",'are',\"su\")\n",
        "demo_tuple=' '.join(demo_tuple)\n",
        "print(demo_tuple.replace('su','you'))"
      ],
      "metadata": {
        "colab": {
          "base_uri": "https://localhost:8080/"
        },
        "id": "oXF8GHbbFUAr",
        "outputId": "63c6b533-c134-4be3-fca9-d3f64221d532"
      },
      "execution_count": null,
      "outputs": [
        {
          "output_type": "stream",
          "name": "stdout",
          "text": [
            "Hey How are you\n"
          ]
        }
      ]
    },
    {
      "cell_type": "code",
      "source": [
        "demo_tuple=(\"Hey\",\"How\",'are',\"su\")\n",
        "print(demo_tuple)\n",
        "str1= \" \".join(demo_tuple)\n",
        "print(str1)\n",
        "str2=str1.replace('su','you')\n",
        "print(str2)"
      ],
      "metadata": {
        "colab": {
          "base_uri": "https://localhost:8080/"
        },
        "id": "nA_zCt7JGZ19",
        "outputId": "394ce26e-45e0-4865-b045-a5d3d3127be8"
      },
      "execution_count": null,
      "outputs": [
        {
          "output_type": "stream",
          "name": "stdout",
          "text": [
            "('Hey', 'How', 'are', 'su')\n",
            "Hey How are su\n",
            "Hey How are you\n"
          ]
        }
      ]
    },
    {
      "cell_type": "code",
      "source": [],
      "metadata": {
        "id": "VbvyQM8N5EFS"
      },
      "execution_count": null,
      "outputs": []
    },
    {
      "cell_type": "code",
      "source": [],
      "metadata": {
        "id": "G083SuM05D5W"
      },
      "execution_count": null,
      "outputs": []
    },
    {
      "cell_type": "code",
      "source": [],
      "metadata": {
        "id": "E0kayiov5DtT"
      },
      "execution_count": null,
      "outputs": []
    },
    {
      "cell_type": "code",
      "source": [
        "\n",
        "\"\"'\"\n",
        "4) Write a program to insert number 88 on 2nd index of this list and number on 2nd index should move to last index of the list\n",
        "\n",
        " a=[1,2,3,4,5,7] Expected output = [1,2,3,4,5,7,3]\n",
        " \"\"\"\n",
        "\n",
        " a= [1,2,3,4,5,7]\n",
        " popped_value =a.pop(2)\n",
        " a.insert(2,88)\n",
        " print(\"AFTER INSERTION\",a)\n",
        " a.append(popped_value)\n",
        " print(\"FNAL OUTPUT\", a)"
      ],
      "metadata": {
        "colab": {
          "base_uri": "https://localhost:8080/",
          "height": 133
        },
        "id": "Puj9q_WF5Dp_",
        "outputId": "4506ba49-d502-4e9a-ba0d-8c7a55bcc6c6"
      },
      "execution_count": null,
      "outputs": [
        {
          "output_type": "error",
          "ename": "SyntaxError",
          "evalue": "ignored",
          "traceback": [
            "\u001b[0;36m  File \u001b[0;32m\"<ipython-input-4-fe90c314f0dd>\"\u001b[0;36m, line \u001b[0;32m1\u001b[0m\n\u001b[0;31m    \"\"'\"\u001b[0m\n\u001b[0m      ^\u001b[0m\n\u001b[0;31mSyntaxError\u001b[0m\u001b[0;31m:\u001b[0m unterminated string literal (detected at line 1)\n"
          ]
        }
      ]
    },
    {
      "cell_type": "code",
      "source": [
        "a= [1,2,3,4,5,7]\n",
        "a.insert(2,88)\n",
        "a.append(a.pop(2))\n",
        "print(a)"
      ],
      "metadata": {
        "colab": {
          "base_uri": "https://localhost:8080/"
        },
        "id": "ycANpr5q7NaK",
        "outputId": "78f86229-8356-4a21-93c1-492ad5c8f07f"
      },
      "execution_count": null,
      "outputs": [
        {
          "output_type": "stream",
          "name": "stdout",
          "text": [
            "[1, 2, 3, 4, 5, 7, 88]\n"
          ]
        }
      ]
    },
    {
      "cell_type": "code",
      "source": [
        "a1=\n",
        "a2="
      ],
      "metadata": {
        "id": "uPi3iw0T7yvN"
      },
      "execution_count": null,
      "outputs": []
    },
    {
      "cell_type": "code",
      "source": [],
      "metadata": {
        "id": "8XozZa85SVTr"
      },
      "execution_count": null,
      "outputs": []
    }
  ]
}