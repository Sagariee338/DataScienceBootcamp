{
  "nbformat": 4,
  "nbformat_minor": 0,
  "metadata": {
    "colab": {
      "provenance": []
    },
    "kernelspec": {
      "name": "python3",
      "display_name": "Python 3"
    },
    "language_info": {
      "name": "python"
    }
  },
  "cells": [
    {
      "cell_type": "code",
      "execution_count": null,
      "metadata": {
        "id": "7UykUHPL8YAJ"
      },
      "outputs": [],
      "source": [
        "import pandas as pd"
      ]
    },
    {
      "cell_type": "code",
      "source": [
        "df1 = pd.read_csv('/content/Churn_Modelling.csv')"
      ],
      "metadata": {
        "id": "-Aho2eC5NgBS"
      },
      "execution_count": null,
      "outputs": []
    },
    {
      "cell_type": "code",
      "source": [
        "print(df1)"
      ],
      "metadata": {
        "colab": {
          "base_uri": "https://localhost:8080/"
        },
        "id": "xrFwTJPaNvQW",
        "outputId": "38635b43-2bc7-4347-b8e7-36a4452803bc"
      },
      "execution_count": null,
      "outputs": [
        {
          "output_type": "stream",
          "name": "stdout",
          "text": [
            "      RowNumber  CustomerId    Surname  CreditScore Geography  Gender  Age  \\\n",
            "0             1    15634602   Hargrave          619    France  Female   42   \n",
            "1             2    15647311       Hill          608     Spain  Female   41   \n",
            "2             3    15619304       Onio          502    France  Female   42   \n",
            "3             4    15701354       Boni          699    France  Female   39   \n",
            "4             5    15737888   Mitchell          850     Spain  Female   43   \n",
            "...         ...         ...        ...          ...       ...     ...  ...   \n",
            "9995       9996    15606229   Obijiaku          771    France    Male   39   \n",
            "9996       9997    15569892  Johnstone          516    France    Male   35   \n",
            "9997       9998    15584532        Liu          709    France  Female   36   \n",
            "9998       9999    15682355  Sabbatini          772   Germany    Male   42   \n",
            "9999      10000    15628319     Walker          792    France  Female   28   \n",
            "\n",
            "      Tenure    Balance  NumOfProducts  HasCrCard  IsActiveMember  \\\n",
            "0          2       0.00              1          1               1   \n",
            "1          1   83807.86              1          0               1   \n",
            "2          8  159660.80              3          1               0   \n",
            "3          1       0.00              2          0               0   \n",
            "4          2  125510.82              1          1               1   \n",
            "...      ...        ...            ...        ...             ...   \n",
            "9995       5       0.00              2          1               0   \n",
            "9996      10   57369.61              1          1               1   \n",
            "9997       7       0.00              1          0               1   \n",
            "9998       3   75075.31              2          1               0   \n",
            "9999       4  130142.79              1          1               0   \n",
            "\n",
            "      EstimatedSalary  Exited  \n",
            "0           101348.88       1  \n",
            "1           112542.58       0  \n",
            "2           113931.57       1  \n",
            "3            93826.63       0  \n",
            "4            79084.10       0  \n",
            "...               ...     ...  \n",
            "9995         96270.64       0  \n",
            "9996        101699.77       0  \n",
            "9997         42085.58       1  \n",
            "9998         92888.52       1  \n",
            "9999         38190.78       0  \n",
            "\n",
            "[10000 rows x 14 columns]\n"
          ]
        }
      ]
    },
    {
      "cell_type": "code",
      "source": [
        "import pandas as pd1"
      ],
      "metadata": {
        "id": "PKfp6jPYWpGG"
      },
      "execution_count": null,
      "outputs": []
    },
    {
      "cell_type": "code",
      "source": [
        "df1 = pd.read_csv('/content/Churn_Modelling.csv')"
      ],
      "metadata": {
        "id": "IFh2Hm6dWqJv"
      },
      "execution_count": null,
      "outputs": []
    },
    {
      "cell_type": "code",
      "source": [
        "df1.to_html('churn_modelling_html.html')"
      ],
      "metadata": {
        "id": "oxoFthszPULx"
      },
      "execution_count": null,
      "outputs": []
    },
    {
      "cell_type": "code",
      "source": [
        "df1.to_excel('churn_modeling_excel.excel')"
      ],
      "metadata": {
        "id": "CLLSEleKWEOr"
      },
      "execution_count": null,
      "outputs": []
    },
    {
      "cell_type": "code",
      "source": [
        "df1.to_json('churn_modeling_json.json')"
      ],
      "metadata": {
        "id": "kloaBkHQZEuM"
      },
      "execution_count": null,
      "outputs": []
    },
    {
      "cell_type": "code",
      "source": [
        "df1.to_xml('churn_modeling_xml.xml')"
      ],
      "metadata": {
        "id": "fsgo4eEYYMD3"
      },
      "execution_count": null,
      "outputs": []
    },
    {
      "cell_type": "code",
      "source": [
        "df1.to_xlsx('churn_modeling_xlxs.xlxs')"
      ],
      "metadata": {
        "id": "LnnNPMGZeboy"
      },
      "execution_count": null,
      "outputs": []
    },
    {
      "cell_type": "code",
      "source": [
        "import pandas as pd\n"
      ],
      "metadata": {
        "id": "09V8Fjk0bZUZ"
      },
      "execution_count": null,
      "outputs": []
    },
    {
      "cell_type": "code",
      "source": [
        "df_csv =pd.read_csv('/content/Churn_Modelling.csv')\n",
        "print(df1)"
      ],
      "metadata": {
        "id": "7w-BENY8blEr",
        "outputId": "ee074ae1-aa7b-431b-9645-50208df907af",
        "colab": {
          "base_uri": "https://localhost:8080/"
        }
      },
      "execution_count": null,
      "outputs": [
        {
          "output_type": "stream",
          "name": "stdout",
          "text": [
            "      RowNumber  CustomerId    Surname  CreditScore Geography  Gender  Age  \\\n",
            "0             1    15634602   Hargrave          619    France  Female   42   \n",
            "1             2    15647311       Hill          608     Spain  Female   41   \n",
            "2             3    15619304       Onio          502    France  Female   42   \n",
            "3             4    15701354       Boni          699    France  Female   39   \n",
            "4             5    15737888   Mitchell          850     Spain  Female   43   \n",
            "...         ...         ...        ...          ...       ...     ...  ...   \n",
            "9995       9996    15606229   Obijiaku          771    France    Male   39   \n",
            "9996       9997    15569892  Johnstone          516    France    Male   35   \n",
            "9997       9998    15584532        Liu          709    France  Female   36   \n",
            "9998       9999    15682355  Sabbatini          772   Germany    Male   42   \n",
            "9999      10000    15628319     Walker          792    France  Female   28   \n",
            "\n",
            "      Tenure    Balance  NumOfProducts  HasCrCard  IsActiveMember  \\\n",
            "0          2       0.00              1          1               1   \n",
            "1          1   83807.86              1          0               1   \n",
            "2          8  159660.80              3          1               0   \n",
            "3          1       0.00              2          0               0   \n",
            "4          2  125510.82              1          1               1   \n",
            "...      ...        ...            ...        ...             ...   \n",
            "9995       5       0.00              2          1               0   \n",
            "9996      10   57369.61              1          1               1   \n",
            "9997       7       0.00              1          0               1   \n",
            "9998       3   75075.31              2          1               0   \n",
            "9999       4  130142.79              1          1               0   \n",
            "\n",
            "      EstimatedSalary  Exited  \n",
            "0           101348.88       1  \n",
            "1           112542.58       0  \n",
            "2           113931.57       1  \n",
            "3            93826.63       0  \n",
            "4            79084.10       0  \n",
            "...               ...     ...  \n",
            "9995         96270.64       0  \n",
            "9996        101699.77       0  \n",
            "9997         42085.58       1  \n",
            "9998         92888.52       1  \n",
            "9999         38190.78       0  \n",
            "\n",
            "[10000 rows x 14 columns]\n"
          ]
        }
      ]
    },
    {
      "cell_type": "code",
      "source": [
        "df_xml =pd.read_xml('churn_modeling_xml.xml')\n",
        "print(df_xml)"
      ],
      "metadata": {
        "id": "2Q2Rd0escWgv",
        "outputId": "7fcfc6e4-03e3-44ac-d96d-534daa6dc97f",
        "colab": {
          "base_uri": "https://localhost:8080/"
        }
      },
      "execution_count": null,
      "outputs": [
        {
          "output_type": "stream",
          "name": "stdout",
          "text": [
            "      index  RowNumber  CustomerId    Surname  CreditScore Geography  Gender  \\\n",
            "0         0          1    15634602   Hargrave          619    France  Female   \n",
            "1         1          2    15647311       Hill          608     Spain  Female   \n",
            "2         2          3    15619304       Onio          502    France  Female   \n",
            "3         3          4    15701354       Boni          699    France  Female   \n",
            "4         4          5    15737888   Mitchell          850     Spain  Female   \n",
            "...     ...        ...         ...        ...          ...       ...     ...   \n",
            "9995   9995       9996    15606229   Obijiaku          771    France    Male   \n",
            "9996   9996       9997    15569892  Johnstone          516    France    Male   \n",
            "9997   9997       9998    15584532        Liu          709    France  Female   \n",
            "9998   9998       9999    15682355  Sabbatini          772   Germany    Male   \n",
            "9999   9999      10000    15628319     Walker          792    France  Female   \n",
            "\n",
            "      Age  Tenure    Balance  NumOfProducts  HasCrCard  IsActiveMember  \\\n",
            "0      42       2       0.00              1          1               1   \n",
            "1      41       1   83807.86              1          0               1   \n",
            "2      42       8  159660.80              3          1               0   \n",
            "3      39       1       0.00              2          0               0   \n",
            "4      43       2  125510.82              1          1               1   \n",
            "...   ...     ...        ...            ...        ...             ...   \n",
            "9995   39       5       0.00              2          1               0   \n",
            "9996   35      10   57369.61              1          1               1   \n",
            "9997   36       7       0.00              1          0               1   \n",
            "9998   42       3   75075.31              2          1               0   \n",
            "9999   28       4  130142.79              1          1               0   \n",
            "\n",
            "      EstimatedSalary  Exited  \n",
            "0           101348.88       1  \n",
            "1           112542.58       0  \n",
            "2           113931.57       1  \n",
            "3            93826.63       0  \n",
            "4            79084.10       0  \n",
            "...               ...     ...  \n",
            "9995         96270.64       0  \n",
            "9996        101699.77       0  \n",
            "9997         42085.58       1  \n",
            "9998         92888.52       1  \n",
            "9999         38190.78       0  \n",
            "\n",
            "[10000 rows x 15 columns]\n"
          ]
        }
      ]
    },
    {
      "cell_type": "code",
      "source": [
        "df_json =pd.read_json('churn_modeling_json.json')\n",
        "print(df_json)"
      ],
      "metadata": {
        "id": "97vbfLjPc2pk",
        "outputId": "223bf3e6-189e-462e-dce4-5e910b208d0c",
        "colab": {
          "base_uri": "https://localhost:8080/"
        }
      },
      "execution_count": null,
      "outputs": [
        {
          "output_type": "stream",
          "name": "stdout",
          "text": [
            "      RowNumber  CustomerId    Surname  CreditScore Geography  Gender  Age  \\\n",
            "0             1    15634602   Hargrave          619    France  Female   42   \n",
            "1             2    15647311       Hill          608     Spain  Female   41   \n",
            "2             3    15619304       Onio          502    France  Female   42   \n",
            "3             4    15701354       Boni          699    France  Female   39   \n",
            "4             5    15737888   Mitchell          850     Spain  Female   43   \n",
            "...         ...         ...        ...          ...       ...     ...  ...   \n",
            "9995       9996    15606229   Obijiaku          771    France    Male   39   \n",
            "9996       9997    15569892  Johnstone          516    France    Male   35   \n",
            "9997       9998    15584532        Liu          709    France  Female   36   \n",
            "9998       9999    15682355  Sabbatini          772   Germany    Male   42   \n",
            "9999      10000    15628319     Walker          792    France  Female   28   \n",
            "\n",
            "      Tenure    Balance  NumOfProducts  HasCrCard  IsActiveMember  \\\n",
            "0          2       0.00              1          1               1   \n",
            "1          1   83807.86              1          0               1   \n",
            "2          8  159660.80              3          1               0   \n",
            "3          1       0.00              2          0               0   \n",
            "4          2  125510.82              1          1               1   \n",
            "...      ...        ...            ...        ...             ...   \n",
            "9995       5       0.00              2          1               0   \n",
            "9996      10   57369.61              1          1               1   \n",
            "9997       7       0.00              1          0               1   \n",
            "9998       3   75075.31              2          1               0   \n",
            "9999       4  130142.79              1          1               0   \n",
            "\n",
            "      EstimatedSalary  Exited  \n",
            "0           101348.88       1  \n",
            "1           112542.58       0  \n",
            "2           113931.57       1  \n",
            "3            93826.63       0  \n",
            "4            79084.10       0  \n",
            "...               ...     ...  \n",
            "9995         96270.64       0  \n",
            "9996        101699.77       0  \n",
            "9997         42085.58       1  \n",
            "9998         92888.52       1  \n",
            "9999         38190.78       0  \n",
            "\n",
            "[10000 rows x 14 columns]\n"
          ]
        }
      ]
    },
    {
      "cell_type": "code",
      "source": [
        "df_html =pd.read_html('churn_modelling_html.html')\n",
        "print(df_html)"
      ],
      "metadata": {
        "id": "3LAV3IE-dM1E",
        "outputId": "e174f267-cec6-4dd7-e0df-c47d6c4a3a79",
        "colab": {
          "base_uri": "https://localhost:8080/"
        }
      },
      "execution_count": null,
      "outputs": [
        {
          "output_type": "stream",
          "name": "stdout",
          "text": [
            "[      Unnamed: 0  RowNumber  CustomerId    Surname  CreditScore Geography  \\\n",
            "0              0          1    15634602   Hargrave          619    France   \n",
            "1              1          2    15647311       Hill          608     Spain   \n",
            "2              2          3    15619304       Onio          502    France   \n",
            "3              3          4    15701354       Boni          699    France   \n",
            "4              4          5    15737888   Mitchell          850     Spain   \n",
            "...          ...        ...         ...        ...          ...       ...   \n",
            "9995        9995       9996    15606229   Obijiaku          771    France   \n",
            "9996        9996       9997    15569892  Johnstone          516    France   \n",
            "9997        9997       9998    15584532        Liu          709    France   \n",
            "9998        9998       9999    15682355  Sabbatini          772   Germany   \n",
            "9999        9999      10000    15628319     Walker          792    France   \n",
            "\n",
            "      Gender  Age  Tenure    Balance  NumOfProducts  HasCrCard  \\\n",
            "0     Female   42       2       0.00              1          1   \n",
            "1     Female   41       1   83807.86              1          0   \n",
            "2     Female   42       8  159660.80              3          1   \n",
            "3     Female   39       1       0.00              2          0   \n",
            "4     Female   43       2  125510.82              1          1   \n",
            "...      ...  ...     ...        ...            ...        ...   \n",
            "9995    Male   39       5       0.00              2          1   \n",
            "9996    Male   35      10   57369.61              1          1   \n",
            "9997  Female   36       7       0.00              1          0   \n",
            "9998    Male   42       3   75075.31              2          1   \n",
            "9999  Female   28       4  130142.79              1          1   \n",
            "\n",
            "      IsActiveMember  EstimatedSalary  Exited  \n",
            "0                  1        101348.88       1  \n",
            "1                  1        112542.58       0  \n",
            "2                  0        113931.57       1  \n",
            "3                  0         93826.63       0  \n",
            "4                  1         79084.10       0  \n",
            "...              ...              ...     ...  \n",
            "9995               0         96270.64       0  \n",
            "9996               1        101699.77       0  \n",
            "9997               1         42085.58       1  \n",
            "9998               0         92888.52       1  \n",
            "9999               0         38190.78       0  \n",
            "\n",
            "[10000 rows x 15 columns]]\n"
          ]
        }
      ]
    },
    {
      "cell_type": "code",
      "source": [],
      "metadata": {
        "id": "IB8IhbJai3rT"
      },
      "execution_count": null,
      "outputs": []
    }
  ]
}