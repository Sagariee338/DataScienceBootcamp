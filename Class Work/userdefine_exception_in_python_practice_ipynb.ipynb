{
  "nbformat": 4,
  "nbformat_minor": 0,
  "metadata": {
    "colab": {
      "provenance": []
    },
    "kernelspec": {
      "name": "python3",
      "display_name": "Python 3"
    },
    "language_info": {
      "name": "python"
    }
  },
  "cells": [
    {
      "cell_type": "code",
      "execution_count": null,
      "metadata": {
        "colab": {
          "base_uri": "https://localhost:8080/"
        },
        "id": "tacZTkiy3AMV",
        "outputId": "9e925f8e-90d2-4d6f-fba2-91e9cc540302"
      },
      "outputs": [
        {
          "output_type": "stream",
          "name": "stdout",
          "text": [
            "Hey, you cannot divide a number by zero\n"
          ]
        }
      ],
      "source": [
        "a = 8\n",
        "b = 0\n",
        "\n",
        "try:\n",
        "  print(a/b)\n",
        "except Exception:\n",
        "  print(\"Hey, you cannot divide a number by zero\")\n",
        "\n",
        "\n"
      ]
    },
    {
      "cell_type": "code",
      "source": [
        "a = 8\n",
        "b = 0\n",
        "\n",
        "try:\n",
        "  print(a/b)\n",
        "except Exception:\n",
        "  print(\"Hey, you cannot divide a number by zero\")"
      ],
      "metadata": {
        "colab": {
          "base_uri": "https://localhost:8080/"
        },
        "id": "l_UNI6u44tNo",
        "outputId": "4dc5b392-bfd5-4607-cb3f-13cbafa0d2ee"
      },
      "execution_count": null,
      "outputs": [
        {
          "output_type": "stream",
          "name": "stdout",
          "text": [
            "Hey, you cannot divide a number by zero\n"
          ]
        }
      ]
    },
    {
      "cell_type": "code",
      "source": [
        "a = 8\n",
        "b = 0\n",
        "\n",
        "try:\n",
        "  print(a/b)\n",
        "except Exception as e:\n",
        "  print(\"Hey, you cannot divide a number by zero\",e)"
      ],
      "metadata": {
        "colab": {
          "base_uri": "https://localhost:8080/"
        },
        "id": "YC29YyZV4N0K",
        "outputId": "1b158914-000a-43b4-92af-66f9a0ff0ba5"
      },
      "execution_count": null,
      "outputs": [
        {
          "output_type": "stream",
          "name": "stdout",
          "text": [
            "Hey, you cannot divide a number by zero division by zero\n"
          ]
        }
      ]
    },
    {
      "cell_type": "code",
      "source": [
        "a = 8\n",
        "b = 0\n",
        "\n",
        "try:\n",
        "  print(\"resource Open\")\n",
        "  print(a/b)\n",
        "except Exception as e:\n",
        "  print(\"Hey, you cannot divide a number by zero\",e)\n",
        "  print(\"resource Closed\")"
      ],
      "metadata": {
        "colab": {
          "base_uri": "https://localhost:8080/"
        },
        "id": "6NEl5NCP5dLn",
        "outputId": "b2cad045-388a-4892-c083-8bf8f6bffcb2"
      },
      "execution_count": null,
      "outputs": [
        {
          "output_type": "stream",
          "name": "stdout",
          "text": [
            "resource Open\n",
            "Hey, you cannot divide a number by zero division by zero\n",
            "resource Closed\n"
          ]
        }
      ]
    },
    {
      "cell_type": "code",
      "source": [
        "a = 8\n",
        "b = 4\n",
        "\n",
        "try:\n",
        "  print(\"resource Open\")\n",
        "  print(a/b)\n",
        "except Exception as e:\n",
        "  print(\"Hey, you cannot divide a number by zero\",e)\n",
        "finally:  \n",
        "  print(\"resource Closed\")"
      ],
      "metadata": {
        "colab": {
          "base_uri": "https://localhost:8080/"
        },
        "id": "78o1WtQD51rB",
        "outputId": "f8689032-b617-4a8f-8128-941d825534bf"
      },
      "execution_count": null,
      "outputs": [
        {
          "output_type": "stream",
          "name": "stdout",
          "text": [
            "resource Open\n",
            "2.0\n",
            "resource Closed\n"
          ]
        }
      ]
    }
  ]
}