{
  "nbformat": 4,
  "nbformat_minor": 0,
  "metadata": {
    "colab": {
      "provenance": []
    },
    "kernelspec": {
      "name": "python3",
      "display_name": "Python 3"
    },
    "language_info": {
      "name": "python"
    }
  },
  "cells": [
    {
      "cell_type": "code",
      "execution_count": null,
      "metadata": {
        "colab": {
          "base_uri": "https://localhost:8080/"
        },
        "id": "yo-0vAQDgV3d",
        "outputId": "741c556f-208f-4642-c7e3-75d52984d2c6"
      },
      "outputs": [
        {
          "output_type": "stream",
          "name": "stdout",
          "text": [
            "['History', 'Math', 'Physics', 'CompSci']\n",
            "4\n",
            "History\n",
            "CompSci\n",
            "CompSci\n",
            "['History', 'Math']\n",
            "['History']\n",
            "['History', 'Math', 'Physics']\n",
            "['Physics']\n",
            "['History', 'Math', 'Physics', 'CompSci']\n",
            "['Physics', 'CompSci']\n"
          ]
        }
      ],
      "source": [
        "courses =['History','Math','Physics','CompSci']\n",
        "print(courses)\n",
        "print(len(courses))\n",
        "print(courses[0])\n",
        "print(courses[3])\n",
        "print(courses[-1])\n",
        "print(courses[0:2])\n",
        "print(courses[0:1])\n",
        "print(courses[0:3])\n",
        "print(courses[2:3])\n",
        "print(courses[:4])\n",
        "print(courses[2:])"
      ]
    },
    {
      "cell_type": "code",
      "source": [
        "courses =['History','Math','Physics','CompSci']\n",
        "courses.append('Art')\n",
        "print(courses)"
      ],
      "metadata": {
        "colab": {
          "base_uri": "https://localhost:8080/"
        },
        "id": "dROzObpwoc_f",
        "outputId": "6abb4602-a028-47a7-ec4b-2fa7f460271b"
      },
      "execution_count": null,
      "outputs": [
        {
          "output_type": "stream",
          "name": "stdout",
          "text": [
            "['Art', 'History', 'Math', 'Physics', 'CompSci', 'Art']\n"
          ]
        }
      ]
    },
    {
      "cell_type": "code",
      "source": [
        "courses =['History','Math','Physics','CompSci']\n",
        "courses.insert(0,'Art')\n",
        "print(courses)"
      ],
      "metadata": {
        "colab": {
          "base_uri": "https://localhost:8080/"
        },
        "id": "eIdLUEfapKiE",
        "outputId": "af702055-11a7-49f6-834d-3fc6d447b2c3"
      },
      "execution_count": null,
      "outputs": [
        {
          "output_type": "stream",
          "name": "stdout",
          "text": [
            "['Art', 'History', 'Math', 'Physics', 'CompSci']\n"
          ]
        }
      ]
    },
    {
      "cell_type": "code",
      "source": [
        "courses =['History','Math','Physics','CompSci']\n",
        "courses2 =['Art', 'Education']\n",
        "courses.insert(0, courses2)\n",
        "print(courses)\n",
        "print(courses[0])\n",
        "print(courses[0:3])"
      ],
      "metadata": {
        "colab": {
          "base_uri": "https://localhost:8080/"
        },
        "id": "V7sM2dxtp7W9",
        "outputId": "83b442b1-480c-4d05-bfa7-816290262b13"
      },
      "execution_count": null,
      "outputs": [
        {
          "output_type": "stream",
          "name": "stdout",
          "text": [
            "[['Art', 'Education'], 'History', 'Math', 'Physics', 'CompSci']\n",
            "['Art', 'Education']\n",
            "[['Art', 'Education'], 'History', 'Math']\n"
          ]
        }
      ]
    },
    {
      "cell_type": "code",
      "source": [
        "courses =['History','Math','Physics','CompSci']\n",
        "courses2 =['Art', 'Education']\n",
        "courses.extend(courses2)\n",
        "print(courses)"
      ],
      "metadata": {
        "colab": {
          "base_uri": "https://localhost:8080/"
        },
        "id": "6hcjTYh7q5lp",
        "outputId": "1d6b8b2f-2a2e-4578-cda7-e52d97fdcbb7"
      },
      "execution_count": null,
      "outputs": [
        {
          "output_type": "stream",
          "name": "stdout",
          "text": [
            "['History', 'Math', 'Physics', 'CompSci', 'Art', 'Education']\n"
          ]
        }
      ]
    },
    {
      "cell_type": "code",
      "source": [
        "courses =['History','Math','Physics','CompSci']\n",
        "courses2 =['Art', 'Education']\n",
        "courses.append(courses2)\n",
        "print(courses)"
      ],
      "metadata": {
        "colab": {
          "base_uri": "https://localhost:8080/"
        },
        "id": "ULzw6BUCrdLf",
        "outputId": "677d81b5-594f-4e1d-ee41-badb813a048a"
      },
      "execution_count": null,
      "outputs": [
        {
          "output_type": "stream",
          "name": "stdout",
          "text": [
            "['History', 'Math', 'Physics', 'CompSci', ['Art', 'Education']]\n"
          ]
        }
      ]
    },
    {
      "cell_type": "code",
      "source": [
        "courses =['History','Math','Physics','CompSci']\n",
        "courses.remove('Math')\n",
        "print(courses)\n"
      ],
      "metadata": {
        "colab": {
          "base_uri": "https://localhost:8080/"
        },
        "id": "2DmWX5mpr7IB",
        "outputId": "8789d41e-c089-4733-d40e-549fbf5a4c75"
      },
      "execution_count": null,
      "outputs": [
        {
          "output_type": "stream",
          "name": "stdout",
          "text": [
            "['History', 'Physics', 'CompSci']\n"
          ]
        }
      ]
    },
    {
      "cell_type": "code",
      "source": [
        "courses =['History','Math','Physics','CompSci']\n",
        "print(courses)"
      ],
      "metadata": {
        "colab": {
          "base_uri": "https://localhost:8080/"
        },
        "id": "8h9IgkfQs3AO",
        "outputId": "493f91e0-fc16-4086-be16-36ee70965284"
      },
      "execution_count": null,
      "outputs": [
        {
          "output_type": "stream",
          "name": "stdout",
          "text": [
            "['History', 'Math', 'Physics', 'CompSci']\n"
          ]
        }
      ]
    },
    {
      "cell_type": "code",
      "source": [
        "courses =['History','Math','Physics','CompSci']\n",
        "popped = courses.pop()\n",
        "print(popped)\n",
        "print(courses)"
      ],
      "metadata": {
        "colab": {
          "base_uri": "https://localhost:8080/"
        },
        "id": "9nOsdAAcs_eu",
        "outputId": "5cc02451-8757-46c0-ebbe-a7e48f243983"
      },
      "execution_count": null,
      "outputs": [
        {
          "output_type": "stream",
          "name": "stdout",
          "text": [
            "CompSci\n",
            "['History', 'Math', 'Physics']\n"
          ]
        }
      ]
    },
    {
      "cell_type": "code",
      "source": [
        "courses =['History','Math','Physics','CompSci']\n",
        "courses.reverse()\n",
        "print(courses)"
      ],
      "metadata": {
        "colab": {
          "base_uri": "https://localhost:8080/"
        },
        "id": "9XeOo9D5tjwe",
        "outputId": "d2c9dae9-0317-4712-a6fc-59878351c850"
      },
      "execution_count": null,
      "outputs": [
        {
          "output_type": "stream",
          "name": "stdout",
          "text": [
            "['CompSci', 'Physics', 'Math', 'History']\n"
          ]
        }
      ]
    },
    {
      "cell_type": "code",
      "source": [
        "courses =['History','Math','Physics','CompSci']\n",
        "courses.sort()\n",
        "print(courses)"
      ],
      "metadata": {
        "colab": {
          "base_uri": "https://localhost:8080/"
        },
        "id": "yv0uiMEEt9ki",
        "outputId": "3a65476d-b523-4e41-8c35-ccc4846d90f8"
      },
      "execution_count": null,
      "outputs": [
        {
          "output_type": "stream",
          "name": "stdout",
          "text": [
            "['CompSci', 'History', 'Math', 'Physics']\n"
          ]
        }
      ]
    },
    {
      "cell_type": "code",
      "source": [
        "nums = [1,4,7,3,9,2]\n",
        "nums.sort()\n",
        "print(nums)"
      ],
      "metadata": {
        "colab": {
          "base_uri": "https://localhost:8080/"
        },
        "id": "j18M6g7WvJKA",
        "outputId": "9928b890-b75d-4f36-f5c7-17243b92f6e2"
      },
      "execution_count": null,
      "outputs": [
        {
          "output_type": "stream",
          "name": "stdout",
          "text": [
            "[1, 2, 3, 4, 7, 9]\n"
          ]
        }
      ]
    },
    {
      "cell_type": "code",
      "source": [
        "courses =['History','Math','Physics','CompSci']\n",
        "courses.sort(reverse=True)\n",
        "print(courses)\n",
        "nums = [1,4,7,3,9,2]\n",
        "nums.sort(reverse=True)\n",
        "print(nums)"
      ],
      "metadata": {
        "colab": {
          "base_uri": "https://localhost:8080/"
        },
        "id": "6-70K4EJv3kS",
        "outputId": "72be1b4d-ca74-4323-91b4-4b2f55aa366c"
      },
      "execution_count": null,
      "outputs": [
        {
          "output_type": "stream",
          "name": "stdout",
          "text": [
            "['Physics', 'Math', 'History', 'CompSci']\n",
            "[9, 7, 4, 3, 2, 1]\n"
          ]
        }
      ]
    },
    {
      "cell_type": "code",
      "source": [],
      "metadata": {
        "id": "ixIzkBLcyHh3"
      },
      "execution_count": null,
      "outputs": []
    },
    {
      "cell_type": "code",
      "source": [
        "nums = [1,4,7,3,9,2]\n",
        "print(max(nums))"
      ],
      "metadata": {
        "colab": {
          "base_uri": "https://localhost:8080/"
        },
        "id": "0LvRGX2fwoAz",
        "outputId": "106613e1-4cbb-4f2c-f48e-7e067f1b4d3d"
      },
      "execution_count": null,
      "outputs": [
        {
          "output_type": "stream",
          "name": "stdout",
          "text": [
            "9\n"
          ]
        }
      ]
    },
    {
      "cell_type": "code",
      "source": [
        "nums = [1,4,7,3,9,2]\n",
        "print(min(nums))"
      ],
      "metadata": {
        "colab": {
          "base_uri": "https://localhost:8080/"
        },
        "id": "jBCnuGWuwwrv",
        "outputId": "832ff975-9bf4-4589-e2ec-33ab93a4aecf"
      },
      "execution_count": null,
      "outputs": [
        {
          "output_type": "stream",
          "name": "stdout",
          "text": [
            "1\n"
          ]
        }
      ]
    },
    {
      "cell_type": "code",
      "source": [
        "nums = [1,4,7,3,9,2]\n",
        "print(sum(nums))"
      ],
      "metadata": {
        "colab": {
          "base_uri": "https://localhost:8080/"
        },
        "id": "c8TmAHNgw-ba",
        "outputId": "5f2bd452-6615-46f7-9c35-ad55915118b1"
      },
      "execution_count": null,
      "outputs": [
        {
          "output_type": "stream",
          "name": "stdout",
          "text": [
            "26\n"
          ]
        }
      ]
    },
    {
      "cell_type": "code",
      "source": [
        "courses =['History','Math','Physics','CompSci']\n",
        "print(courses.index('CompSci'))"
      ],
      "metadata": {
        "colab": {
          "base_uri": "https://localhost:8080/"
        },
        "id": "YaFTX2gJyI1c",
        "outputId": "3682ee68-a09e-4bd0-de3f-04ad4b220589"
      },
      "execution_count": null,
      "outputs": [
        {
          "output_type": "stream",
          "name": "stdout",
          "text": [
            "3\n"
          ]
        }
      ]
    },
    {
      "cell_type": "code",
      "source": [
        "courses =['History','Math','Physics','CompSci']\n",
        "print('Math' in courses)"
      ],
      "metadata": {
        "colab": {
          "base_uri": "https://localhost:8080/"
        },
        "id": "QZlQll8cycIo",
        "outputId": "09db9b60-762a-4a28-b64e-92261ab57e23"
      },
      "execution_count": null,
      "outputs": [
        {
          "output_type": "stream",
          "name": "stdout",
          "text": [
            "True\n"
          ]
        }
      ]
    },
    {
      "cell_type": "code",
      "source": [
        "courses =['History','Math','Physics','CompSci']\n",
        "for item in courses:\n",
        "  print(item)"
      ],
      "metadata": {
        "colab": {
          "base_uri": "https://localhost:8080/"
        },
        "id": "YIqOIdxcy4Ra",
        "outputId": "381d3e80-a9a3-45dc-f3c0-bfb9b7d21eaf"
      },
      "execution_count": null,
      "outputs": [
        {
          "output_type": "stream",
          "name": "stdout",
          "text": [
            "History\n",
            "Math\n",
            "Physics\n",
            "CompSci\n"
          ]
        }
      ]
    },
    {
      "cell_type": "code",
      "source": [
        "courses =['History','Math','Physics','CompSci']\n",
        "for index, course in enumerate(courses):\n",
        "  print(index,course)"
      ],
      "metadata": {
        "colab": {
          "base_uri": "https://localhost:8080/"
        },
        "id": "K-5YRjmf0fti",
        "outputId": "5b9dbbd9-07b3-4b1a-a4ee-f118853a817d"
      },
      "execution_count": null,
      "outputs": [
        {
          "output_type": "stream",
          "name": "stdout",
          "text": [
            "0 History\n",
            "1 Math\n",
            "2 Physics\n",
            "3 CompSci\n"
          ]
        }
      ]
    },
    {
      "cell_type": "code",
      "source": [
        "courses =['History','Math','Physics','CompSci']\n",
        "course_str = ', '.join(courses)\n",
        "print(course_str)"
      ],
      "metadata": {
        "colab": {
          "base_uri": "https://localhost:8080/"
        },
        "id": "3OLWPY5O0hjt",
        "outputId": "47d13386-9c2f-417d-c3ca-cc3f2b0a2630"
      },
      "execution_count": null,
      "outputs": [
        {
          "output_type": "stream",
          "name": "stdout",
          "text": [
            "History, Math, Physics, CompSci\n"
          ]
        }
      ]
    },
    {
      "cell_type": "code",
      "source": [
        "courses =['History','Math','Physics','CompSci']\n",
        "course_str = ', '.join(courses)\n",
        "new_list = course_str.split(', ')\n",
        "print(course_str)\n",
        "print(new_list)"
      ],
      "metadata": {
        "colab": {
          "base_uri": "https://localhost:8080/"
        },
        "id": "9EOTZqRH2ULD",
        "outputId": "8b867494-d562-454b-f0b9-5f096ae8bcae"
      },
      "execution_count": null,
      "outputs": [
        {
          "output_type": "stream",
          "name": "stdout",
          "text": [
            "History, Math, Physics, CompSci\n",
            "['History', 'Math', 'Physics', 'CompSci']\n"
          ]
        }
      ]
    },
    {
      "cell_type": "code",
      "source": [
        "x='hello'\n",
        "y=\"world\"\n",
        "z=input()\n",
        "print(x,y,z)"
      ],
      "metadata": {
        "colab": {
          "base_uri": "https://localhost:8080/"
        },
        "id": "eDySr6OprHkN",
        "outputId": "d0eb80a0-bf61-4a7f-92ed-c6b09bb39c98"
      },
      "execution_count": null,
      "outputs": [
        {
          "output_type": "stream",
          "name": "stdout",
          "text": [
            "2\n",
            "hello world 2\n"
          ]
        }
      ]
    },
    {
      "cell_type": "code",
      "source": [
        "animals = {'reptiles':'snake',\n",
        "'mammals':'whale',\n",
        "'amphibians':'frogs'\n",
        "         }\n",
        "print(animals)"
      ],
      "metadata": {
        "colab": {
          "base_uri": "https://localhost:8080/"
        },
        "id": "bWx2Ea4rvT0P",
        "outputId": "91ddf4ed-6b7a-412b-f042-86c64d168e93"
      },
      "execution_count": null,
      "outputs": [
        {
          "output_type": "stream",
          "name": "stdout",
          "text": [
            "{'reptiles': 'snake', 'mammals': 'whale', 'amphibians': 'frogs'}\n"
          ]
        }
      ]
    },
    {
      "cell_type": "code",
      "source": [
        "animals=('lion',\n",
        "         'tiger',\n",
        "         'monkey')\n",
        "print(animals)"
      ],
      "metadata": {
        "colab": {
          "base_uri": "https://localhost:8080/"
        },
        "id": "CX-NKsD6xAhi",
        "outputId": "994bc4b6-f583-4735-8745-45deedd7bb4f"
      },
      "execution_count": null,
      "outputs": [
        {
          "output_type": "stream",
          "name": "stdout",
          "text": [
            "('lion', 'tiger', 'monkey')\n"
          ]
        }
      ]
    },
    {
      "cell_type": "code",
      "source": [
        "Fr"
      ],
      "metadata": {
        "id": "_DmSrqjBZZkP"
      },
      "execution_count": null,
      "outputs": []
    },
    {
      "cell_type": "markdown",
      "source": [
        "Friday May 12\n"
      ],
      "metadata": {
        "id": "_o-v75TVZcFi"
      }
    },
    {
      "cell_type": "code",
      "source": [
        "\n",
        "def hello_function():\n",
        "    print('Hello Function!')\n",
        "hello_function()\n"
      ],
      "metadata": {
        "colab": {
          "base_uri": "https://localhost:8080/"
        },
        "id": "qK-k_iHiZfLo",
        "outputId": "6f7800ac-acaa-4787-be13-07c4396b0956"
      },
      "execution_count": null,
      "outputs": [
        {
          "output_type": "stream",
          "name": "stdout",
          "text": [
            "Hello Function!\n"
          ]
        }
      ]
    }
  ]
}