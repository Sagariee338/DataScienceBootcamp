{
  "nbformat": 4,
  "nbformat_minor": 0,
  "metadata": {
    "colab": {
      "provenance": []
    },
    "kernelspec": {
      "name": "python3",
      "display_name": "Python 3"
    },
    "language_info": {
      "name": "python"
    }
  },
  "cells": [
    {
      "cell_type": "code",
      "execution_count": null,
      "metadata": {
        "id": "hU2RAUQe3XCW"
      },
      "outputs": [],
      "source": [
        "def prog_add(a,b):\n",
        "  return a+b\n"
      ]
    },
    {
      "cell_type": "code",
      "source": [
        "def prog_add(a,b,c):\n",
        "  return a+b+c"
      ],
      "metadata": {
        "id": "q0aZJHQU4QGs"
      },
      "execution_count": null,
      "outputs": []
    },
    {
      "cell_type": "code",
      "source": [
        "def prog_add(a,b,c,d,e,f,g,h,i,j):\n",
        "  return a+b+c+d+e+f+g+h+i+j"
      ],
      "metadata": {
        "id": "Myccz95j4TRo"
      },
      "execution_count": null,
      "outputs": []
    },
    {
      "cell_type": "code",
      "source": [
        "def prog_add(*args):\n",
        "  return sum(args)"
      ],
      "metadata": {
        "id": "n0ceSM275KFF"
      },
      "execution_count": null,
      "outputs": []
    },
    {
      "cell_type": "code",
      "source": [
        "prog_add(1,2,3,4,5,6,7,8,9,10,11)"
      ],
      "metadata": {
        "colab": {
          "base_uri": "https://localhost:8080/"
        },
        "id": "70MvNWML5Yls",
        "outputId": "9e058fb5-9586-49e8-bee4-f711a861fd9d"
      },
      "execution_count": null,
      "outputs": [
        {
          "output_type": "execute_result",
          "data": {
            "text/plain": [
              "66"
            ]
          },
          "metadata": {},
          "execution_count": 5
        }
      ]
    },
    {
      "cell_type": "code",
      "source": [
        "prog_add(1,2,3,4,5,6,7,8,9,10,11,1,2,3,4,5,6,7,8,9,10,11,1,2,3,4,5,6,7,8,9,10,11,1,2,3,4,5,6,7,8,9,10,11,1,2,3,4,5,6,7,8,9,10,11)"
      ],
      "metadata": {
        "colab": {
          "base_uri": "https://localhost:8080/"
        },
        "id": "ycAcOyZe5wAY",
        "outputId": "9179ec4f-c785-484a-e8ed-61a16e4b37b1"
      },
      "execution_count": null,
      "outputs": [
        {
          "output_type": "execute_result",
          "data": {
            "text/plain": [
              "330"
            ]
          },
          "metadata": {},
          "execution_count": 7
        }
      ]
    },
    {
      "cell_type": "code",
      "source": [
        "prog_add(1,2,3,1.2,1.3,1.4,)"
      ],
      "metadata": {
        "colab": {
          "base_uri": "https://localhost:8080/"
        },
        "id": "jfoRkw7Q59B-",
        "outputId": "8fe3770e-c020-4408-fa18-196eb9cbdd5e"
      },
      "execution_count": null,
      "outputs": [
        {
          "output_type": "execute_result",
          "data": {
            "text/plain": [
              "9.9"
            ]
          },
          "metadata": {},
          "execution_count": 8
        }
      ]
    },
    {
      "cell_type": "code",
      "source": [
        "def prog_add(*args):\n",
        "  print(args)"
      ],
      "metadata": {
        "id": "XiT7BFGd63yb"
      },
      "execution_count": null,
      "outputs": []
    },
    {
      "cell_type": "code",
      "source": [
        "prog_add([1,2,3,1.2,1.3,1.4],{1,2,3,1.2,1.3,1.4})"
      ],
      "metadata": {
        "colab": {
          "base_uri": "https://localhost:8080/"
        },
        "id": "LyTOhqkq6f0D",
        "outputId": "eb4201c5-8d0d-482c-a7ea-8803da75ab5a"
      },
      "execution_count": null,
      "outputs": [
        {
          "output_type": "stream",
          "name": "stdout",
          "text": [
            "([1, 2, 3, 1.2, 1.3, 1.4], {1.2, 1, 2, 3, 1.3, 1.4})\n"
          ]
        }
      ]
    },
    {
      "cell_type": "code",
      "source": [
        "prog_add(['apple','python',11,22,-33,4.4,-5.5,12+7j,-9-8j,True,False],('apple','python',11,22,-33,4.4,-5.5,12+7j,-9-8j,True,False)])"
      ],
      "metadata": {
        "colab": {
          "base_uri": "https://localhost:8080/",
          "height": 183
        },
        "id": "KLL1DfES6xW7",
        "outputId": "8dfae4b1-7cc6-430f-cae3-90f90fde63e8"
      },
      "execution_count": null,
      "outputs": [
        {
          "output_type": "error",
          "ename": "SyntaxError",
          "evalue": "ignored",
          "traceback": [
            "\u001b[0;36m  File \u001b[0;32m\"<ipython-input-15-850350b0f766>\"\u001b[0;36m, line \u001b[0;32m1\u001b[0m\n\u001b[0;31m    prog_add(['apple','python',11,22,-33,4.4,-5.5,12+7j,-9-8j,True,False],('apple','python',11,22,-33,4.4,-5.5,12+7j,-9-8j,True,False)])\u001b[0m\n\u001b[0m                                                                                                                                      ^\u001b[0m\n\u001b[0;31mSyntaxError\u001b[0m\u001b[0;31m:\u001b[0m closing parenthesis ']' does not match opening parenthesis '('\n"
          ]
        }
      ]
    },
    {
      "cell_type": "code",
      "source": [
        "def prog_add(*Sagar):\n",
        "  print(Sagar)\n",
        "  \n"
      ],
      "metadata": {
        "id": "D02IG7Wa7ppQ"
      },
      "execution_count": null,
      "outputs": []
    }
  ]
}