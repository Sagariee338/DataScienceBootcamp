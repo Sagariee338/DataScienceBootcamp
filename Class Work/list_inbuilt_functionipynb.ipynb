{
  "nbformat": 4,
  "nbformat_minor": 0,
  "metadata": {
    "colab": {
      "provenance": []
    },
    "kernelspec": {
      "name": "python3",
      "display_name": "Python 3"
    },
    "language_info": {
      "name": "python"
    }
  },
  "cells": [
    {
      "cell_type": "code",
      "execution_count": null,
      "metadata": {
        "colab": {
          "base_uri": "https://localhost:8080/"
        },
        "id": "4pupsSz1gzku",
        "outputId": "d1986f48-3781-4980-ad5d-a90fdbee0c1f"
      },
      "outputs": [
        {
          "output_type": "stream",
          "name": "stdout",
          "text": [
            "3\n",
            "4\n",
            "7\n"
          ]
        }
      ],
      "source": [
        "a=[1,2,3,4,6,7]\n",
        "#rows = 1, coulumn = 7\n",
        "a=[[1,2,3],[2,3,4],[5,6,7]]\n",
        "#rows = 1, coulumn = 3\n",
        "print(a[0][2])\n",
        "print(a[1][2])\n",
        "print(a[2][2])"
      ]
    },
    {
      "cell_type": "code",
      "source": [
        "# Write a program to find out the prime factors of a number. Example: prime factors of 56\n",
        "\n",
        "def is_prime(n):\n",
        "   for i in range(2, n):\n",
        "      if n % i == 0:\n",
        "        return False\n",
        "   return True\n",
        "\n",
        "def primeFactors(n):\n",
        "  checkmate=True\n",
        "  for k in range(2,n):\n",
        "    if n%k==0:\n",
        "      if is_prime(k):\n",
        "        print(str(k)+\" is a prime factor of\",n)\n",
        "        checkmate=False\n",
        "  if checkmate:\n",
        "    print(\"Number has no prime factors\")\n",
        "\n",
        "n = 56\n",
        "primeFactors(n)"
      ],
      "metadata": {
        "colab": {
          "base_uri": "https://localhost:8080/"
        },
        "id": "Dq3OYG2GqWGy",
        "outputId": "94ee45d9-d11d-4118-8dcc-b6235ee4fe36"
      },
      "execution_count": null,
      "outputs": [
        {
          "output_type": "stream",
          "name": "stdout",
          "text": [
            "2 is a prime factor of 56\n",
            "7 is a prime factor of 56\n"
          ]
        }
      ]
    },
    {
      "cell_type": "code",
      "source": [
        "#If all digits of a number n are multiplied by each other repeating with the product, the one digit number obtained at last is called the multiplicative digital root of n. The number of times digits need to be multiplied to reach one digit is called the multiplicative persistance of n\n",
        "\n",
        "\n",
        "#Example: 86 -> 48 -> 32 -> 6 (MDR 6, MPersistence 3)\n",
        "\n",
        "# 341 -> 12->2           (MDR 2, MPersistence 2)\n",
        "\n",
        "def is_MDR(n):\n",
        "  for i in range(6,3)\n",
        "  \n"
      ],
      "metadata": {
        "id": "fC95ZxeCswJ1"
      },
      "execution_count": null,
      "outputs": []
    },
    {
      "cell_type": "code",
      "source": [
        "def get_multiplicative_digital_root(number):\n",
        "    while number > 9:\n",
        "        product = 1\n",
        "        for digit in str(number):\n",
        "            product *= int(digit)\n",
        "        number = product\n",
        "    return number\n",
        "\n",
        "def get_multiplicative_persistence(number):\n",
        "    count = 0\n",
        "    while number > 9:\n",
        "        product = 1\n",
        "        for digit in str(number):\n",
        "            product *= int(digit)\n",
        "        number = product\n",
        "        count += 1\n",
        "    return count\n",
        "\n",
        "# Test the functions\n",
        "number = 86\n",
        "mdr = get_multiplicative_digital_root(number)\n",
        "mpersistence = get_multiplicative_persistence(number)\n",
        "\n",
        "print(f\"MDR: {mdr}\")\n",
        "print(f\"MPersistence: {mpersistence}\")"
      ],
      "metadata": {
        "id": "e_7MoH3xxIMp",
        "outputId": "80cedc88-8a92-4de8-e21a-54207992cd16",
        "colab": {
          "base_uri": "https://localhost:8080/"
        }
      },
      "execution_count": null,
      "outputs": [
        {
          "output_type": "stream",
          "name": "stdout",
          "text": [
            "MDR: 6\n",
            "MPersistence: 3\n"
          ]
        }
      ]
    }
  ]
}