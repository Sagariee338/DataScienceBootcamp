{
  "nbformat": 4,
  "nbformat_minor": 0,
  "metadata": {
    "colab": {
      "provenance": [],
      "authorship_tag": "ABX9TyOXUl//vmlupCBC7gvhRNbp",
      "include_colab_link": true
    },
    "kernelspec": {
      "name": "python3",
      "display_name": "Python 3"
    },
    "language_info": {
      "name": "python"
    }
  },
  "cells": [
    {
      "cell_type": "markdown",
      "metadata": {
        "id": "view-in-github",
        "colab_type": "text"
      },
      "source": [
        "<a href=\"https://colab.research.google.com/github/Sagariee338/DataScienceBootcamp/blob/main/One_hot_encoding_using_scikit_learn.ipynb\" target=\"_parent\"><img src=\"https://colab.research.google.com/assets/colab-badge.svg\" alt=\"Open In Colab\"/></a>"
      ]
    },
    {
      "cell_type": "code",
      "execution_count": 11,
      "metadata": {
        "id": "zWU-zte_t2-M"
      },
      "outputs": [],
      "source": [
        "from sklearn.preprocessing  import OneHotEncoder\n",
        "import numpy as np\n"
      ]
    },
    {
      "cell_type": "code",
      "source": [
        "Vocabulary = ['Natural','Language', 'Processing','For','Text','and','speech']"
      ],
      "metadata": {
        "id": "WSqhoazduTky"
      },
      "execution_count": 5,
      "outputs": []
    },
    {
      "cell_type": "code",
      "source": [
        "Vocabulary_reshaped = np.array (Vocabulary).reshape(-1,1)"
      ],
      "metadata": {
        "id": "vThvTAZQushE"
      },
      "execution_count": 7,
      "outputs": []
    },
    {
      "cell_type": "code",
      "source": [
        "Vocabulary_reshaped"
      ],
      "metadata": {
        "colab": {
          "base_uri": "https://localhost:8080/"
        },
        "id": "lUOCPVJ3v_PW",
        "outputId": "23bc39af-342b-4343-d204-429fde9e41c7"
      },
      "execution_count": 8,
      "outputs": [
        {
          "output_type": "execute_result",
          "data": {
            "text/plain": [
              "array([['Natural'],\n",
              "       ['Language'],\n",
              "       ['Processing'],\n",
              "       ['For'],\n",
              "       ['Text'],\n",
              "       ['and'],\n",
              "       ['speech']], dtype='<U10')"
            ]
          },
          "metadata": {},
          "execution_count": 8
        }
      ]
    },
    {
      "cell_type": "code",
      "source": [
        "one_hot_encoder = OneHotEncoder(sparse_output=False)"
      ],
      "metadata": {
        "id": "X_931yOVwErQ"
      },
      "execution_count": 14,
      "outputs": []
    },
    {
      "cell_type": "code",
      "source": [
        "one_hot_encoded = one_hot_encoder.fit_transform(Vocabulary_reshaped)"
      ],
      "metadata": {
        "id": "iRoZyBmhwavN"
      },
      "execution_count": 16,
      "outputs": []
    },
    {
      "cell_type": "code",
      "source": [
        "one_hot_encoded"
      ],
      "metadata": {
        "colab": {
          "base_uri": "https://localhost:8080/"
        },
        "id": "w7dUG3yew_o8",
        "outputId": "c30a8dd6-9a3d-41c8-bbcd-f8540b527774"
      },
      "execution_count": 17,
      "outputs": [
        {
          "output_type": "execute_result",
          "data": {
            "text/plain": [
              "array([[0., 0., 1., 0., 0., 0., 0.],\n",
              "       [0., 1., 0., 0., 0., 0., 0.],\n",
              "       [0., 0., 0., 1., 0., 0., 0.],\n",
              "       [1., 0., 0., 0., 0., 0., 0.],\n",
              "       [0., 0., 0., 0., 1., 0., 0.],\n",
              "       [0., 0., 0., 0., 0., 1., 0.],\n",
              "       [0., 0., 0., 0., 0., 0., 1.]])"
            ]
          },
          "metadata": {},
          "execution_count": 17
        }
      ]
    },
    {
      "cell_type": "code",
      "source": [
        "for word, vector in zip(Vocabulary, one_hot_encoded):\n",
        "    print(f\"{word}: {vector}\")"
      ],
      "metadata": {
        "colab": {
          "base_uri": "https://localhost:8080/"
        },
        "id": "W9nCm30b0NPo",
        "outputId": "817d19c1-1f3f-42fd-cc89-582a8856e97a"
      },
      "execution_count": 18,
      "outputs": [
        {
          "output_type": "stream",
          "name": "stdout",
          "text": [
            "Natural: [0. 0. 1. 0. 0. 0. 0.]\n",
            "Language: [0. 1. 0. 0. 0. 0. 0.]\n",
            "Processing: [0. 0. 0. 1. 0. 0. 0.]\n",
            "For: [1. 0. 0. 0. 0. 0. 0.]\n",
            "Text: [0. 0. 0. 0. 1. 0. 0.]\n",
            "and: [0. 0. 0. 0. 0. 1. 0.]\n",
            "speech: [0. 0. 0. 0. 0. 0. 1.]\n"
          ]
        }
      ]
    },
    {
      "cell_type": "code",
      "source": [],
      "metadata": {
        "id": "1pvfFoR703tS"
      },
      "execution_count": null,
      "outputs": []
    }
  ]
}