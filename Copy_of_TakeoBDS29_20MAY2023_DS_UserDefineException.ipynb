{
  "nbformat": 4,
  "nbformat_minor": 0,
  "metadata": {
    "colab": {
      "provenance": []
    },
    "kernelspec": {
      "name": "python3",
      "display_name": "Python 3"
    },
    "language_info": {
      "name": "python"
    }
  },
  "cells": [
    {
      "cell_type": "code",
      "execution_count": null,
      "metadata": {
        "id": "JjQtT2TP5q7r"
      },
      "outputs": [],
      "source": [
        "class ud1_exception(Exception): \n",
        "  # Exception is my parent class\n",
        "  # ud1_exception is my child class\n",
        "  # ud1_exception is Inheriting properties from Exception\n",
        "  # \n",
        "  def __init__(self, message):\n",
        "    print(\"this is ud1_exception user define exception \")\n",
        "    pass"
      ]
    },
    {
      "cell_type": "code",
      "source": [
        "ud1a = ud1_exception('Python')\n",
        "print(type(ud1a))"
      ],
      "metadata": {
        "colab": {
          "base_uri": "https://localhost:8080/"
        },
        "id": "I4AtPrFG7hME",
        "outputId": "899ecb03-df19-4396-84f3-5a5cce949cb1"
      },
      "execution_count": null,
      "outputs": [
        {
          "output_type": "stream",
          "name": "stdout",
          "text": [
            "this is ud1_exception user define exception \n",
            "<class '__main__.ud1_exception'>\n"
          ]
        }
      ]
    },
    {
      "cell_type": "code",
      "source": [
        "a1 = 10\n",
        "\n",
        "for i in range(a1):\n",
        "  try:\n",
        "    raise ud1_exception(\"first user define exception program\")\n",
        "  "
      ],
      "metadata": {
        "id": "LKNfFkna76iy",
        "outputId": "50a44189-cba1-468d-8782-66190cb9aac4",
        "colab": {
          "base_uri": "https://localhost:8080/",
          "height": 130
        }
      },
      "execution_count": null,
      "outputs": [
        {
          "output_type": "error",
          "ename": "SyntaxError",
          "evalue": "ignored",
          "traceback": [
            "\u001b[0;36m  File \u001b[0;32m\"<ipython-input-9-3140de589ee5>\"\u001b[0;36m, line \u001b[0;32m6\u001b[0m\n\u001b[0;31m    \u001b[0m\n\u001b[0m    ^\u001b[0m\n\u001b[0;31mSyntaxError\u001b[0m\u001b[0;31m:\u001b[0m incomplete input\n"
          ]
        }
      ]
    },
    {
      "cell_type": "code",
      "source": [
        "class ud2_exception(Exception):\n",
        "  pass\n"
      ],
      "metadata": {
        "id": "EmoE4dyx9arq"
      },
      "execution_count": null,
      "outputs": []
    },
    {
      "cell_type": "code",
      "source": [
        "try:\n",
        "  raise ud2_exception('ud2_exception ')\n",
        "except Exception as ex:\n",
        "    print(\"ud2_exception :\", ex)"
      ],
      "metadata": {
        "id": "JoZuhosB-FR4",
        "outputId": "2154c7b8-f266-4b9a-c559-dc95539f2c50",
        "colab": {
          "base_uri": "https://localhost:8080/"
        }
      },
      "execution_count": null,
      "outputs": [
        {
          "output_type": "stream",
          "name": "stdout",
          "text": [
            "ud2_exception : ud2_exception \n"
          ]
        }
      ]
    },
    {
      "cell_type": "code",
      "source": [
        "class PercentageError(Exception):\n",
        "  pass\n",
        "\n",
        "class valid_percent(PercentageError):\n",
        "  def __init__(self):\n",
        "    super().__init__('percentage is invalid')\n",
        "    # Exception class for percentage < 80\n",
        "class LessPercentageError(PercentageError):\n",
        "    def __init__(self):\n",
        "        super().__init__(\"The Percentage is lesser than the Cut-off, Please try again!\")"
      ],
      "metadata": {
        "id": "50pztb5E_lZI"
      },
      "execution_count": null,
      "outputs": []
    },
    {
      "cell_type": "code",
      "source": [
        "# #define Python user-defined excecptions\n",
        "# class InvalidAgeException(Exception):\n",
        "#   \"Raised when the input value is less than 18\"\n",
        "#   pass\n",
        "\n",
        "#  #you need to guess this number\n",
        "#  lower_num = 18\n",
        "\n"
      ],
      "metadata": {
        "id": "hl9GLa2DBeN0"
      },
      "execution_count": null,
      "outputs": []
    },
    {
      "cell_type": "code",
      "source": [
        "# define Python user-defined exceptions\n",
        "class InvalidAgeException(Exception):\n",
        "    \"Raised when the input value is less than 18\"\n",
        "    pass\n",
        "\n",
        "# you need to guess this number\n",
        "lower_num = 18\n",
        "upper_num = 125\n",
        "\n",
        "try:\n",
        "    input_num = int(input(\"Enter a number: \"))\n",
        "    if input_num < lower_num:\n",
        "        raise InvalidAgeException\n",
        "    elif input_num > upper_num:\n",
        "        raise InvalidAgeException        \n",
        "    else:\n",
        "        print(\"Eligible to Vote\")\n",
        "        \n",
        "except InvalidAgeException:\n",
        "    print(\"Exception occurred: Invalid Age\")"
      ],
      "metadata": {
        "id": "4TXukxY7J9mp",
        "outputId": "fd9efd7c-2514-4084-c4d9-337a0f3c4986",
        "colab": {
          "base_uri": "https://localhost:8080/"
        }
      },
      "execution_count": null,
      "outputs": [
        {
          "output_type": "stream",
          "name": "stdout",
          "text": [
            "Enter a number: 126\n",
            "Exception occurred: Invalid Age\n"
          ]
        }
      ]
    },
    {
      "cell_type": "code",
      "source": [
        "class InvalidcolorException(Exception):\n",
        "    \"Raised when the input value is Black\"\n",
        "    pass\n",
        "\n",
        "colorlist = [\"Red\", \"Orange\", \"Yellow\", \"Green\", \"Blue\", \"Indigo\", \"Violet\"]\n",
        "\n",
        "try:\n",
        "    inp1 = input(\"Enter a color: \")\n",
        "    if inp1 not in colorlist:\n",
        "        raise InvalidcolorException(\"Invalid color: \" + inp1)\n",
        "    else:\n",
        "        print(\"Valid color:\", inp1)\n",
        "except InvalidcolorException as e:\n",
        "    print(e)\n"
      ],
      "metadata": {
        "id": "8hQWA6WcKi2t",
        "outputId": "46807c7c-e5b5-40ca-e2f4-1ce95f980bf8",
        "colab": {
          "base_uri": "https://localhost:8080/"
        }
      },
      "execution_count": null,
      "outputs": [
        {
          "output_type": "stream",
          "name": "stdout",
          "text": [
            "Enter a color: Black\n",
            "Invalid color: Black\n"
          ]
        }
      ]
    },
    {
      "cell_type": "code",
      "source": [
        "# Python user-defined exceptions for vowel letter\n",
        "class InvalidAlphabetException(Exception):\n",
        "  \"Raised when the input value is vowel\"\n",
        "  pass\n",
        "  \n",
        "  Vowels = ['a', 'e', 'i', 'o', 'u']\n",
        "  try:\n",
        "    input_letter = int(input(\"Enter a Vowles: \"))\n",
        "    if input_letter is Vowels:\n",
        "      raise InvalidAlphabetException\n",
        "    else:\n",
        "      print(\"Valid Vowels letter\")\n",
        "  except InvalidAlphabetException:\n",
        "    print(\"Exception occurred: Invalid Vowels\")\n",
        "\n"
      ],
      "metadata": {
        "id": "Ptdi-BHTKr5v"
      },
      "execution_count": null,
      "outputs": []
    },
    {
      "cell_type": "code",
      "source": [
        "exception:\n",
        "\n",
        "1. UDExc: valid age < 19\n",
        "2. UDExc: gender in ['M', 'F']\n",
        "3. UDExc: if 'M' >= 160 cms\n",
        "      if 'F' >= 150 cms\n",
        "4. UDExc: if 'M' <= 72 and >= 65\n",
        "      if 'F' <= 65 and >= 55\n",
        "5. UDExc: Nationality = 'INDIAN'"
      ],
      "metadata": {
        "id": "wgtL6NJ_OEIw"
      },
      "execution_count": null,
      "outputs": []
    },
    {
      "cell_type": "code",
      "source": [
        "# define Python user-defined exceptions\n",
        "class InvalidAgeException(Exception):\n",
        "\"Raised when the input value is less than 19\"\n",
        "pass\n",
        "    \n",
        "    Valid age = (<19):\n",
        "try:\n",
        "     input_num = int(input(\"Enter a number: \"))\n",
        "     if input_num < lower_num:\n",
        "      raise InvalidAgeException\n",
        "     else:\n",
        "      print(\"Eligible to Vote\")\n",
        "except InvalidAgeException:\n",
        "    print(\"Exception occurred: Invalid Age\")"
      ],
      "metadata": {
        "id": "gmIXT3WHP1_B",
        "outputId": "c9146d9c-65e8-4e0f-c597-c93be9e5f95b",
        "colab": {
          "base_uri": "https://localhost:8080/",
          "height": 130
        }
      },
      "execution_count": null,
      "outputs": [
        {
          "output_type": "error",
          "ename": "IndentationError",
          "evalue": "ignored",
          "traceback": [
            "\u001b[0;36m  File \u001b[0;32m\"<ipython-input-53-49d62758e26f>\"\u001b[0;36m, line \u001b[0;32m3\u001b[0m\n\u001b[0;31m    \"Raised when the input value is less than 19\"\u001b[0m\n\u001b[0m    ^\u001b[0m\n\u001b[0;31mIndentationError\u001b[0m\u001b[0;31m:\u001b[0m expected an indented block after class definition on line 2\n"
          ]
        }
      ]
    },
    {
      "cell_type": "code",
      "source": [
        "# Gender\n",
        "class InvalidGenderException(Exception):\n",
        "    \"Raised when the input value is not F or M\"\n",
        "  pass\n",
        "\n",
        "  Gender=('M','F')\n",
        "  try:\n",
        "    "
      ],
      "metadata": {
        "id": "V9E_DIJaQoQ3"
      },
      "execution_count": null,
      "outputs": []
    },
    {
      "cell_type": "code",
      "source": [
        "class InvalidGenderException(Exception):\n",
        "    \"\"\"Raised when the input value is not 'F' or 'M'\"\"\"\n",
        "    pass\n",
        "\n",
        "def validate_gender(gender):\n",
        "    if gender not in ('F', 'M'):\n",
        "        raise InvalidGenderException(\"Invalid gender: {}. Gender must be 'F' or 'M'.\".format(gender))\n",
        "    else:\n",
        "        print(\"Valid gender:\", gender)\n",
        "\n",
        "try:\n",
        "    gender = input(\"Enter your gender (F/M): \")\n",
        "    validate_gender(gender)\n",
        "except InvalidGenderException as e:\n",
        "    print(e)\n"
      ],
      "metadata": {
        "id": "toYmLY_4SZzW",
        "outputId": "a2aaf5d6-a5a4-498d-a84b-28022a31befb",
        "colab": {
          "base_uri": "https://localhost:8080/"
        }
      },
      "execution_count": null,
      "outputs": [
        {
          "output_type": "stream",
          "name": "stdout",
          "text": [
            "Enter your gender (F/M): M\n",
            "Valid gender: M\n"
          ]
        }
      ]
    },
    {
      "cell_type": "code",
      "source": [],
      "metadata": {
        "id": "Xed5ze9-c7LI"
      },
      "execution_count": null,
      "outputs": []
    },
    {
      "cell_type": "code",
      "source": [],
      "metadata": {
        "id": "GGliAi96c7Z6"
      },
      "execution_count": null,
      "outputs": []
    },
    {
      "cell_type": "code",
      "source": [
        "# 2nd \n",
        "# Write a Python program to create a Vehicle class with max_speed and mileage instance attributes.\n",
        "class Vehicle:\n",
        "  def __init__(self, max_speed, mileage):\n",
        "    self.max_speed = max_speed\n",
        "    self.mileage = mileage\n",
        "\n",
        "  def display_info(self):\n",
        "    print('The speed of vehicle is', self.max_speed, 'and the milage is',self.mileage) \n",
        "\n",
        "car = Vehicle(80,1000)\n",
        "car.display_info()   \n"
      ],
      "metadata": {
        "colab": {
          "base_uri": "https://localhost:8080/"
        },
        "id": "QQHgPg5Zc7-w",
        "outputId": "5fe59386-f63d-4bb9-f0d9-fa8d588b74a3"
      },
      "execution_count": null,
      "outputs": [
        {
          "output_type": "stream",
          "name": "stdout",
          "text": [
            "The speed of vehicle is 80 and the milage is 1000\n"
          ]
        }
      ]
    },
    {
      "cell_type": "code",
      "source": [
        "# Create a child class Bus that will inherit all of the variables and methods of the Vehicle class\n",
        "class Vehicle:\n",
        "  def __init__(self, max_speed, mileage):\n",
        "    self.max_speed = max_speed\n",
        "    self.mileage = mileage\n",
        "\n",
        "  def display_info(self):\n",
        "    print('The speed of vehicle is', self.max_speed, 'and the milage is',self.mileage)\n",
        "\n",
        "class Bus(Vehicle):\n",
        "  pass\n",
        "\n",
        "bus_obj = Bus(60,10000)\n",
        "print(dir(bus_obj))\n",
        "bus_obj.display_info()  "
      ],
      "metadata": {
        "colab": {
          "base_uri": "https://localhost:8080/"
        },
        "id": "kL9LqDGffW9k",
        "outputId": "88d28bb7-1777-4436-bde3-b2dfd55471a3"
      },
      "execution_count": null,
      "outputs": [
        {
          "output_type": "stream",
          "name": "stdout",
          "text": [
            "['__class__', '__delattr__', '__dict__', '__dir__', '__doc__', '__eq__', '__format__', '__ge__', '__getattribute__', '__gt__', '__hash__', '__init__', '__init_subclass__', '__le__', '__lt__', '__module__', '__ne__', '__new__', '__reduce__', '__reduce_ex__', '__repr__', '__setattr__', '__sizeof__', '__str__', '__subclasshook__', '__weakref__', 'display_info', 'max_speed', 'mileage']\n",
            "The speed of vehicle is 60 and the milage is 10000\n"
          ]
        }
      ]
    },
    {
      "cell_type": "code",
      "source": [
        "# Create a Bus class that inherits from the Vehicle class. Give the capacity argument of Bus.seating_capacity() a default value of 50.\n",
        "class Vehicle:\n",
        "  def __init__(self, max_speed, mileage,capacity):\n",
        "        self.max_speed = max_speed\n",
        "        self.mileage = mileage\n",
        "        self.capacity = capacity\n",
        "\n",
        "  def display_info(self):\n",
        "    print(\"max Speed:\",self.max_speed)\n",
        "    print(\"mileage:\",self.mileage)\n",
        "\n",
        "class Bus(Vehicle):\n",
        "  def seating_capacity(self):\n",
        "    capacity = 50\n",
        "    print(\"seating capacity:\",self.capacity)\n",
        "\n",
        "bus_obj = Bus(80,1000,50)\n",
        "bus_obj.display_info()\n",
        "bus_obj.seating_capacity()      "
      ],
      "metadata": {
        "colab": {
          "base_uri": "https://localhost:8080/"
        },
        "id": "bKG0uG8bj8aF",
        "outputId": "379fc508-136f-41c9-d156-cb203736c991"
      },
      "execution_count": null,
      "outputs": [
        {
          "output_type": "stream",
          "name": "stdout",
          "text": [
            "max Speed: 80\n",
            "mileage: 1000\n",
            "seating capacity: 50\n"
          ]
        }
      ]
    },
    {
      "cell_type": "code",
      "source": [
        "class Vehicle:\n",
        "\n",
        "    def __init__(self, max_speed, mileage):\n",
        "        print(\" IT CAME IN INIT FOR BASE CLASS\")\n",
        "        self.max_speed = max_speed\n",
        "        self.mileage = mileage\n",
        "    \n",
        "    def display(self):\n",
        "      print(\"Max Speed of Bus :-\",self.max_speed)\n",
        "      print(\"Milage of Bus :-\",self.mileage)\n",
        "\n",
        "class Bus(Vehicle):\n",
        "  print(\"Bus Class\")\n",
        "\n",
        "\n",
        "bus_obj=Bus(64,172)\n",
        "bus_obj.display()"
      ],
      "metadata": {
        "id": "32e-eiNFuJtE",
        "outputId": "94e9dbde-3d4a-44e5-dab6-a83eee322790",
        "colab": {
          "base_uri": "https://localhost:8080/"
        }
      },
      "execution_count": null,
      "outputs": [
        {
          "output_type": "stream",
          "name": "stdout",
          "text": [
            "Bus Class\n",
            " IT CAME IN INIT FOR BASE CLASS\n",
            "Max Speed of Bus :- 64\n",
            "Milage of Bus :- 172\n"
          ]
        }
      ]
    },
    {
      "cell_type": "code",
      "source": [
        "class Vehicle:\n",
        "    def __init__(self, max_speed, mileage):\n",
        "        print(\" IT CAME IN INIT FOR PARENT CLASS\")\n",
        "        self.max_speed = max_speed\n",
        "        self.mileage = mileage\n",
        "        \n",
        "    def display(self):\n",
        "      print(\"Max Speed of Bus :-\",self.max_speed)\n",
        "      print(\"Milage of Bus :-\",self.mileage)\n",
        "    \n",
        "    def display_capcity(self,capcity):\n",
        "      print(\"PARENT CLASS Capacity of Bus :-\",capcity)\n",
        "\n",
        "class Bus(Vehicle):\n",
        "    def __init__(self, max_speed, mileage,capacity):\n",
        "      print(\" IT CAME IN INIT FOR CHILD CLASS\")\n",
        "      capacity=50\n",
        "      super().__init__(max_speed, mileage)\n",
        "      self.capacity=capacity\n",
        "    \n",
        "    def seating_capacity(self):\n",
        "        super().display_capcity(self.capacity)\n",
        "\n",
        "        print(\"Seating capacity :-\",self.capacity)\n",
        "\n",
        "School_bus = Bus(180, 12,50)\n",
        "#School_bus.display()\n",
        "School_bus.seating_capacity()\n",
        "\n",
        "\n",
        "School_bus.capacity=100\n",
        "School_bus.seating_capacity()"
      ],
      "metadata": {
        "colab": {
          "base_uri": "https://localhost:8080/"
        },
        "id": "nE0ybx0RpCND",
        "outputId": "5842b7f3-51be-48e2-8b73-70a8c302facf"
      },
      "execution_count": null,
      "outputs": [
        {
          "output_type": "stream",
          "name": "stdout",
          "text": [
            " IT CAME IN INIT FOR CHILD CLASS\n",
            " IT CAME IN INIT FOR PARENT CLASS\n",
            "PARENT CLASS Capacity of Bus :- 50\n",
            "Seating capacity :- 50\n",
            "PARENT CLASS Capacity of Bus :- 100\n",
            "Seating capacity :- 100\n"
          ]
        }
      ]
    }
  ]
}