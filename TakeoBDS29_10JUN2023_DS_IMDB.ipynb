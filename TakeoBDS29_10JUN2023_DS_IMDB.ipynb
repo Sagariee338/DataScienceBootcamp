{
  "nbformat": 4,
  "nbformat_minor": 0,
  "metadata": {
    "colab": {
      "provenance": []
    },
    "kernelspec": {
      "name": "python3",
      "display_name": "Python 3"
    },
    "language_info": {
      "name": "python"
    }
  },
  "cells": [
    {
      "cell_type": "code",
      "execution_count": null,
      "metadata": {
        "id": "dj2foJJPoY-8"
      },
      "outputs": [],
      "source": [
        "import numpy as np\n",
        "import pandas as pd\n",
        "import matplotlib.pyplot as plt"
      ]
    },
    {
      "cell_type": "code",
      "source": [
        "path = '/content/IMDB top 1000.csv'\n",
        "imdb_df = pd.read_csv(path)\n",
        "imdb_df"
      ],
      "metadata": {
        "id": "rBKhXwO-p67q"
      },
      "execution_count": null,
      "outputs": []
    },
    {
      "cell_type": "code",
      "source": [
        "imdb_df.columns"
      ],
      "metadata": {
        "colab": {
          "base_uri": "https://localhost:8080/"
        },
        "id": "mX96F-bkrc2d",
        "outputId": "f3c12853-cb59-414d-c942-b3765426f4c9"
      },
      "execution_count": null,
      "outputs": [
        {
          "output_type": "execute_result",
          "data": {
            "text/plain": [
              "Index(['Unnamed: 0', 'Title', 'Certificate', 'Duration', 'Genre', 'Rate',\n",
              "       'Metascore', 'Description', 'Cast', 'Info'],\n",
              "      dtype='object')"
            ]
          },
          "metadata": {},
          "execution_count": 20
        }
      ]
    },
    {
      "cell_type": "code",
      "source": [
        "# pandas.DataFrame.style\n",
        "\n",
        "# Returns a Styler object.\n",
        "\n",
        "# Contains methods for building a styled HTML representation of the DataFrame.\n",
        "\n",
        "imdb_df.style"
      ],
      "metadata": {
        "id": "Qm9Yi0CDrj1B"
      },
      "execution_count": null,
      "outputs": []
    },
    {
      "cell_type": "code",
      "source": [
        "# pandas.DataFrame.to_markdown\n",
        "\n",
        "# Print DataFrame in Markdown-friendly format.\n",
        "\n",
        "df = pd.DataFrame(\n",
        "    data={\"animal_1\": [\"elk\", \"pig\"], \"animal_2\": [\"dog\", \"quetzal\"]}\n",
        ")\n",
        "\n",
        "print(df.to_markdown())\n",
        "print(df.to_markdown(tablefmt=\"grid\"))\n",
        "\n",
        "print(imdb_df.to_markdown(tablefmt='grid'))"
      ],
      "metadata": {
        "id": "2CFlpkm2r0Y5"
      },
      "execution_count": null,
      "outputs": []
    },
    {
      "cell_type": "code",
      "source": [
        "# pandas.DataFrame.to_clipboard\n",
        "\n"
      ],
      "metadata": {
        "id": "zV7oNzYwtTTK"
      },
      "execution_count": null,
      "outputs": []
    },
    {
      "cell_type": "code",
      "source": [
        "# pandas.DataFrame.to_string\n",
        "\n",
        "imdb_df.to_string()"
      ],
      "metadata": {
        "id": "64oQyV-zt8Tn"
      },
      "execution_count": null,
      "outputs": []
    },
    {
      "cell_type": "code",
      "source": [
        "# pandas.DataFrame.to_records\n",
        "\n",
        "imdb_df.to_records()"
      ],
      "metadata": {
        "id": "NArw5gnduVJI"
      },
      "execution_count": null,
      "outputs": []
    },
    {
      "cell_type": "code",
      "source": [
        "# pandas.DataFrame.to_gbq\n",
        "\n"
      ],
      "metadata": {
        "id": "ArZhuttvul73"
      },
      "execution_count": null,
      "outputs": []
    },
    {
      "cell_type": "code",
      "source": [
        "# pandas.DataFrame.to_stata\n",
        "\n"
      ],
      "metadata": {
        "id": "5kzRB4Xvu4S_"
      },
      "execution_count": null,
      "outputs": []
    },
    {
      "cell_type": "code",
      "source": [
        "# pandas.DataFrame.to_latex\n",
        "\n",
        "# Render object to a LaTeX tabular, longtable, or nested table.\n",
        "\n",
        "imdb_df.to_latex(index=False,\n",
        "                  formatters={\"name\": str.upper},\n",
        "                  float_format=\"{:.1f}\".format,\n",
        ")"
      ],
      "metadata": {
        "id": "_c87j7JrwjrC"
      },
      "execution_count": null,
      "outputs": []
    },
    {
      "cell_type": "code",
      "source": [
        "# pandas.DataFrame.to_feather\n",
        "\n"
      ],
      "metadata": {
        "id": "9WiKUztfw9hX"
      },
      "execution_count": null,
      "outputs": []
    },
    {
      "cell_type": "code",
      "source": [
        "# pandas.DataFrame.to_html\n",
        "\n",
        "imdb_df.to_html()"
      ],
      "metadata": {
        "id": "Zg9QK7NMxC6f"
      },
      "execution_count": null,
      "outputs": []
    },
    {
      "cell_type": "code",
      "source": [
        "imdb_df.columns"
      ],
      "metadata": {
        "colab": {
          "base_uri": "https://localhost:8080/"
        },
        "id": "oGI1zM043U6_",
        "outputId": "a6b12311-d325-414a-df66-c725b984d440"
      },
      "execution_count": null,
      "outputs": [
        {
          "output_type": "execute_result",
          "data": {
            "text/plain": [
              "Index(['Unnamed: 0', 'Title', 'Certificate', 'Duration', 'Genre', 'Rate',\n",
              "       'Metascore', 'Description', 'Cast', 'Info'],\n",
              "      dtype='object')"
            ]
          },
          "metadata": {},
          "execution_count": 25
        }
      ]
    },
    {
      "cell_type": "code",
      "source": [
        "imdb_df.dtypes"
      ],
      "metadata": {
        "colab": {
          "base_uri": "https://localhost:8080/"
        },
        "id": "6eH4Me2i3q1I",
        "outputId": "7e44fe69-a3f1-4b98-d8de-8fc61fcdc093"
      },
      "execution_count": null,
      "outputs": [
        {
          "output_type": "execute_result",
          "data": {
            "text/plain": [
              "Unnamed: 0       int64\n",
              "Title           object\n",
              "Certificate     object\n",
              "Duration        object\n",
              "Genre           object\n",
              "Rate           float64\n",
              "Metascore      float64\n",
              "Description     object\n",
              "Cast            object\n",
              "Info            object\n",
              "dtype: object"
            ]
          },
          "metadata": {},
          "execution_count": 30
        }
      ]
    },
    {
      "cell_type": "code",
      "source": [
        "imdb_df[imdb_df['Rate'] > 3]"
      ],
      "metadata": {
        "id": "pQviLA6hxUGH"
      },
      "execution_count": null,
      "outputs": []
    }
  ]
}