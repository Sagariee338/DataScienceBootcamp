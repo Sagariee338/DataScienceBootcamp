{
  "nbformat": 4,
  "nbformat_minor": 0,
  "metadata": {
    "colab": {
      "provenance": [],
      "toc_visible": true
    },
    "kernelspec": {
      "name": "python3",
      "display_name": "Python 3"
    },
    "language_info": {
      "name": "python"
    }
  },
  "cells": [
    {
      "cell_type": "code",
      "execution_count": null,
      "metadata": {
        "colab": {
          "base_uri": "https://localhost:8080/"
        },
        "id": "NK8YbOelcMkO",
        "outputId": "1a5e5310-ddde-464d-f91b-f54b91a04de5"
      },
      "outputs": [
        {
          "output_type": "stream",
          "name": "stdout",
          "text": [
            "After Swapping:\n",
            "num1= 10\n",
            "num2= 13\n"
          ]
        }
      ],
      "source": [
        "# Swap two numbers using third variable\n",
        "num1 = 13\n",
        "num2 = 10\n",
        "temp = num1\n",
        "num1 = num2\n",
        "num2 = temp\n",
        "print(\"After Swapping:\")\n",
        "print(\"num1=\",num1)\n",
        "print(\"num2=\",num2)\n"
      ]
    },
    {
      "cell_type": "code",
      "source": [
        "# Swap two numbers without using third variable\n",
        "num1 = 10\n",
        "num2 = 20\n",
        "num1 = num1+num2\n",
        "num2 = num1-num2\n",
        "num1 = num1-num2\n",
        "print(\"After Swapping:\")\n",
        "print(\"num1=\",num1)\n",
        "print(\"num2=\",num2)\n"
      ],
      "metadata": {
        "colab": {
          "base_uri": "https://localhost:8080/"
        },
        "id": "4OnarszwgEAr",
        "outputId": "b2ed76d9-29bf-47c2-9e56-fc3a9b775e88"
      },
      "execution_count": null,
      "outputs": [
        {
          "output_type": "stream",
          "name": "stdout",
          "text": [
            "After Swapping:\n",
            "num1= 20\n",
            "num2= 10\n"
          ]
        }
      ]
    },
    {
      "cell_type": "code",
      "source": [
        "# Remove duplicate elements from a list without converting to tuple"
      ],
      "metadata": {
        "id": "nKylb_umhD1x"
      },
      "execution_count": null,
      "outputs": []
    },
    {
      "cell_type": "code",
      "source": [
        "# Write a program to find greatest common divisor (GCD) or highest common factor (HCF) of given two numbers\n",
        "def gcd(a, b):\n",
        "    while b != 0:\n",
        "        temp = b\n",
        "        b = a % b\n",
        "        a = temp\n",
        "    return a\n",
        "\n",
        "num1 = int(input(\"Enter the first number: \"))\n",
        "num2 = int(input(\"Enter the second number: \"))\n",
        "\n",
        "result = gcd(num1, num2)\n",
        "\n",
        "print(\"The GCD or HCF of\", num1, \"and\", num2, \"is:\", result)\n"
      ],
      "metadata": {
        "colab": {
          "base_uri": "https://localhost:8080/"
        },
        "id": "fKxI_BAPK6VV",
        "outputId": "1e170b26-840c-4fbe-bc14-358f4e79abb3"
      },
      "execution_count": null,
      "outputs": [
        {
          "output_type": "stream",
          "name": "stdout",
          "text": [
            "Enter the first number: 4\n",
            "Enter the second number: 10\n",
            "The GCD or HCF of 4 and 10 is: 2\n"
          ]
        }
      ]
    },
    {
      "cell_type": "code",
      "source": [
        "#Write a loop to print following series 10, 20, 30,  …………………, 300\n",
        "for i in range(1, 31):\n",
        "    print(i * 10)\n"
      ],
      "metadata": {
        "colab": {
          "base_uri": "https://localhost:8080/"
        },
        "id": "q6ObVn9MLruR",
        "outputId": "0160d9f1-6081-4bbd-e58f-d15c0670314f"
      },
      "execution_count": null,
      "outputs": [
        {
          "output_type": "stream",
          "name": "stdout",
          "text": [
            "10\n",
            "20\n",
            "30\n",
            "40\n",
            "50\n",
            "60\n",
            "70\n",
            "80\n",
            "90\n",
            "100\n",
            "110\n",
            "120\n",
            "130\n",
            "140\n",
            "150\n",
            "160\n",
            "170\n",
            "180\n",
            "190\n",
            "200\n",
            "210\n",
            "220\n",
            "230\n",
            "240\n",
            "250\n",
            "260\n",
            "270\n",
            "280\n",
            "290\n",
            "300\n"
          ]
        }
      ]
    },
    {
      "cell_type": "code",
      "source": [
        "#Write a loop to print following series 105,98,91,………………………,7\n",
        "for i in range(105, 6, -7):\n",
        "    print(i)\n"
      ],
      "metadata": {
        "colab": {
          "base_uri": "https://localhost:8080/"
        },
        "id": "pTFPnymVMUQB",
        "outputId": "cd5c21c4-be04-42de-c08b-a3be7211212e"
      },
      "execution_count": null,
      "outputs": [
        {
          "output_type": "stream",
          "name": "stdout",
          "text": [
            "105\n",
            "98\n",
            "91\n",
            "84\n",
            "77\n",
            "70\n",
            "63\n",
            "56\n",
            "49\n",
            "42\n",
            "35\n",
            "28\n",
            "21\n",
            "14\n",
            "7\n"
          ]
        }
      ]
    },
    {
      "cell_type": "code",
      "source": [
        "# Here's a program in Python that takes a number as input and prints the corresponding number names of its digits:"
      ],
      "metadata": {
        "id": "t6k9StttMtTI"
      },
      "execution_count": null,
      "outputs": []
    },
    {
      "cell_type": "code",
      "source": [
        "# Write a program to print Fibonacci series till n terms take n =50\n",
        "def print_fibonacci_series(n):\n",
        "    \n",
        "    num1 = 0\n",
        "    num2 = 1\n",
        "    \n",
        "  \n",
        "    print(num1, end=\", \")\n",
        "    print(num2, end=\", \")\n",
        "\n",
        "  \n",
        "    for _ in range(2, n):\n",
        "        next_num = num1 + num2\n",
        "        print(next_num, end=\", \")\n",
        "        num1 = num2\n",
        "        num2 = next_num\n",
        "\n",
        "n = 50\n",
        "print_fibonacci_series(n)\n"
      ],
      "metadata": {
        "colab": {
          "base_uri": "https://localhost:8080/"
        },
        "id": "o8oarI4bNA2M",
        "outputId": "2a192246-3b79-4757-d39b-96d3a3ae8f2c"
      },
      "execution_count": null,
      "outputs": [
        {
          "output_type": "stream",
          "name": "stdout",
          "text": [
            "0, 1, 1, 2, 3, 5, 8, 13, 21, 34, 55, 89, 144, 233, 377, 610, 987, 1597, 2584, 4181, 6765, 10946, 17711, 28657, 46368, 75025, 121393, 196418, 317811, 514229, 832040, 1346269, 2178309, 3524578, 5702887, 9227465, 14930352, 24157817, 39088169, 63245986, 102334155, 165580141, 267914296, 433494437, 701408733, 1134903170, 1836311903, 2971215073, 4807526976, 7778742049, "
          ]
        }
      ]
    },
    {
      "cell_type": "code",
      "source": [
        "#Write a program to print factorial of a number\n",
        "def factorial(n):\n",
        "    if n == 0:\n",
        "        return 1\n",
        "    else:\n",
        "        return n * factorial(n - 1)\n",
        "\n",
        "number = int(input(\"Enter a number: \"))\n",
        "result = factorial(number)\n",
        "print(f\"The factorial of {number} is: {result}\")\n"
      ],
      "metadata": {
        "colab": {
          "base_uri": "https://localhost:8080/"
        },
        "id": "JpnHMBTYNdFt",
        "outputId": "f48b599d-d117-4bdb-a071-9c7c972f87f7"
      },
      "execution_count": null,
      "outputs": [
        {
          "output_type": "stream",
          "name": "stdout",
          "text": [
            "Enter a number: 20\n",
            "The factorial of 20 is: 2432902008176640000\n"
          ]
        }
      ]
    },
    {
      "cell_type": "code",
      "source": [
        "#Write a program to check if a number is Armstrong or not\n"
      ],
      "metadata": {
        "id": "7uVsSZTsNvDv"
      },
      "execution_count": null,
      "outputs": []
    },
    {
      "cell_type": "code",
      "source": [
        "#Write a program to convert binary to decimal\n",
        "def binary_to_decimal(binary):\n",
        "    decimal = 0\n",
        "    power = 0\n",
        "    \n",
        "    for digit in reversed(binary):\n",
        "        decimal += int(digit) * (2 ** power)\n",
        "        power += 1\n",
        "    \n",
        "    return decimal\n",
        "\n",
        "binary_number = input(\"Enter a binary number: \")\n",
        "decimal_number = binary_to_decimal(binary_number)\n",
        "print(f\"The decimal equivalent of {binary_number} is: {decimal_number}\")\n"
      ],
      "metadata": {
        "colab": {
          "base_uri": "https://localhost:8080/"
        },
        "id": "OJkLNNLhOEAl",
        "outputId": "5a6d7d4e-2a36-40f4-e2a0-5042172e49a7"
      },
      "execution_count": null,
      "outputs": [
        {
          "output_type": "stream",
          "name": "stdout",
          "text": [
            "Enter a binary number: 1\n",
            "The decimal equivalent of 1 is: 1\n"
          ]
        }
      ]
    },
    {
      "cell_type": "code",
      "source": [
        "#Write a program to convert decimal to binary\n",
        "def decimal_to_binary(decimal):\n",
        "    binary = \"\"\n",
        "\n",
        "    if decimal == 0:\n",
        "        return \"0\"\n",
        "    \n",
        "    while decimal > 0:\n",
        "        binary = str(decimal % 2) + binary\n",
        "        decimal //= 2\n",
        "    \n",
        "    return binary\n",
        "\n",
        "decimal_number = int(input(\"Enter a decimal number: \"))\n",
        "binary_number = decimal_to_binary(decimal_number)\n",
        "print(f\"The binary equivalent of {decimal_number} is: {binary_number}\")\n"
      ],
      "metadata": {
        "colab": {
          "base_uri": "https://localhost:8080/"
        },
        "id": "7f0IMAAROWYc",
        "outputId": "daf706e7-7ec8-48e2-ec9d-80e94252d06d"
      },
      "execution_count": null,
      "outputs": [
        {
          "output_type": "stream",
          "name": "stdout",
          "text": [
            "Enter a decimal number: 1\n",
            "The binary equivalent of 1 is: 1\n"
          ]
        }
      ]
    },
    {
      "cell_type": "code",
      "source": [
        "#Write a program to check if number is palindrome on not (Without converting to string)"
      ],
      "metadata": {
        "id": "G1BmRZ2zO5Gx"
      },
      "execution_count": null,
      "outputs": []
    },
    {
      "cell_type": "code",
      "source": [
        "#Write a program to print all numbers which are divisible by 13 but not by 3 between 100 and 500\n",
        "def print_numbers():\n",
        "    for number in range(100, 501):\n",
        "        if number % 13 == 0 and number % 3 != 0:\n",
        "            print(number)\n",
        "\n",
        "print(\"Numbers divisible by 13 but not by 3 between 100 and 500:\")\n",
        "print_numbers()\n"
      ],
      "metadata": {
        "colab": {
          "base_uri": "https://localhost:8080/"
        },
        "id": "ZlkALzz_PAzu",
        "outputId": "8c0ccd4e-dba4-42e4-cb7a-3b81e551a2af"
      },
      "execution_count": null,
      "outputs": [
        {
          "output_type": "stream",
          "name": "stdout",
          "text": [
            "Numbers divisible by 13 but not by 3 between 100 and 500:\n",
            "104\n",
            "130\n",
            "143\n",
            "169\n",
            "182\n",
            "208\n",
            "221\n",
            "247\n",
            "260\n",
            "286\n",
            "299\n",
            "325\n",
            "338\n",
            "364\n",
            "377\n",
            "403\n",
            "416\n",
            "442\n",
            "455\n",
            "481\n",
            "494\n"
          ]
        }
      ]
    },
    {
      "cell_type": "code",
      "source": [
        "#Write a Python program to convert temperatures to and from Celsius and Fahrenheit.\n"
      ],
      "metadata": {
        "id": "V6OvreGtPWmj"
      },
      "execution_count": null,
      "outputs": []
    },
    {
      "cell_type": "code",
      "source": [
        "#Write a Python program that takes two digits m (row) and n (column) as input and generates a two-dimensional array. The element value in the i-th row and j-th column of the array should be i*j. else it will be 0\n",
        "def generate_array(m, n):\n",
        "    array = []\n",
        "    for i in range(m):\n",
        "        row = []\n",
        "        for j in range(n):\n",
        "            if i == 0 or j == 0:\n",
        "                row.append(0)\n",
        "            else:\n",
        "                row.append(i * j)\n",
        "        array.append(row)\n",
        "    return array\n",
        "\n",
        "m = int(input(\"Enter the number of rows: \"))\n",
        "n = int(input(\"Enter the number of columns: \"))\n",
        "\n",
        "result_array = generate_array(m, n)\n",
        "print(\"Generated Array:\")\n",
        "for row in result_array:\n",
        "    print(row)\n"
      ],
      "metadata": {
        "colab": {
          "base_uri": "https://localhost:8080/"
        },
        "id": "yNDk3kfDPYNI",
        "outputId": "2d2fa3a5-7339-494f-d013-7fa4c06d3101"
      },
      "execution_count": null,
      "outputs": [
        {
          "output_type": "stream",
          "name": "stdout",
          "text": [
            "Enter the number of rows: 10\n",
            "Enter the number of columns: 20\n",
            "Generated Array:\n",
            "[0, 0, 0, 0, 0, 0, 0, 0, 0, 0, 0, 0, 0, 0, 0, 0, 0, 0, 0, 0]\n",
            "[0, 1, 2, 3, 4, 5, 6, 7, 8, 9, 10, 11, 12, 13, 14, 15, 16, 17, 18, 19]\n",
            "[0, 2, 4, 6, 8, 10, 12, 14, 16, 18, 20, 22, 24, 26, 28, 30, 32, 34, 36, 38]\n",
            "[0, 3, 6, 9, 12, 15, 18, 21, 24, 27, 30, 33, 36, 39, 42, 45, 48, 51, 54, 57]\n",
            "[0, 4, 8, 12, 16, 20, 24, 28, 32, 36, 40, 44, 48, 52, 56, 60, 64, 68, 72, 76]\n",
            "[0, 5, 10, 15, 20, 25, 30, 35, 40, 45, 50, 55, 60, 65, 70, 75, 80, 85, 90, 95]\n",
            "[0, 6, 12, 18, 24, 30, 36, 42, 48, 54, 60, 66, 72, 78, 84, 90, 96, 102, 108, 114]\n",
            "[0, 7, 14, 21, 28, 35, 42, 49, 56, 63, 70, 77, 84, 91, 98, 105, 112, 119, 126, 133]\n",
            "[0, 8, 16, 24, 32, 40, 48, 56, 64, 72, 80, 88, 96, 104, 112, 120, 128, 136, 144, 152]\n",
            "[0, 9, 18, 27, 36, 45, 54, 63, 72, 81, 90, 99, 108, 117, 126, 135, 144, 153, 162, 171]\n"
          ]
        }
      ]
    },
    {
      "cell_type": "code",
      "source": [
        "#Write a Python program that accepts a string and calculates the number of digits and letters.\n",
        "#Sample Data: Python 3.2\n",
        "#Expected Output: \n",
        "#Letters 6\n",
        "#Digits 2\n",
        "def count_digits_letters(string):\n",
        "    num_digits = 0\n",
        "    num_letters = 0\n",
        "\n",
        "    for char in string:\n",
        "        if char.isdigit():\n",
        "            num_digits += 1\n",
        "        elif char.isalpha():\n",
        "            num_letters += 1\n",
        "\n",
        "    return num_digits, num_letters\n",
        "\n",
        "string = input(\"Enter a string: \")\n",
        "digits, letters = count_digits_letters(string)\n",
        "print(f\"Letters: {letters}\")\n",
        "print(f\"Digits: {digits}\")\n",
        "\n"
      ],
      "metadata": {
        "colab": {
          "base_uri": "https://localhost:8080/"
        },
        "id": "uRrKDaJ5PyD1",
        "outputId": "83851da6-f463-426b-9b80-1be79362a07f"
      },
      "execution_count": null,
      "outputs": [
        {
          "output_type": "stream",
          "name": "stdout",
          "text": [
            "Enter a string: 'Hello World' ' 1 2 3\n",
            "Letters: 10\n",
            "Digits: 3\n"
          ]
        }
      ]
    }
  ]
}